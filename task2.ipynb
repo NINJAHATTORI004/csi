{
  "nbformat": 4,
  "nbformat_minor": 0,
  "metadata": {
    "colab": {
      "provenance": [],
      "authorship_tag": "ABX9TyOU87zlvDVQLh5hHKSOLZOZ",
      "include_colab_link": true
    },
    "kernelspec": {
      "name": "python3",
      "display_name": "Python 3"
    },
    "language_info": {
      "name": "python"
    }
  },
  "cells": [
    {
      "cell_type": "markdown",
      "metadata": {
        "id": "view-in-github",
        "colab_type": "text"
      },
      "source": [
        "<a href=\"https://colab.research.google.com/github/NINJAHATTORI004/csi/blob/main/task2.ipynb\" target=\"_parent\"><img src=\"https://colab.research.google.com/assets/colab-badge.svg\" alt=\"Open In Colab\"/></a>"
      ]
    },
    {
      "cell_type": "code",
      "execution_count": null,
      "metadata": {
        "id": "TBfkFTIUiUUH",
        "outputId": "cde29017-ca34-4182-8717-fdd52907baf8",
        "colab": {
          "base_uri": "https://localhost:8080/"
        }
      },
      "outputs": [
        {
          "output_type": "stream",
          "name": "stdout",
          "text": [
            "Adding nodes:\n",
            "10 -> 20 -> 30 -> 40 -> None\n",
            "\n",
            "Deleting 3rd node:\n",
            "Deleted node with data: 30\n",
            "10 -> 20 -> 40 -> None\n",
            "\n",
            "Deleting 1st node:\n",
            "Deleted node with data: 10\n",
            "20 -> 40 -> None\n",
            "\n",
            "Attempting to delete 5th node (out of range):\n",
            "Error: Index out of range.\n",
            "\n",
            "Attempting to delete from empty list:\n",
            "Error: Cannot delete from an empty list.\n"
          ]
        }
      ],
      "source": [
        "class Node:\n",
        "    def __init__(self, data):\n",
        "        self.data = data\n",
        "        self.next = None\n",
        "\n",
        "\n",
        "class LinkedList:\n",
        "    def __init__(self):\n",
        "        self.head = None\n",
        "\n",
        "    def add_node(self, data):\n",
        "        \"\"\"Add a node to the end of the list.\"\"\"\n",
        "        new_node = Node(data)\n",
        "        if not self.head:\n",
        "            self.head = new_node\n",
        "            return\n",
        "        # Traverse to the end and append\n",
        "        current = self.head\n",
        "        while current.next:\n",
        "            current = current.next\n",
        "        current.next = new_node\n",
        "\n",
        "    def print_list(self):\n",
        "        \"\"\"Print all elements of the list.\"\"\"\n",
        "        if not self.head:\n",
        "            print(\"List is empty.\")\n",
        "            return\n",
        "        current = self.head\n",
        "        while current:\n",
        "            print(current.data, end=\" -> \")\n",
        "            current = current.next\n",
        "        print(\"None\")\n",
        "\n",
        "    def delete_nth_node(self, n):\n",
        "        \"\"\"Delete the nth node (1-based index).\"\"\"\n",
        "        if not self.head:\n",
        "            raise Exception(\"Cannot delete from an empty list.\")\n",
        "        if n <= 0:\n",
        "            raise IndexError(\"Index must be 1 or greater.\")\n",
        "\n",
        "        if n == 1:\n",
        "            # Delete head node\n",
        "            deleted_data = self.head.data\n",
        "            self.head = self.head.next\n",
        "            print(f\"Deleted node with data: {deleted_data}\")\n",
        "            return\n",
        "\n",
        "        # Traverse to the node just before the one to delete\n",
        "        current = self.head\n",
        "        count = 1\n",
        "        while current and count < n - 1:\n",
        "            current = current.next\n",
        "            count += 1\n",
        "\n",
        "        if not current or not current.next:\n",
        "            raise IndexError(\"Index out of range.\")\n",
        "\n",
        "        deleted_data = current.next.data\n",
        "        current.next = current.next.next\n",
        "        print(f\"Deleted node with data: {deleted_data}\")\n",
        "\n",
        "\n",
        "# Sample test\n",
        "if __name__ == \"__main__\":\n",
        "    ll = LinkedList()\n",
        "\n",
        "    print(\"Adding nodes:\")\n",
        "    ll.add_node(10)\n",
        "    ll.add_node(20)\n",
        "    ll.add_node(30)\n",
        "    ll.add_node(40)\n",
        "    ll.print_list()  # Should print: 10 -> 20 -> 30 -> 40 -> None\n",
        "\n",
        "    print(\"\\nDeleting 3rd node:\")\n",
        "    ll.delete_nth_node(3)\n",
        "    ll.print_list()  # Should print: 10 -> 20 -> 40 -> None\n",
        "\n",
        "    print(\"\\nDeleting 1st node:\")\n",
        "    ll.delete_nth_node(1)\n",
        "    ll.print_list()  # Should print: 20 -> 40 -> None\n",
        "\n",
        "    print(\"\\nAttempting to delete 5th node (out of range):\")\n",
        "    try:\n",
        "        ll.delete_nth_node(5)\n",
        "    except Exception as e:\n",
        "        print(\"Error:\", e)\n",
        "\n",
        "    print(\"\\nAttempting to delete from empty list:\")\n",
        "    ll2 = LinkedList()\n",
        "    try:\n",
        "        ll2.delete_nth_node(1)\n",
        "    except Exception as e:\n",
        "        print(\"Error:\", e)\n"
      ]
    }
  ]
}