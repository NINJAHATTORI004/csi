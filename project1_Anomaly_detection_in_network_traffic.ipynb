{
  "metadata": {
    "kernelspec": {
      "language": "python",
      "display_name": "Python 3",
      "name": "python3"
    },
    "language_info": {
      "name": "python",
      "version": "3.10.14",
      "mimetype": "text/x-python",
      "codemirror_mode": {
        "name": "ipython",
        "version": 3
      },
      "pygments_lexer": "ipython3",
      "nbconvert_exporter": "python",
      "file_extension": ".py"
    },
    "kaggle": {
      "accelerator": "none",
      "dataSources": [
        {
          "sourceId": 208170,
          "sourceType": "datasetVersion",
          "datasetId": 90131
        }
      ],
      "dockerImageVersionId": 30787,
      "isInternetEnabled": true,
      "language": "python",
      "sourceType": "notebook",
      "isGpuEnabled": false
    },
    "colab": {
      "provenance": [],
      "include_colab_link": true
    }
  },
  "nbformat_minor": 0,
  "nbformat": 4,
  "cells": [
    {
      "cell_type": "markdown",
      "metadata": {
        "id": "view-in-github",
        "colab_type": "text"
      },
      "source": [
        "<a href=\"https://colab.research.google.com/github/NINJAHATTORI004/csi/blob/main/project1_Anomaly_detection_in_network_traffic.ipynb\" target=\"_parent\"><img src=\"https://colab.research.google.com/assets/colab-badge.svg\" alt=\"Open In Colab\"/></a>"
      ]
    },
    {
      "source": [
        "\n",
        "import kagglehub\n",
        "galaxyh_kdd_cup_1999_data_path = kagglehub.dataset_download('galaxyh/kdd-cup-1999-data')\n",
        "\n",
        "print('Data source import complete.')\n"
      ],
      "metadata": {
        "colab": {
          "base_uri": "https://localhost:8080/"
        },
        "id": "yLg_Co0xqzb8",
        "outputId": "d8ece586-11d2-492e-e532-b3e3aca05ac0"
      },
      "cell_type": "code",
      "outputs": [
        {
          "output_type": "stream",
          "name": "stdout",
          "text": [
            "Warning: Looks like you're using an outdated `kagglehub` version (installed: 0.3.10), please consider upgrading to the latest version (0.3.12).\n",
            "Downloading from https://www.kaggle.com/api/v1/datasets/download/galaxyh/kdd-cup-1999-data?dataset_version_number=1...\n"
          ]
        },
        {
          "output_type": "stream",
          "name": "stderr",
          "text": [
            "100%|██████████| 87.8M/87.8M [00:01<00:00, 83.0MB/s]"
          ]
        },
        {
          "output_type": "stream",
          "name": "stdout",
          "text": [
            "Extracting files...\n"
          ]
        },
        {
          "output_type": "stream",
          "name": "stderr",
          "text": [
            "\n"
          ]
        },
        {
          "output_type": "stream",
          "name": "stdout",
          "text": [
            "Data source import complete.\n"
          ]
        }
      ],
      "execution_count": 1
    },
    {
      "cell_type": "code",
      "source": [
        "\n",
        "\n",
        "import numpy as np # linear algebra\n",
        "import pandas as pd # data processing, CSV file I/O (e.g. pd.read_csv)\n",
        "\n",
        "# Input data files are available in the read-only \"../input/\" directory\n",
        "# For example, running this (by clicking run or pressing Shift+Enter) will list all files under the input directory\n",
        "\n",
        "import os\n",
        "for dirname, _, filenames in os.walk('/kaggle/input'):\n",
        "    for filename in filenames:\n",
        "        print(os.path.join(dirname, filename))\n",
        "\n",
        "# You can write up to 20GB to the current directory (/kaggle/working/) that gets preserved as output when you create a version using \"Save & Run All\"\n",
        "# You can also write temporary files to /kaggle/temp/, but they won't be saved outside of the current session"
      ],
      "metadata": {
        "_uuid": "8f2839f25d086af736a60e9eeb907d3b93b6e0e5",
        "_cell_guid": "b1076dfc-b9ad-4769-8c92-a6c4dae69d19",
        "execution": {
          "iopub.status.busy": "2024-10-17T14:34:11.700233Z",
          "iopub.execute_input": "2024-10-17T14:34:11.700705Z",
          "iopub.status.idle": "2024-10-17T14:34:11.732133Z",
          "shell.execute_reply.started": "2024-10-17T14:34:11.700644Z",
          "shell.execute_reply": "2024-10-17T14:34:11.730941Z"
        },
        "trusted": true,
        "id": "jjh-q2UjqzcA"
      },
      "outputs": [],
      "execution_count": 2
    },
    {
      "cell_type": "markdown",
      "source": [
        "**Import Libraries**"
      ],
      "metadata": {
        "id": "RjmgCXIZqzcB"
      }
    },
    {
      "cell_type": "code",
      "source": [
        "%matplotlib inline\n",
        "import numpy as np\n",
        "import pandas as pd\n",
        "import seaborn as sns\n",
        "import matplotlib.pyplot as plt\n",
        "\n",
        "from sklearn.metrics import classification_report, confusion_matrix\n",
        "import tensorflow as tf\n",
        "import numpy as np\n",
        "\n",
        "from tensorflow.keras import layers\n",
        "import time\n",
        "\n",
        "from sklearn.model_selection import train_test_split\n",
        "from sklearn.preprocessing import LabelEncoder\n",
        "from tensorflow.keras.models import Sequential\n",
        "from tensorflow.keras.layers import Dense, LeakyReLU, BatchNormalization\n",
        "from tensorflow.keras.optimizers import Adam"
      ],
      "metadata": {
        "execution": {
          "iopub.status.busy": "2024-10-17T14:34:11.734318Z",
          "iopub.execute_input": "2024-10-17T14:34:11.734815Z",
          "iopub.status.idle": "2024-10-17T14:34:11.744657Z",
          "shell.execute_reply.started": "2024-10-17T14:34:11.734761Z",
          "shell.execute_reply": "2024-10-17T14:34:11.743466Z"
        },
        "trusted": true,
        "id": "EhxniyMvqzcD"
      },
      "outputs": [],
      "execution_count": 3
    },
    {
      "cell_type": "markdown",
      "source": [
        "**Data Loading**"
      ],
      "metadata": {
        "id": "s5dHSp3FqzcE"
      }
    },
    {
      "cell_type": "code",
      "source": [
        "data_path = '/content/corrected' #Specifies the path to the dataset.\n",
        "\n",
        "col_names = [\"duration\",\"protocol_type\",\"service\",\"flag\",\"src_bytes\",\"dst_bytes\",\"land\",\"wrong_fragment\",\"urgent\",\"hot\",\"num_failed_logins\",\"logged_in\",\n",
        "             \"num_compromised\",\"root_shell\",\"su_attempted\",\"num_root\",\"num_file_creations\",\"num_shells\",\"num_access_files\",\"num_outbound_cmds\",\n",
        "             \"is_host_login\",\"is_guest_login\",\"count\",\"srv_count\",\"serror_rate\",\"srv_serror_rate\",\"rerror_rate\",\"srv_rerror_rate\",\"same_srv_rate\",\n",
        "             \"diff_srv_rate\",\"srv_diff_host_rate\",\"dst_host_count\",\"dst_host_srv_count\",\"dst_host_same_srv_rate\",\"dst_host_diff_srv_rate\",\n",
        "             \"dst_host_same_src_port_rate\",\"dst_host_srv_diff_host_rate\",\"dst_host_serror_rate\",\"dst_host_srv_serror_rate\",\"dst_host_rerror_rate\",\n",
        "             \"dst_host_srv_rerror_rate\",\"label\"]\n",
        "\n",
        "\n",
        "df = pd.read_csv(data_path,names=col_names, index_col=False) #Reads the dataset from the CSV file into a pandas DataFrame df"
      ],
      "metadata": {
        "execution": {
          "iopub.status.busy": "2024-10-17T14:34:11.745829Z",
          "iopub.execute_input": "2024-10-17T14:34:11.746168Z",
          "iopub.status.idle": "2024-10-17T14:34:13.404239Z",
          "shell.execute_reply.started": "2024-10-17T14:34:11.746132Z",
          "shell.execute_reply": "2024-10-17T14:34:13.402989Z"
        },
        "trusted": true,
        "id": "txHjW0zjqzcF"
      },
      "outputs": [],
      "execution_count": 4
    },
    {
      "cell_type": "markdown",
      "source": [
        "**Explore Data**"
      ],
      "metadata": {
        "id": "k6_43FpuqzcF"
      }
    },
    {
      "cell_type": "code",
      "source": [
        "df.head()"
      ],
      "metadata": {
        "execution": {
          "iopub.status.busy": "2024-10-17T14:34:13.406538Z",
          "iopub.execute_input": "2024-10-17T14:34:13.407443Z",
          "iopub.status.idle": "2024-10-17T14:34:13.432803Z",
          "shell.execute_reply.started": "2024-10-17T14:34:13.407397Z",
          "shell.execute_reply": "2024-10-17T14:34:13.43152Z"
        },
        "trusted": true,
        "colab": {
          "base_uri": "https://localhost:8080/",
          "height": 255
        },
        "id": "5S_k3IIiqzcG",
        "outputId": "4536f241-ba5d-4b3d-e80e-5b1c34207e58"
      },
      "outputs": [
        {
          "output_type": "execute_result",
          "data": {
            "text/plain": [
              "   duration protocol_type  service flag  src_bytes  dst_bytes  land  \\\n",
              "0         0           udp  private   SF        105        146     0   \n",
              "1         0           udp  private   SF        105        146     0   \n",
              "2         0           udp  private   SF        105        146     0   \n",
              "3         0           udp  private   SF        105        146     0   \n",
              "4         0           udp  private   SF        105        146     0   \n",
              "\n",
              "   wrong_fragment  urgent  hot  ...  dst_host_srv_count  \\\n",
              "0               0       0    0  ...               254.0   \n",
              "1               0       0    0  ...               254.0   \n",
              "2               0       0    0  ...               254.0   \n",
              "3               0       0    0  ...               254.0   \n",
              "4               0       0    0  ...               254.0   \n",
              "\n",
              "   dst_host_same_srv_rate  dst_host_diff_srv_rate  \\\n",
              "0                     1.0                    0.01   \n",
              "1                     1.0                    0.01   \n",
              "2                     1.0                    0.01   \n",
              "3                     1.0                    0.01   \n",
              "4                     1.0                    0.01   \n",
              "\n",
              "   dst_host_same_src_port_rate  dst_host_srv_diff_host_rate  \\\n",
              "0                         0.00                          0.0   \n",
              "1                         0.00                          0.0   \n",
              "2                         0.00                          0.0   \n",
              "3                         0.00                          0.0   \n",
              "4                         0.01                          0.0   \n",
              "\n",
              "   dst_host_serror_rate  dst_host_srv_serror_rate  dst_host_rerror_rate  \\\n",
              "0                   0.0                       0.0                   0.0   \n",
              "1                   0.0                       0.0                   0.0   \n",
              "2                   0.0                       0.0                   0.0   \n",
              "3                   0.0                       0.0                   0.0   \n",
              "4                   0.0                       0.0                   0.0   \n",
              "\n",
              "   dst_host_srv_rerror_rate           label  \n",
              "0                       0.0         normal.  \n",
              "1                       0.0         normal.  \n",
              "2                       0.0         normal.  \n",
              "3                       0.0  snmpgetattack.  \n",
              "4                       0.0  snmpgetattack.  \n",
              "\n",
              "[5 rows x 42 columns]"
            ],
            "text/html": [
              "\n",
              "  <div id=\"df-8103dc8c-7a4d-453c-932a-70f6159e4e3a\" class=\"colab-df-container\">\n",
              "    <div>\n",
              "<style scoped>\n",
              "    .dataframe tbody tr th:only-of-type {\n",
              "        vertical-align: middle;\n",
              "    }\n",
              "\n",
              "    .dataframe tbody tr th {\n",
              "        vertical-align: top;\n",
              "    }\n",
              "\n",
              "    .dataframe thead th {\n",
              "        text-align: right;\n",
              "    }\n",
              "</style>\n",
              "<table border=\"1\" class=\"dataframe\">\n",
              "  <thead>\n",
              "    <tr style=\"text-align: right;\">\n",
              "      <th></th>\n",
              "      <th>duration</th>\n",
              "      <th>protocol_type</th>\n",
              "      <th>service</th>\n",
              "      <th>flag</th>\n",
              "      <th>src_bytes</th>\n",
              "      <th>dst_bytes</th>\n",
              "      <th>land</th>\n",
              "      <th>wrong_fragment</th>\n",
              "      <th>urgent</th>\n",
              "      <th>hot</th>\n",
              "      <th>...</th>\n",
              "      <th>dst_host_srv_count</th>\n",
              "      <th>dst_host_same_srv_rate</th>\n",
              "      <th>dst_host_diff_srv_rate</th>\n",
              "      <th>dst_host_same_src_port_rate</th>\n",
              "      <th>dst_host_srv_diff_host_rate</th>\n",
              "      <th>dst_host_serror_rate</th>\n",
              "      <th>dst_host_srv_serror_rate</th>\n",
              "      <th>dst_host_rerror_rate</th>\n",
              "      <th>dst_host_srv_rerror_rate</th>\n",
              "      <th>label</th>\n",
              "    </tr>\n",
              "  </thead>\n",
              "  <tbody>\n",
              "    <tr>\n",
              "      <th>0</th>\n",
              "      <td>0</td>\n",
              "      <td>udp</td>\n",
              "      <td>private</td>\n",
              "      <td>SF</td>\n",
              "      <td>105</td>\n",
              "      <td>146</td>\n",
              "      <td>0</td>\n",
              "      <td>0</td>\n",
              "      <td>0</td>\n",
              "      <td>0</td>\n",
              "      <td>...</td>\n",
              "      <td>254.0</td>\n",
              "      <td>1.0</td>\n",
              "      <td>0.01</td>\n",
              "      <td>0.00</td>\n",
              "      <td>0.0</td>\n",
              "      <td>0.0</td>\n",
              "      <td>0.0</td>\n",
              "      <td>0.0</td>\n",
              "      <td>0.0</td>\n",
              "      <td>normal.</td>\n",
              "    </tr>\n",
              "    <tr>\n",
              "      <th>1</th>\n",
              "      <td>0</td>\n",
              "      <td>udp</td>\n",
              "      <td>private</td>\n",
              "      <td>SF</td>\n",
              "      <td>105</td>\n",
              "      <td>146</td>\n",
              "      <td>0</td>\n",
              "      <td>0</td>\n",
              "      <td>0</td>\n",
              "      <td>0</td>\n",
              "      <td>...</td>\n",
              "      <td>254.0</td>\n",
              "      <td>1.0</td>\n",
              "      <td>0.01</td>\n",
              "      <td>0.00</td>\n",
              "      <td>0.0</td>\n",
              "      <td>0.0</td>\n",
              "      <td>0.0</td>\n",
              "      <td>0.0</td>\n",
              "      <td>0.0</td>\n",
              "      <td>normal.</td>\n",
              "    </tr>\n",
              "    <tr>\n",
              "      <th>2</th>\n",
              "      <td>0</td>\n",
              "      <td>udp</td>\n",
              "      <td>private</td>\n",
              "      <td>SF</td>\n",
              "      <td>105</td>\n",
              "      <td>146</td>\n",
              "      <td>0</td>\n",
              "      <td>0</td>\n",
              "      <td>0</td>\n",
              "      <td>0</td>\n",
              "      <td>...</td>\n",
              "      <td>254.0</td>\n",
              "      <td>1.0</td>\n",
              "      <td>0.01</td>\n",
              "      <td>0.00</td>\n",
              "      <td>0.0</td>\n",
              "      <td>0.0</td>\n",
              "      <td>0.0</td>\n",
              "      <td>0.0</td>\n",
              "      <td>0.0</td>\n",
              "      <td>normal.</td>\n",
              "    </tr>\n",
              "    <tr>\n",
              "      <th>3</th>\n",
              "      <td>0</td>\n",
              "      <td>udp</td>\n",
              "      <td>private</td>\n",
              "      <td>SF</td>\n",
              "      <td>105</td>\n",
              "      <td>146</td>\n",
              "      <td>0</td>\n",
              "      <td>0</td>\n",
              "      <td>0</td>\n",
              "      <td>0</td>\n",
              "      <td>...</td>\n",
              "      <td>254.0</td>\n",
              "      <td>1.0</td>\n",
              "      <td>0.01</td>\n",
              "      <td>0.00</td>\n",
              "      <td>0.0</td>\n",
              "      <td>0.0</td>\n",
              "      <td>0.0</td>\n",
              "      <td>0.0</td>\n",
              "      <td>0.0</td>\n",
              "      <td>snmpgetattack.</td>\n",
              "    </tr>\n",
              "    <tr>\n",
              "      <th>4</th>\n",
              "      <td>0</td>\n",
              "      <td>udp</td>\n",
              "      <td>private</td>\n",
              "      <td>SF</td>\n",
              "      <td>105</td>\n",
              "      <td>146</td>\n",
              "      <td>0</td>\n",
              "      <td>0</td>\n",
              "      <td>0</td>\n",
              "      <td>0</td>\n",
              "      <td>...</td>\n",
              "      <td>254.0</td>\n",
              "      <td>1.0</td>\n",
              "      <td>0.01</td>\n",
              "      <td>0.01</td>\n",
              "      <td>0.0</td>\n",
              "      <td>0.0</td>\n",
              "      <td>0.0</td>\n",
              "      <td>0.0</td>\n",
              "      <td>0.0</td>\n",
              "      <td>snmpgetattack.</td>\n",
              "    </tr>\n",
              "  </tbody>\n",
              "</table>\n",
              "<p>5 rows × 42 columns</p>\n",
              "</div>\n",
              "    <div class=\"colab-df-buttons\">\n",
              "\n",
              "  <div class=\"colab-df-container\">\n",
              "    <button class=\"colab-df-convert\" onclick=\"convertToInteractive('df-8103dc8c-7a4d-453c-932a-70f6159e4e3a')\"\n",
              "            title=\"Convert this dataframe to an interactive table.\"\n",
              "            style=\"display:none;\">\n",
              "\n",
              "  <svg xmlns=\"http://www.w3.org/2000/svg\" height=\"24px\" viewBox=\"0 -960 960 960\">\n",
              "    <path d=\"M120-120v-720h720v720H120Zm60-500h600v-160H180v160Zm220 220h160v-160H400v160Zm0 220h160v-160H400v160ZM180-400h160v-160H180v160Zm440 0h160v-160H620v160ZM180-180h160v-160H180v160Zm440 0h160v-160H620v160Z\"/>\n",
              "  </svg>\n",
              "    </button>\n",
              "\n",
              "  <style>\n",
              "    .colab-df-container {\n",
              "      display:flex;\n",
              "      gap: 12px;\n",
              "    }\n",
              "\n",
              "    .colab-df-convert {\n",
              "      background-color: #E8F0FE;\n",
              "      border: none;\n",
              "      border-radius: 50%;\n",
              "      cursor: pointer;\n",
              "      display: none;\n",
              "      fill: #1967D2;\n",
              "      height: 32px;\n",
              "      padding: 0 0 0 0;\n",
              "      width: 32px;\n",
              "    }\n",
              "\n",
              "    .colab-df-convert:hover {\n",
              "      background-color: #E2EBFA;\n",
              "      box-shadow: 0px 1px 2px rgba(60, 64, 67, 0.3), 0px 1px 3px 1px rgba(60, 64, 67, 0.15);\n",
              "      fill: #174EA6;\n",
              "    }\n",
              "\n",
              "    .colab-df-buttons div {\n",
              "      margin-bottom: 4px;\n",
              "    }\n",
              "\n",
              "    [theme=dark] .colab-df-convert {\n",
              "      background-color: #3B4455;\n",
              "      fill: #D2E3FC;\n",
              "    }\n",
              "\n",
              "    [theme=dark] .colab-df-convert:hover {\n",
              "      background-color: #434B5C;\n",
              "      box-shadow: 0px 1px 3px 1px rgba(0, 0, 0, 0.15);\n",
              "      filter: drop-shadow(0px 1px 2px rgba(0, 0, 0, 0.3));\n",
              "      fill: #FFFFFF;\n",
              "    }\n",
              "  </style>\n",
              "\n",
              "    <script>\n",
              "      const buttonEl =\n",
              "        document.querySelector('#df-8103dc8c-7a4d-453c-932a-70f6159e4e3a button.colab-df-convert');\n",
              "      buttonEl.style.display =\n",
              "        google.colab.kernel.accessAllowed ? 'block' : 'none';\n",
              "\n",
              "      async function convertToInteractive(key) {\n",
              "        const element = document.querySelector('#df-8103dc8c-7a4d-453c-932a-70f6159e4e3a');\n",
              "        const dataTable =\n",
              "          await google.colab.kernel.invokeFunction('convertToInteractive',\n",
              "                                                    [key], {});\n",
              "        if (!dataTable) return;\n",
              "\n",
              "        const docLinkHtml = 'Like what you see? Visit the ' +\n",
              "          '<a target=\"_blank\" href=https://colab.research.google.com/notebooks/data_table.ipynb>data table notebook</a>'\n",
              "          + ' to learn more about interactive tables.';\n",
              "        element.innerHTML = '';\n",
              "        dataTable['output_type'] = 'display_data';\n",
              "        await google.colab.output.renderOutput(dataTable, element);\n",
              "        const docLink = document.createElement('div');\n",
              "        docLink.innerHTML = docLinkHtml;\n",
              "        element.appendChild(docLink);\n",
              "      }\n",
              "    </script>\n",
              "  </div>\n",
              "\n",
              "\n",
              "<div id=\"df-7eff436f-8ce2-4b97-bc97-9548bbc2548f\">\n",
              "  <button class=\"colab-df-quickchart\" onclick=\"quickchart('df-7eff436f-8ce2-4b97-bc97-9548bbc2548f')\"\n",
              "            title=\"Suggest charts\"\n",
              "            style=\"display:none;\">\n",
              "\n",
              "<svg xmlns=\"http://www.w3.org/2000/svg\" height=\"24px\"viewBox=\"0 0 24 24\"\n",
              "     width=\"24px\">\n",
              "    <g>\n",
              "        <path d=\"M19 3H5c-1.1 0-2 .9-2 2v14c0 1.1.9 2 2 2h14c1.1 0 2-.9 2-2V5c0-1.1-.9-2-2-2zM9 17H7v-7h2v7zm4 0h-2V7h2v10zm4 0h-2v-4h2v4z\"/>\n",
              "    </g>\n",
              "</svg>\n",
              "  </button>\n",
              "\n",
              "<style>\n",
              "  .colab-df-quickchart {\n",
              "      --bg-color: #E8F0FE;\n",
              "      --fill-color: #1967D2;\n",
              "      --hover-bg-color: #E2EBFA;\n",
              "      --hover-fill-color: #174EA6;\n",
              "      --disabled-fill-color: #AAA;\n",
              "      --disabled-bg-color: #DDD;\n",
              "  }\n",
              "\n",
              "  [theme=dark] .colab-df-quickchart {\n",
              "      --bg-color: #3B4455;\n",
              "      --fill-color: #D2E3FC;\n",
              "      --hover-bg-color: #434B5C;\n",
              "      --hover-fill-color: #FFFFFF;\n",
              "      --disabled-bg-color: #3B4455;\n",
              "      --disabled-fill-color: #666;\n",
              "  }\n",
              "\n",
              "  .colab-df-quickchart {\n",
              "    background-color: var(--bg-color);\n",
              "    border: none;\n",
              "    border-radius: 50%;\n",
              "    cursor: pointer;\n",
              "    display: none;\n",
              "    fill: var(--fill-color);\n",
              "    height: 32px;\n",
              "    padding: 0;\n",
              "    width: 32px;\n",
              "  }\n",
              "\n",
              "  .colab-df-quickchart:hover {\n",
              "    background-color: var(--hover-bg-color);\n",
              "    box-shadow: 0 1px 2px rgba(60, 64, 67, 0.3), 0 1px 3px 1px rgba(60, 64, 67, 0.15);\n",
              "    fill: var(--button-hover-fill-color);\n",
              "  }\n",
              "\n",
              "  .colab-df-quickchart-complete:disabled,\n",
              "  .colab-df-quickchart-complete:disabled:hover {\n",
              "    background-color: var(--disabled-bg-color);\n",
              "    fill: var(--disabled-fill-color);\n",
              "    box-shadow: none;\n",
              "  }\n",
              "\n",
              "  .colab-df-spinner {\n",
              "    border: 2px solid var(--fill-color);\n",
              "    border-color: transparent;\n",
              "    border-bottom-color: var(--fill-color);\n",
              "    animation:\n",
              "      spin 1s steps(1) infinite;\n",
              "  }\n",
              "\n",
              "  @keyframes spin {\n",
              "    0% {\n",
              "      border-color: transparent;\n",
              "      border-bottom-color: var(--fill-color);\n",
              "      border-left-color: var(--fill-color);\n",
              "    }\n",
              "    20% {\n",
              "      border-color: transparent;\n",
              "      border-left-color: var(--fill-color);\n",
              "      border-top-color: var(--fill-color);\n",
              "    }\n",
              "    30% {\n",
              "      border-color: transparent;\n",
              "      border-left-color: var(--fill-color);\n",
              "      border-top-color: var(--fill-color);\n",
              "      border-right-color: var(--fill-color);\n",
              "    }\n",
              "    40% {\n",
              "      border-color: transparent;\n",
              "      border-right-color: var(--fill-color);\n",
              "      border-top-color: var(--fill-color);\n",
              "    }\n",
              "    60% {\n",
              "      border-color: transparent;\n",
              "      border-right-color: var(--fill-color);\n",
              "    }\n",
              "    80% {\n",
              "      border-color: transparent;\n",
              "      border-right-color: var(--fill-color);\n",
              "      border-bottom-color: var(--fill-color);\n",
              "    }\n",
              "    90% {\n",
              "      border-color: transparent;\n",
              "      border-bottom-color: var(--fill-color);\n",
              "    }\n",
              "  }\n",
              "</style>\n",
              "\n",
              "  <script>\n",
              "    async function quickchart(key) {\n",
              "      const quickchartButtonEl =\n",
              "        document.querySelector('#' + key + ' button');\n",
              "      quickchartButtonEl.disabled = true;  // To prevent multiple clicks.\n",
              "      quickchartButtonEl.classList.add('colab-df-spinner');\n",
              "      try {\n",
              "        const charts = await google.colab.kernel.invokeFunction(\n",
              "            'suggestCharts', [key], {});\n",
              "      } catch (error) {\n",
              "        console.error('Error during call to suggestCharts:', error);\n",
              "      }\n",
              "      quickchartButtonEl.classList.remove('colab-df-spinner');\n",
              "      quickchartButtonEl.classList.add('colab-df-quickchart-complete');\n",
              "    }\n",
              "    (() => {\n",
              "      let quickchartButtonEl =\n",
              "        document.querySelector('#df-7eff436f-8ce2-4b97-bc97-9548bbc2548f button');\n",
              "      quickchartButtonEl.style.display =\n",
              "        google.colab.kernel.accessAllowed ? 'block' : 'none';\n",
              "    })();\n",
              "  </script>\n",
              "</div>\n",
              "\n",
              "    </div>\n",
              "  </div>\n"
            ],
            "application/vnd.google.colaboratory.intrinsic+json": {
              "type": "dataframe",
              "variable_name": "df"
            }
          },
          "metadata": {},
          "execution_count": 5
        }
      ],
      "execution_count": 5
    },
    {
      "cell_type": "code",
      "source": [
        "df.shape"
      ],
      "metadata": {
        "execution": {
          "iopub.status.busy": "2024-10-17T14:34:13.434327Z",
          "iopub.execute_input": "2024-10-17T14:34:13.434731Z",
          "iopub.status.idle": "2024-10-17T14:34:13.447072Z",
          "shell.execute_reply.started": "2024-10-17T14:34:13.434665Z",
          "shell.execute_reply": "2024-10-17T14:34:13.44563Z"
        },
        "trusted": true,
        "colab": {
          "base_uri": "https://localhost:8080/"
        },
        "id": "39GiwvOaqzcG",
        "outputId": "75b8d0fc-ea42-4002-f1d3-64c4991a352d"
      },
      "outputs": [
        {
          "output_type": "execute_result",
          "data": {
            "text/plain": [
              "(303644, 42)"
            ]
          },
          "metadata": {},
          "execution_count": 6
        }
      ],
      "execution_count": 6
    },
    {
      "cell_type": "code",
      "source": [
        "df.dtypes"
      ],
      "metadata": {
        "execution": {
          "iopub.status.busy": "2024-10-17T14:34:13.448481Z",
          "iopub.execute_input": "2024-10-17T14:34:13.448902Z",
          "iopub.status.idle": "2024-10-17T14:34:13.464578Z",
          "shell.execute_reply.started": "2024-10-17T14:34:13.448863Z",
          "shell.execute_reply": "2024-10-17T14:34:13.463293Z"
        },
        "trusted": true,
        "colab": {
          "base_uri": "https://localhost:8080/",
          "height": 1000
        },
        "id": "gXJHUOBDqzcH",
        "outputId": "71eae9fd-90e4-42bc-c78d-0a8497cbca96"
      },
      "outputs": [
        {
          "output_type": "execute_result",
          "data": {
            "text/plain": [
              "duration                         int64\n",
              "protocol_type                   object\n",
              "service                         object\n",
              "flag                            object\n",
              "src_bytes                        int64\n",
              "dst_bytes                        int64\n",
              "land                             int64\n",
              "wrong_fragment                   int64\n",
              "urgent                           int64\n",
              "hot                              int64\n",
              "num_failed_logins                int64\n",
              "logged_in                        int64\n",
              "num_compromised                  int64\n",
              "root_shell                       int64\n",
              "su_attempted                     int64\n",
              "num_root                         int64\n",
              "num_file_creations               int64\n",
              "num_shells                       int64\n",
              "num_access_files                 int64\n",
              "num_outbound_cmds                int64\n",
              "is_host_login                    int64\n",
              "is_guest_login                   int64\n",
              "count                            int64\n",
              "srv_count                        int64\n",
              "serror_rate                    float64\n",
              "srv_serror_rate                float64\n",
              "rerror_rate                    float64\n",
              "srv_rerror_rate                float64\n",
              "same_srv_rate                  float64\n",
              "diff_srv_rate                  float64\n",
              "srv_diff_host_rate             float64\n",
              "dst_host_count                 float64\n",
              "dst_host_srv_count             float64\n",
              "dst_host_same_srv_rate         float64\n",
              "dst_host_diff_srv_rate         float64\n",
              "dst_host_same_src_port_rate    float64\n",
              "dst_host_srv_diff_host_rate    float64\n",
              "dst_host_serror_rate           float64\n",
              "dst_host_srv_serror_rate       float64\n",
              "dst_host_rerror_rate           float64\n",
              "dst_host_srv_rerror_rate       float64\n",
              "label                           object\n",
              "dtype: object"
            ],
            "text/html": [
              "<div>\n",
              "<style scoped>\n",
              "    .dataframe tbody tr th:only-of-type {\n",
              "        vertical-align: middle;\n",
              "    }\n",
              "\n",
              "    .dataframe tbody tr th {\n",
              "        vertical-align: top;\n",
              "    }\n",
              "\n",
              "    .dataframe thead th {\n",
              "        text-align: right;\n",
              "    }\n",
              "</style>\n",
              "<table border=\"1\" class=\"dataframe\">\n",
              "  <thead>\n",
              "    <tr style=\"text-align: right;\">\n",
              "      <th></th>\n",
              "      <th>0</th>\n",
              "    </tr>\n",
              "  </thead>\n",
              "  <tbody>\n",
              "    <tr>\n",
              "      <th>duration</th>\n",
              "      <td>int64</td>\n",
              "    </tr>\n",
              "    <tr>\n",
              "      <th>protocol_type</th>\n",
              "      <td>object</td>\n",
              "    </tr>\n",
              "    <tr>\n",
              "      <th>service</th>\n",
              "      <td>object</td>\n",
              "    </tr>\n",
              "    <tr>\n",
              "      <th>flag</th>\n",
              "      <td>object</td>\n",
              "    </tr>\n",
              "    <tr>\n",
              "      <th>src_bytes</th>\n",
              "      <td>int64</td>\n",
              "    </tr>\n",
              "    <tr>\n",
              "      <th>dst_bytes</th>\n",
              "      <td>int64</td>\n",
              "    </tr>\n",
              "    <tr>\n",
              "      <th>land</th>\n",
              "      <td>int64</td>\n",
              "    </tr>\n",
              "    <tr>\n",
              "      <th>wrong_fragment</th>\n",
              "      <td>int64</td>\n",
              "    </tr>\n",
              "    <tr>\n",
              "      <th>urgent</th>\n",
              "      <td>int64</td>\n",
              "    </tr>\n",
              "    <tr>\n",
              "      <th>hot</th>\n",
              "      <td>int64</td>\n",
              "    </tr>\n",
              "    <tr>\n",
              "      <th>num_failed_logins</th>\n",
              "      <td>int64</td>\n",
              "    </tr>\n",
              "    <tr>\n",
              "      <th>logged_in</th>\n",
              "      <td>int64</td>\n",
              "    </tr>\n",
              "    <tr>\n",
              "      <th>num_compromised</th>\n",
              "      <td>int64</td>\n",
              "    </tr>\n",
              "    <tr>\n",
              "      <th>root_shell</th>\n",
              "      <td>int64</td>\n",
              "    </tr>\n",
              "    <tr>\n",
              "      <th>su_attempted</th>\n",
              "      <td>int64</td>\n",
              "    </tr>\n",
              "    <tr>\n",
              "      <th>num_root</th>\n",
              "      <td>int64</td>\n",
              "    </tr>\n",
              "    <tr>\n",
              "      <th>num_file_creations</th>\n",
              "      <td>int64</td>\n",
              "    </tr>\n",
              "    <tr>\n",
              "      <th>num_shells</th>\n",
              "      <td>int64</td>\n",
              "    </tr>\n",
              "    <tr>\n",
              "      <th>num_access_files</th>\n",
              "      <td>int64</td>\n",
              "    </tr>\n",
              "    <tr>\n",
              "      <th>num_outbound_cmds</th>\n",
              "      <td>int64</td>\n",
              "    </tr>\n",
              "    <tr>\n",
              "      <th>is_host_login</th>\n",
              "      <td>int64</td>\n",
              "    </tr>\n",
              "    <tr>\n",
              "      <th>is_guest_login</th>\n",
              "      <td>int64</td>\n",
              "    </tr>\n",
              "    <tr>\n",
              "      <th>count</th>\n",
              "      <td>int64</td>\n",
              "    </tr>\n",
              "    <tr>\n",
              "      <th>srv_count</th>\n",
              "      <td>int64</td>\n",
              "    </tr>\n",
              "    <tr>\n",
              "      <th>serror_rate</th>\n",
              "      <td>float64</td>\n",
              "    </tr>\n",
              "    <tr>\n",
              "      <th>srv_serror_rate</th>\n",
              "      <td>float64</td>\n",
              "    </tr>\n",
              "    <tr>\n",
              "      <th>rerror_rate</th>\n",
              "      <td>float64</td>\n",
              "    </tr>\n",
              "    <tr>\n",
              "      <th>srv_rerror_rate</th>\n",
              "      <td>float64</td>\n",
              "    </tr>\n",
              "    <tr>\n",
              "      <th>same_srv_rate</th>\n",
              "      <td>float64</td>\n",
              "    </tr>\n",
              "    <tr>\n",
              "      <th>diff_srv_rate</th>\n",
              "      <td>float64</td>\n",
              "    </tr>\n",
              "    <tr>\n",
              "      <th>srv_diff_host_rate</th>\n",
              "      <td>float64</td>\n",
              "    </tr>\n",
              "    <tr>\n",
              "      <th>dst_host_count</th>\n",
              "      <td>float64</td>\n",
              "    </tr>\n",
              "    <tr>\n",
              "      <th>dst_host_srv_count</th>\n",
              "      <td>float64</td>\n",
              "    </tr>\n",
              "    <tr>\n",
              "      <th>dst_host_same_srv_rate</th>\n",
              "      <td>float64</td>\n",
              "    </tr>\n",
              "    <tr>\n",
              "      <th>dst_host_diff_srv_rate</th>\n",
              "      <td>float64</td>\n",
              "    </tr>\n",
              "    <tr>\n",
              "      <th>dst_host_same_src_port_rate</th>\n",
              "      <td>float64</td>\n",
              "    </tr>\n",
              "    <tr>\n",
              "      <th>dst_host_srv_diff_host_rate</th>\n",
              "      <td>float64</td>\n",
              "    </tr>\n",
              "    <tr>\n",
              "      <th>dst_host_serror_rate</th>\n",
              "      <td>float64</td>\n",
              "    </tr>\n",
              "    <tr>\n",
              "      <th>dst_host_srv_serror_rate</th>\n",
              "      <td>float64</td>\n",
              "    </tr>\n",
              "    <tr>\n",
              "      <th>dst_host_rerror_rate</th>\n",
              "      <td>float64</td>\n",
              "    </tr>\n",
              "    <tr>\n",
              "      <th>dst_host_srv_rerror_rate</th>\n",
              "      <td>float64</td>\n",
              "    </tr>\n",
              "    <tr>\n",
              "      <th>label</th>\n",
              "      <td>object</td>\n",
              "    </tr>\n",
              "  </tbody>\n",
              "</table>\n",
              "</div><br><label><b>dtype:</b> object</label>"
            ]
          },
          "metadata": {},
          "execution_count": 7
        }
      ],
      "execution_count": 7
    },
    {
      "cell_type": "markdown",
      "source": [
        "**Data Preprocessing**"
      ],
      "metadata": {
        "id": "Xim-7AJXqzcH"
      }
    },
    {
      "cell_type": "code",
      "source": [
        "df.isnull().sum()"
      ],
      "metadata": {
        "execution": {
          "iopub.status.busy": "2024-10-17T14:34:13.46604Z",
          "iopub.execute_input": "2024-10-17T14:34:13.466531Z",
          "iopub.status.idle": "2024-10-17T14:34:13.591376Z",
          "shell.execute_reply.started": "2024-10-17T14:34:13.46649Z",
          "shell.execute_reply": "2024-10-17T14:34:13.59032Z"
        },
        "trusted": true,
        "colab": {
          "base_uri": "https://localhost:8080/",
          "height": 1000
        },
        "id": "QDwUIfYRqzcI",
        "outputId": "d072206c-f893-4c64-b732-571775995513"
      },
      "outputs": [
        {
          "output_type": "execute_result",
          "data": {
            "text/plain": [
              "duration                       0\n",
              "protocol_type                  0\n",
              "service                        0\n",
              "flag                           0\n",
              "src_bytes                      0\n",
              "dst_bytes                      0\n",
              "land                           0\n",
              "wrong_fragment                 0\n",
              "urgent                         0\n",
              "hot                            0\n",
              "num_failed_logins              0\n",
              "logged_in                      0\n",
              "num_compromised                0\n",
              "root_shell                     0\n",
              "su_attempted                   0\n",
              "num_root                       0\n",
              "num_file_creations             0\n",
              "num_shells                     0\n",
              "num_access_files               0\n",
              "num_outbound_cmds              0\n",
              "is_host_login                  0\n",
              "is_guest_login                 0\n",
              "count                          0\n",
              "srv_count                      0\n",
              "serror_rate                    0\n",
              "srv_serror_rate                0\n",
              "rerror_rate                    0\n",
              "srv_rerror_rate                1\n",
              "same_srv_rate                  1\n",
              "diff_srv_rate                  1\n",
              "srv_diff_host_rate             1\n",
              "dst_host_count                 1\n",
              "dst_host_srv_count             1\n",
              "dst_host_same_srv_rate         1\n",
              "dst_host_diff_srv_rate         1\n",
              "dst_host_same_src_port_rate    1\n",
              "dst_host_srv_diff_host_rate    1\n",
              "dst_host_serror_rate           1\n",
              "dst_host_srv_serror_rate       1\n",
              "dst_host_rerror_rate           1\n",
              "dst_host_srv_rerror_rate       1\n",
              "label                          1\n",
              "dtype: int64"
            ],
            "text/html": [
              "<div>\n",
              "<style scoped>\n",
              "    .dataframe tbody tr th:only-of-type {\n",
              "        vertical-align: middle;\n",
              "    }\n",
              "\n",
              "    .dataframe tbody tr th {\n",
              "        vertical-align: top;\n",
              "    }\n",
              "\n",
              "    .dataframe thead th {\n",
              "        text-align: right;\n",
              "    }\n",
              "</style>\n",
              "<table border=\"1\" class=\"dataframe\">\n",
              "  <thead>\n",
              "    <tr style=\"text-align: right;\">\n",
              "      <th></th>\n",
              "      <th>0</th>\n",
              "    </tr>\n",
              "  </thead>\n",
              "  <tbody>\n",
              "    <tr>\n",
              "      <th>duration</th>\n",
              "      <td>0</td>\n",
              "    </tr>\n",
              "    <tr>\n",
              "      <th>protocol_type</th>\n",
              "      <td>0</td>\n",
              "    </tr>\n",
              "    <tr>\n",
              "      <th>service</th>\n",
              "      <td>0</td>\n",
              "    </tr>\n",
              "    <tr>\n",
              "      <th>flag</th>\n",
              "      <td>0</td>\n",
              "    </tr>\n",
              "    <tr>\n",
              "      <th>src_bytes</th>\n",
              "      <td>0</td>\n",
              "    </tr>\n",
              "    <tr>\n",
              "      <th>dst_bytes</th>\n",
              "      <td>0</td>\n",
              "    </tr>\n",
              "    <tr>\n",
              "      <th>land</th>\n",
              "      <td>0</td>\n",
              "    </tr>\n",
              "    <tr>\n",
              "      <th>wrong_fragment</th>\n",
              "      <td>0</td>\n",
              "    </tr>\n",
              "    <tr>\n",
              "      <th>urgent</th>\n",
              "      <td>0</td>\n",
              "    </tr>\n",
              "    <tr>\n",
              "      <th>hot</th>\n",
              "      <td>0</td>\n",
              "    </tr>\n",
              "    <tr>\n",
              "      <th>num_failed_logins</th>\n",
              "      <td>0</td>\n",
              "    </tr>\n",
              "    <tr>\n",
              "      <th>logged_in</th>\n",
              "      <td>0</td>\n",
              "    </tr>\n",
              "    <tr>\n",
              "      <th>num_compromised</th>\n",
              "      <td>0</td>\n",
              "    </tr>\n",
              "    <tr>\n",
              "      <th>root_shell</th>\n",
              "      <td>0</td>\n",
              "    </tr>\n",
              "    <tr>\n",
              "      <th>su_attempted</th>\n",
              "      <td>0</td>\n",
              "    </tr>\n",
              "    <tr>\n",
              "      <th>num_root</th>\n",
              "      <td>0</td>\n",
              "    </tr>\n",
              "    <tr>\n",
              "      <th>num_file_creations</th>\n",
              "      <td>0</td>\n",
              "    </tr>\n",
              "    <tr>\n",
              "      <th>num_shells</th>\n",
              "      <td>0</td>\n",
              "    </tr>\n",
              "    <tr>\n",
              "      <th>num_access_files</th>\n",
              "      <td>0</td>\n",
              "    </tr>\n",
              "    <tr>\n",
              "      <th>num_outbound_cmds</th>\n",
              "      <td>0</td>\n",
              "    </tr>\n",
              "    <tr>\n",
              "      <th>is_host_login</th>\n",
              "      <td>0</td>\n",
              "    </tr>\n",
              "    <tr>\n",
              "      <th>is_guest_login</th>\n",
              "      <td>0</td>\n",
              "    </tr>\n",
              "    <tr>\n",
              "      <th>count</th>\n",
              "      <td>0</td>\n",
              "    </tr>\n",
              "    <tr>\n",
              "      <th>srv_count</th>\n",
              "      <td>0</td>\n",
              "    </tr>\n",
              "    <tr>\n",
              "      <th>serror_rate</th>\n",
              "      <td>0</td>\n",
              "    </tr>\n",
              "    <tr>\n",
              "      <th>srv_serror_rate</th>\n",
              "      <td>0</td>\n",
              "    </tr>\n",
              "    <tr>\n",
              "      <th>rerror_rate</th>\n",
              "      <td>0</td>\n",
              "    </tr>\n",
              "    <tr>\n",
              "      <th>srv_rerror_rate</th>\n",
              "      <td>1</td>\n",
              "    </tr>\n",
              "    <tr>\n",
              "      <th>same_srv_rate</th>\n",
              "      <td>1</td>\n",
              "    </tr>\n",
              "    <tr>\n",
              "      <th>diff_srv_rate</th>\n",
              "      <td>1</td>\n",
              "    </tr>\n",
              "    <tr>\n",
              "      <th>srv_diff_host_rate</th>\n",
              "      <td>1</td>\n",
              "    </tr>\n",
              "    <tr>\n",
              "      <th>dst_host_count</th>\n",
              "      <td>1</td>\n",
              "    </tr>\n",
              "    <tr>\n",
              "      <th>dst_host_srv_count</th>\n",
              "      <td>1</td>\n",
              "    </tr>\n",
              "    <tr>\n",
              "      <th>dst_host_same_srv_rate</th>\n",
              "      <td>1</td>\n",
              "    </tr>\n",
              "    <tr>\n",
              "      <th>dst_host_diff_srv_rate</th>\n",
              "      <td>1</td>\n",
              "    </tr>\n",
              "    <tr>\n",
              "      <th>dst_host_same_src_port_rate</th>\n",
              "      <td>1</td>\n",
              "    </tr>\n",
              "    <tr>\n",
              "      <th>dst_host_srv_diff_host_rate</th>\n",
              "      <td>1</td>\n",
              "    </tr>\n",
              "    <tr>\n",
              "      <th>dst_host_serror_rate</th>\n",
              "      <td>1</td>\n",
              "    </tr>\n",
              "    <tr>\n",
              "      <th>dst_host_srv_serror_rate</th>\n",
              "      <td>1</td>\n",
              "    </tr>\n",
              "    <tr>\n",
              "      <th>dst_host_rerror_rate</th>\n",
              "      <td>1</td>\n",
              "    </tr>\n",
              "    <tr>\n",
              "      <th>dst_host_srv_rerror_rate</th>\n",
              "      <td>1</td>\n",
              "    </tr>\n",
              "    <tr>\n",
              "      <th>label</th>\n",
              "      <td>1</td>\n",
              "    </tr>\n",
              "  </tbody>\n",
              "</table>\n",
              "</div><br><label><b>dtype:</b> int64</label>"
            ]
          },
          "metadata": {},
          "execution_count": 8
        }
      ],
      "execution_count": 8
    },
    {
      "cell_type": "code",
      "source": [
        "df.describe()"
      ],
      "metadata": {
        "execution": {
          "iopub.status.busy": "2024-10-17T14:34:13.593495Z",
          "iopub.execute_input": "2024-10-17T14:34:13.59397Z",
          "iopub.status.idle": "2024-10-17T14:34:14.115202Z",
          "shell.execute_reply.started": "2024-10-17T14:34:13.593918Z",
          "shell.execute_reply": "2024-10-17T14:34:14.114101Z"
        },
        "trusted": true,
        "colab": {
          "base_uri": "https://localhost:8080/",
          "height": 349
        },
        "id": "fd2lmBleqzcI",
        "outputId": "ae2c47f8-8b41-40b0-f947-2114901db138"
      },
      "outputs": [
        {
          "output_type": "execute_result",
          "data": {
            "text/plain": [
              "            duration     src_bytes     dst_bytes           land  \\\n",
              "count  311029.000000  3.110290e+05  3.110290e+05  311029.000000   \n",
              "mean       17.902736  1.731702e+03  7.479937e+02       0.000029   \n",
              "std       407.644400  1.276567e+05  1.612018e+04       0.005379   \n",
              "min         0.000000  0.000000e+00  0.000000e+00       0.000000   \n",
              "25%         0.000000  1.050000e+02  0.000000e+00       0.000000   \n",
              "50%         0.000000  5.200000e+02  0.000000e+00       0.000000   \n",
              "75%         0.000000  1.032000e+03  0.000000e+00       0.000000   \n",
              "max     57715.000000  6.282565e+07  5.203179e+06       1.000000   \n",
              "\n",
              "       wrong_fragment         urgent            hot  num_failed_logins  \\\n",
              "count   311029.000000  311029.000000  311029.000000      311029.000000   \n",
              "mean         0.000762       0.000051       0.014677           0.002363   \n",
              "std          0.040367       0.009821       0.312068           0.049990   \n",
              "min          0.000000       0.000000       0.000000           0.000000   \n",
              "25%          0.000000       0.000000       0.000000           0.000000   \n",
              "50%          0.000000       0.000000       0.000000           0.000000   \n",
              "75%          0.000000       0.000000       0.000000           0.000000   \n",
              "max          3.000000       3.000000     101.000000           4.000000   \n",
              "\n",
              "           logged_in  num_compromised  ...  dst_host_count  \\\n",
              "count  311029.000000    311029.000000  ...   311029.000000   \n",
              "mean        0.172476         0.011243  ...      235.282681   \n",
              "std         0.377794         1.958325  ...       60.913298   \n",
              "min         0.000000         0.000000  ...        0.000000   \n",
              "25%         0.000000         0.000000  ...      255.000000   \n",
              "50%         0.000000         0.000000  ...      255.000000   \n",
              "75%         0.000000         0.000000  ...      255.000000   \n",
              "max         1.000000       796.000000  ...      255.000000   \n",
              "\n",
              "       dst_host_srv_count  dst_host_same_srv_rate  dst_host_diff_srv_rate  \\\n",
              "count       311029.000000           311029.000000           311029.000000   \n",
              "mean           199.193914                0.793494                0.024953   \n",
              "std            100.306470                0.387090                0.096003   \n",
              "min              0.000000                0.000000                0.000000   \n",
              "25%            244.000000                0.970000                0.000000   \n",
              "50%            255.000000                1.000000                0.000000   \n",
              "75%            255.000000                1.000000                0.010000   \n",
              "max            255.000000                1.000000                1.000000   \n",
              "\n",
              "       dst_host_same_src_port_rate  dst_host_srv_diff_host_rate  \\\n",
              "count                311029.000000                311029.000000   \n",
              "mean                      0.547919                     0.004566   \n",
              "std                       0.491963                     0.035773   \n",
              "min                       0.000000                     0.000000   \n",
              "25%                       0.000000                     0.000000   \n",
              "50%                       1.000000                     0.000000   \n",
              "75%                       1.000000                     0.000000   \n",
              "max                       1.000000                     1.000000   \n",
              "\n",
              "       dst_host_serror_rate  dst_host_srv_serror_rate  dst_host_rerror_rate  \\\n",
              "count         311029.000000             311029.000000         311029.000000   \n",
              "mean               0.058764                  0.058791              0.142659   \n",
              "std                0.231296                  0.232997              0.344380   \n",
              "min                0.000000                  0.000000              0.000000   \n",
              "25%                0.000000                  0.000000              0.000000   \n",
              "50%                0.000000                  0.000000              0.000000   \n",
              "75%                0.000000                  0.000000              0.000000   \n",
              "max                1.000000                  1.000000              1.000000   \n",
              "\n",
              "       dst_host_srv_rerror_rate  \n",
              "count             311029.000000  \n",
              "mean                   0.141693  \n",
              "std                    0.346573  \n",
              "min                    0.000000  \n",
              "25%                    0.000000  \n",
              "50%                    0.000000  \n",
              "75%                    0.000000  \n",
              "max                    1.000000  \n",
              "\n",
              "[8 rows x 38 columns]"
            ],
            "text/html": [
              "\n",
              "  <div id=\"df-49d169e5-0e46-4519-9ba3-e27399ba1aaf\" class=\"colab-df-container\">\n",
              "    <div>\n",
              "<style scoped>\n",
              "    .dataframe tbody tr th:only-of-type {\n",
              "        vertical-align: middle;\n",
              "    }\n",
              "\n",
              "    .dataframe tbody tr th {\n",
              "        vertical-align: top;\n",
              "    }\n",
              "\n",
              "    .dataframe thead th {\n",
              "        text-align: right;\n",
              "    }\n",
              "</style>\n",
              "<table border=\"1\" class=\"dataframe\">\n",
              "  <thead>\n",
              "    <tr style=\"text-align: right;\">\n",
              "      <th></th>\n",
              "      <th>duration</th>\n",
              "      <th>src_bytes</th>\n",
              "      <th>dst_bytes</th>\n",
              "      <th>land</th>\n",
              "      <th>wrong_fragment</th>\n",
              "      <th>urgent</th>\n",
              "      <th>hot</th>\n",
              "      <th>num_failed_logins</th>\n",
              "      <th>logged_in</th>\n",
              "      <th>num_compromised</th>\n",
              "      <th>...</th>\n",
              "      <th>dst_host_count</th>\n",
              "      <th>dst_host_srv_count</th>\n",
              "      <th>dst_host_same_srv_rate</th>\n",
              "      <th>dst_host_diff_srv_rate</th>\n",
              "      <th>dst_host_same_src_port_rate</th>\n",
              "      <th>dst_host_srv_diff_host_rate</th>\n",
              "      <th>dst_host_serror_rate</th>\n",
              "      <th>dst_host_srv_serror_rate</th>\n",
              "      <th>dst_host_rerror_rate</th>\n",
              "      <th>dst_host_srv_rerror_rate</th>\n",
              "    </tr>\n",
              "  </thead>\n",
              "  <tbody>\n",
              "    <tr>\n",
              "      <th>count</th>\n",
              "      <td>311029.000000</td>\n",
              "      <td>3.110290e+05</td>\n",
              "      <td>3.110290e+05</td>\n",
              "      <td>311029.000000</td>\n",
              "      <td>311029.000000</td>\n",
              "      <td>311029.000000</td>\n",
              "      <td>311029.000000</td>\n",
              "      <td>311029.000000</td>\n",
              "      <td>311029.000000</td>\n",
              "      <td>311029.000000</td>\n",
              "      <td>...</td>\n",
              "      <td>311029.000000</td>\n",
              "      <td>311029.000000</td>\n",
              "      <td>311029.000000</td>\n",
              "      <td>311029.000000</td>\n",
              "      <td>311029.000000</td>\n",
              "      <td>311029.000000</td>\n",
              "      <td>311029.000000</td>\n",
              "      <td>311029.000000</td>\n",
              "      <td>311029.000000</td>\n",
              "      <td>311029.000000</td>\n",
              "    </tr>\n",
              "    <tr>\n",
              "      <th>mean</th>\n",
              "      <td>17.902736</td>\n",
              "      <td>1.731702e+03</td>\n",
              "      <td>7.479937e+02</td>\n",
              "      <td>0.000029</td>\n",
              "      <td>0.000762</td>\n",
              "      <td>0.000051</td>\n",
              "      <td>0.014677</td>\n",
              "      <td>0.002363</td>\n",
              "      <td>0.172476</td>\n",
              "      <td>0.011243</td>\n",
              "      <td>...</td>\n",
              "      <td>235.282681</td>\n",
              "      <td>199.193914</td>\n",
              "      <td>0.793494</td>\n",
              "      <td>0.024953</td>\n",
              "      <td>0.547919</td>\n",
              "      <td>0.004566</td>\n",
              "      <td>0.058764</td>\n",
              "      <td>0.058791</td>\n",
              "      <td>0.142659</td>\n",
              "      <td>0.141693</td>\n",
              "    </tr>\n",
              "    <tr>\n",
              "      <th>std</th>\n",
              "      <td>407.644400</td>\n",
              "      <td>1.276567e+05</td>\n",
              "      <td>1.612018e+04</td>\n",
              "      <td>0.005379</td>\n",
              "      <td>0.040367</td>\n",
              "      <td>0.009821</td>\n",
              "      <td>0.312068</td>\n",
              "      <td>0.049990</td>\n",
              "      <td>0.377794</td>\n",
              "      <td>1.958325</td>\n",
              "      <td>...</td>\n",
              "      <td>60.913298</td>\n",
              "      <td>100.306470</td>\n",
              "      <td>0.387090</td>\n",
              "      <td>0.096003</td>\n",
              "      <td>0.491963</td>\n",
              "      <td>0.035773</td>\n",
              "      <td>0.231296</td>\n",
              "      <td>0.232997</td>\n",
              "      <td>0.344380</td>\n",
              "      <td>0.346573</td>\n",
              "    </tr>\n",
              "    <tr>\n",
              "      <th>min</th>\n",
              "      <td>0.000000</td>\n",
              "      <td>0.000000e+00</td>\n",
              "      <td>0.000000e+00</td>\n",
              "      <td>0.000000</td>\n",
              "      <td>0.000000</td>\n",
              "      <td>0.000000</td>\n",
              "      <td>0.000000</td>\n",
              "      <td>0.000000</td>\n",
              "      <td>0.000000</td>\n",
              "      <td>0.000000</td>\n",
              "      <td>...</td>\n",
              "      <td>0.000000</td>\n",
              "      <td>0.000000</td>\n",
              "      <td>0.000000</td>\n",
              "      <td>0.000000</td>\n",
              "      <td>0.000000</td>\n",
              "      <td>0.000000</td>\n",
              "      <td>0.000000</td>\n",
              "      <td>0.000000</td>\n",
              "      <td>0.000000</td>\n",
              "      <td>0.000000</td>\n",
              "    </tr>\n",
              "    <tr>\n",
              "      <th>25%</th>\n",
              "      <td>0.000000</td>\n",
              "      <td>1.050000e+02</td>\n",
              "      <td>0.000000e+00</td>\n",
              "      <td>0.000000</td>\n",
              "      <td>0.000000</td>\n",
              "      <td>0.000000</td>\n",
              "      <td>0.000000</td>\n",
              "      <td>0.000000</td>\n",
              "      <td>0.000000</td>\n",
              "      <td>0.000000</td>\n",
              "      <td>...</td>\n",
              "      <td>255.000000</td>\n",
              "      <td>244.000000</td>\n",
              "      <td>0.970000</td>\n",
              "      <td>0.000000</td>\n",
              "      <td>0.000000</td>\n",
              "      <td>0.000000</td>\n",
              "      <td>0.000000</td>\n",
              "      <td>0.000000</td>\n",
              "      <td>0.000000</td>\n",
              "      <td>0.000000</td>\n",
              "    </tr>\n",
              "    <tr>\n",
              "      <th>50%</th>\n",
              "      <td>0.000000</td>\n",
              "      <td>5.200000e+02</td>\n",
              "      <td>0.000000e+00</td>\n",
              "      <td>0.000000</td>\n",
              "      <td>0.000000</td>\n",
              "      <td>0.000000</td>\n",
              "      <td>0.000000</td>\n",
              "      <td>0.000000</td>\n",
              "      <td>0.000000</td>\n",
              "      <td>0.000000</td>\n",
              "      <td>...</td>\n",
              "      <td>255.000000</td>\n",
              "      <td>255.000000</td>\n",
              "      <td>1.000000</td>\n",
              "      <td>0.000000</td>\n",
              "      <td>1.000000</td>\n",
              "      <td>0.000000</td>\n",
              "      <td>0.000000</td>\n",
              "      <td>0.000000</td>\n",
              "      <td>0.000000</td>\n",
              "      <td>0.000000</td>\n",
              "    </tr>\n",
              "    <tr>\n",
              "      <th>75%</th>\n",
              "      <td>0.000000</td>\n",
              "      <td>1.032000e+03</td>\n",
              "      <td>0.000000e+00</td>\n",
              "      <td>0.000000</td>\n",
              "      <td>0.000000</td>\n",
              "      <td>0.000000</td>\n",
              "      <td>0.000000</td>\n",
              "      <td>0.000000</td>\n",
              "      <td>0.000000</td>\n",
              "      <td>0.000000</td>\n",
              "      <td>...</td>\n",
              "      <td>255.000000</td>\n",
              "      <td>255.000000</td>\n",
              "      <td>1.000000</td>\n",
              "      <td>0.010000</td>\n",
              "      <td>1.000000</td>\n",
              "      <td>0.000000</td>\n",
              "      <td>0.000000</td>\n",
              "      <td>0.000000</td>\n",
              "      <td>0.000000</td>\n",
              "      <td>0.000000</td>\n",
              "    </tr>\n",
              "    <tr>\n",
              "      <th>max</th>\n",
              "      <td>57715.000000</td>\n",
              "      <td>6.282565e+07</td>\n",
              "      <td>5.203179e+06</td>\n",
              "      <td>1.000000</td>\n",
              "      <td>3.000000</td>\n",
              "      <td>3.000000</td>\n",
              "      <td>101.000000</td>\n",
              "      <td>4.000000</td>\n",
              "      <td>1.000000</td>\n",
              "      <td>796.000000</td>\n",
              "      <td>...</td>\n",
              "      <td>255.000000</td>\n",
              "      <td>255.000000</td>\n",
              "      <td>1.000000</td>\n",
              "      <td>1.000000</td>\n",
              "      <td>1.000000</td>\n",
              "      <td>1.000000</td>\n",
              "      <td>1.000000</td>\n",
              "      <td>1.000000</td>\n",
              "      <td>1.000000</td>\n",
              "      <td>1.000000</td>\n",
              "    </tr>\n",
              "  </tbody>\n",
              "</table>\n",
              "<p>8 rows × 38 columns</p>\n",
              "</div>\n",
              "    <div class=\"colab-df-buttons\">\n",
              "\n",
              "  <div class=\"colab-df-container\">\n",
              "    <button class=\"colab-df-convert\" onclick=\"convertToInteractive('df-49d169e5-0e46-4519-9ba3-e27399ba1aaf')\"\n",
              "            title=\"Convert this dataframe to an interactive table.\"\n",
              "            style=\"display:none;\">\n",
              "\n",
              "  <svg xmlns=\"http://www.w3.org/2000/svg\" height=\"24px\" viewBox=\"0 -960 960 960\">\n",
              "    <path d=\"M120-120v-720h720v720H120Zm60-500h600v-160H180v160Zm220 220h160v-160H400v160Zm0 220h160v-160H400v160ZM180-400h160v-160H180v160Zm440 0h160v-160H620v160ZM180-180h160v-160H180v160Zm440 0h160v-160H620v160Z\"/>\n",
              "  </svg>\n",
              "    </button>\n",
              "\n",
              "  <style>\n",
              "    .colab-df-container {\n",
              "      display:flex;\n",
              "      gap: 12px;\n",
              "    }\n",
              "\n",
              "    .colab-df-convert {\n",
              "      background-color: #E8F0FE;\n",
              "      border: none;\n",
              "      border-radius: 50%;\n",
              "      cursor: pointer;\n",
              "      display: none;\n",
              "      fill: #1967D2;\n",
              "      height: 32px;\n",
              "      padding: 0 0 0 0;\n",
              "      width: 32px;\n",
              "    }\n",
              "\n",
              "    .colab-df-convert:hover {\n",
              "      background-color: #E2EBFA;\n",
              "      box-shadow: 0px 1px 2px rgba(60, 64, 67, 0.3), 0px 1px 3px 1px rgba(60, 64, 67, 0.15);\n",
              "      fill: #174EA6;\n",
              "    }\n",
              "\n",
              "    .colab-df-buttons div {\n",
              "      margin-bottom: 4px;\n",
              "    }\n",
              "\n",
              "    [theme=dark] .colab-df-convert {\n",
              "      background-color: #3B4455;\n",
              "      fill: #D2E3FC;\n",
              "    }\n",
              "\n",
              "    [theme=dark] .colab-df-convert:hover {\n",
              "      background-color: #434B5C;\n",
              "      box-shadow: 0px 1px 3px 1px rgba(0, 0, 0, 0.15);\n",
              "      filter: drop-shadow(0px 1px 2px rgba(0, 0, 0, 0.3));\n",
              "      fill: #FFFFFF;\n",
              "    }\n",
              "  </style>\n",
              "\n",
              "    <script>\n",
              "      const buttonEl =\n",
              "        document.querySelector('#df-49d169e5-0e46-4519-9ba3-e27399ba1aaf button.colab-df-convert');\n",
              "      buttonEl.style.display =\n",
              "        google.colab.kernel.accessAllowed ? 'block' : 'none';\n",
              "\n",
              "      async function convertToInteractive(key) {\n",
              "        const element = document.querySelector('#df-49d169e5-0e46-4519-9ba3-e27399ba1aaf');\n",
              "        const dataTable =\n",
              "          await google.colab.kernel.invokeFunction('convertToInteractive',\n",
              "                                                    [key], {});\n",
              "        if (!dataTable) return;\n",
              "\n",
              "        const docLinkHtml = 'Like what you see? Visit the ' +\n",
              "          '<a target=\"_blank\" href=https://colab.research.google.com/notebooks/data_table.ipynb>data table notebook</a>'\n",
              "          + ' to learn more about interactive tables.';\n",
              "        element.innerHTML = '';\n",
              "        dataTable['output_type'] = 'display_data';\n",
              "        await google.colab.output.renderOutput(dataTable, element);\n",
              "        const docLink = document.createElement('div');\n",
              "        docLink.innerHTML = docLinkHtml;\n",
              "        element.appendChild(docLink);\n",
              "      }\n",
              "    </script>\n",
              "  </div>\n",
              "\n",
              "\n",
              "    <div id=\"df-b84224ed-9922-4eaf-aa6a-99750d143ae3\">\n",
              "      <button class=\"colab-df-quickchart\" onclick=\"quickchart('df-b84224ed-9922-4eaf-aa6a-99750d143ae3')\"\n",
              "                title=\"Suggest charts\"\n",
              "                style=\"display:none;\">\n",
              "\n",
              "<svg xmlns=\"http://www.w3.org/2000/svg\" height=\"24px\"viewBox=\"0 0 24 24\"\n",
              "     width=\"24px\">\n",
              "    <g>\n",
              "        <path d=\"M19 3H5c-1.1 0-2 .9-2 2v14c0 1.1.9 2 2 2h14c1.1 0 2-.9 2-2V5c0-1.1-.9-2-2-2zM9 17H7v-7h2v7zm4 0h-2V7h2v10zm4 0h-2v-4h2v4z\"/>\n",
              "    </g>\n",
              "</svg>\n",
              "      </button>\n",
              "\n",
              "<style>\n",
              "  .colab-df-quickchart {\n",
              "      --bg-color: #E8F0FE;\n",
              "      --fill-color: #1967D2;\n",
              "      --hover-bg-color: #E2EBFA;\n",
              "      --hover-fill-color: #174EA6;\n",
              "      --disabled-fill-color: #AAA;\n",
              "      --disabled-bg-color: #DDD;\n",
              "  }\n",
              "\n",
              "  [theme=dark] .colab-df-quickchart {\n",
              "      --bg-color: #3B4455;\n",
              "      --fill-color: #D2E3FC;\n",
              "      --hover-bg-color: #434B5C;\n",
              "      --hover-fill-color: #FFFFFF;\n",
              "      --disabled-bg-color: #3B4455;\n",
              "      --disabled-fill-color: #666;\n",
              "  }\n",
              "\n",
              "  .colab-df-quickchart {\n",
              "    background-color: var(--bg-color);\n",
              "    border: none;\n",
              "    border-radius: 50%;\n",
              "    cursor: pointer;\n",
              "    display: none;\n",
              "    fill: var(--fill-color);\n",
              "    height: 32px;\n",
              "    padding: 0;\n",
              "    width: 32px;\n",
              "  }\n",
              "\n",
              "  .colab-df-quickchart:hover {\n",
              "    background-color: var(--hover-bg-color);\n",
              "    box-shadow: 0 1px 2px rgba(60, 64, 67, 0.3), 0 1px 3px 1px rgba(60, 64, 67, 0.15);\n",
              "    fill: var(--button-hover-fill-color);\n",
              "  }\n",
              "\n",
              "  .colab-df-quickchart-complete:disabled,\n",
              "  .colab-df-quickchart-complete:disabled:hover {\n",
              "    background-color: var(--disabled-bg-color);\n",
              "    fill: var(--disabled-fill-color);\n",
              "    box-shadow: none;\n",
              "  }\n",
              "\n",
              "  .colab-df-spinner {\n",
              "    border: 2px solid var(--fill-color);\n",
              "    border-color: transparent;\n",
              "    border-bottom-color: var(--fill-color);\n",
              "    animation:\n",
              "      spin 1s steps(1) infinite;\n",
              "  }\n",
              "\n",
              "  @keyframes spin {\n",
              "    0% {\n",
              "      border-color: transparent;\n",
              "      border-bottom-color: var(--fill-color);\n",
              "      border-left-color: var(--fill-color);\n",
              "    }\n",
              "    20% {\n",
              "      border-color: transparent;\n",
              "      border-left-color: var(--fill-color);\n",
              "      border-top-color: var(--fill-color);\n",
              "    }\n",
              "    30% {\n",
              "      border-color: transparent;\n",
              "      border-left-color: var(--fill-color);\n",
              "      border-top-color: var(--fill-color);\n",
              "      border-right-color: var(--fill-color);\n",
              "    }\n",
              "    40% {\n",
              "      border-color: transparent;\n",
              "      border-right-color: var(--fill-color);\n",
              "      border-top-color: var(--fill-color);\n",
              "    }\n",
              "    60% {\n",
              "      border-color: transparent;\n",
              "      border-right-color: var(--fill-color);\n",
              "    }\n",
              "    80% {\n",
              "      border-color: transparent;\n",
              "      border-right-color: var(--fill-color);\n",
              "      border-bottom-color: var(--fill-color);\n",
              "    }\n",
              "    90% {\n",
              "      border-color: transparent;\n",
              "      border-bottom-color: var(--fill-color);\n",
              "    }\n",
              "  }\n",
              "</style>\n",
              "\n",
              "      <script>\n",
              "        async function quickchart(key) {\n",
              "          const quickchartButtonEl =\n",
              "            document.querySelector('#' + key + ' button');\n",
              "          quickchartButtonEl.disabled = true;  // To prevent multiple clicks.\n",
              "          quickchartButtonEl.classList.add('colab-df-spinner');\n",
              "          try {\n",
              "            const charts = await google.colab.kernel.invokeFunction(\n",
              "                'suggestCharts', [key], {});\n",
              "          } catch (error) {\n",
              "            console.error('Error during call to suggestCharts:', error);\n",
              "          }\n",
              "          quickchartButtonEl.classList.remove('colab-df-spinner');\n",
              "          quickchartButtonEl.classList.add('colab-df-quickchart-complete');\n",
              "        }\n",
              "        (() => {\n",
              "          let quickchartButtonEl =\n",
              "            document.querySelector('#df-b84224ed-9922-4eaf-aa6a-99750d143ae3 button');\n",
              "          quickchartButtonEl.style.display =\n",
              "            google.colab.kernel.accessAllowed ? 'block' : 'none';\n",
              "        })();\n",
              "      </script>\n",
              "    </div>\n",
              "\n",
              "    </div>\n",
              "  </div>\n"
            ],
            "application/vnd.google.colaboratory.intrinsic+json": {
              "type": "dataframe"
            }
          },
          "metadata": {},
          "execution_count": 10
        }
      ],
      "execution_count": null
    },
    {
      "cell_type": "markdown",
      "source": [
        "**Find Categorical Columns**"
      ],
      "metadata": {
        "id": "claWjsQlqzcI"
      }
    },
    {
      "cell_type": "code",
      "source": [
        "num_cols = df._get_numeric_data().columns\n",
        "\n",
        "cate_cols = list(set(df.columns)-set(num_cols))\n",
        "cate_cols.remove('label')\n",
        "\n",
        "\n",
        "cate_cols"
      ],
      "metadata": {
        "execution": {
          "iopub.status.busy": "2024-10-17T14:34:14.116488Z",
          "iopub.execute_input": "2024-10-17T14:34:14.116846Z",
          "iopub.status.idle": "2024-10-17T14:34:14.125188Z",
          "shell.execute_reply.started": "2024-10-17T14:34:14.116809Z",
          "shell.execute_reply": "2024-10-17T14:34:14.124096Z"
        },
        "trusted": true,
        "colab": {
          "base_uri": "https://localhost:8080/"
        },
        "id": "zPKJmMhWqzcJ",
        "outputId": "b604f648-0c78-440c-e8ea-08ce5882f8f0"
      },
      "outputs": [
        {
          "output_type": "execute_result",
          "data": {
            "text/plain": [
              "['flag', 'protocol_type', 'service']"
            ]
          },
          "metadata": {},
          "execution_count": 9
        }
      ],
      "execution_count": 9
    },
    {
      "cell_type": "markdown",
      "source": [
        "**Categorical Features Distribution**"
      ],
      "metadata": {
        "id": "3SKaVmXNqzcJ"
      }
    },
    {
      "cell_type": "code",
      "source": [
        "#Visualization\n",
        "def bar_graph(feature):\n",
        "    df[feature].value_counts().plot(kind=\"bar\")"
      ],
      "metadata": {
        "execution": {
          "iopub.status.busy": "2024-10-17T14:34:14.129358Z",
          "iopub.execute_input": "2024-10-17T14:34:14.129771Z",
          "iopub.status.idle": "2024-10-17T14:34:14.135893Z",
          "shell.execute_reply.started": "2024-10-17T14:34:14.129722Z",
          "shell.execute_reply": "2024-10-17T14:34:14.13464Z"
        },
        "trusted": true,
        "id": "W1TfjEatqzcJ"
      },
      "outputs": [],
      "execution_count": 10
    },
    {
      "cell_type": "code",
      "source": [
        "bar_graph('protocol_type')"
      ],
      "metadata": {
        "execution": {
          "iopub.status.busy": "2024-10-17T14:34:14.137358Z",
          "iopub.execute_input": "2024-10-17T14:34:14.137784Z",
          "iopub.status.idle": "2024-10-17T14:34:14.349413Z",
          "shell.execute_reply.started": "2024-10-17T14:34:14.137745Z",
          "shell.execute_reply": "2024-10-17T14:34:14.348214Z"
        },
        "trusted": true,
        "id": "Djgn07OrqzcJ",
        "colab": {
          "base_uri": "https://localhost:8080/",
          "height": 469
        },
        "outputId": "3bdabd81-281d-4f50-b9a4-33e4713efde2"
      },
      "outputs": [
        {
          "output_type": "display_data",
          "data": {
            "text/plain": [
              "<Figure size 640x480 with 1 Axes>"
            ],
            "image/png": "[encoded data removed]"
          },
          "metadata": {}
        }
      ],
      "execution_count": 11
    },
    {
      "cell_type": "markdown",
      "source": [
        "ICMP is the most present in the used data, then TCP and almost 20000 packets of UDP type"
      ],
      "metadata": {
        "id": "k6E5NbIBqzcJ"
      }
    },
    {
      "cell_type": "code",
      "source": [
        "plt.figure(figsize=(15,3))\n",
        "bar_graph('service')"
      ],
      "metadata": {
        "execution": {
          "iopub.status.busy": "2024-10-17T14:34:14.350827Z",
          "iopub.execute_input": "2024-10-17T14:34:14.351194Z",
          "iopub.status.idle": "2024-10-17T14:34:15.117449Z",
          "shell.execute_reply.started": "2024-10-17T14:34:14.351156Z",
          "shell.execute_reply": "2024-10-17T14:34:15.116264Z"
        },
        "trusted": true,
        "id": "wazkpAkcqzcK",
        "colab": {
          "base_uri": "https://localhost:8080/",
          "height": 271
        },
        "outputId": "6e53ba0d-be2c-49d7-e19e-57652d6b9491"
      },
      "outputs": [
        {
          "output_type": "display_data",
          "data": {
            "text/plain": [
              "<Figure size 1500x300 with 1 Axes>"
            ],
            "image/png": "[encoded data removed]"
          },
          "metadata": {}
        }
      ],
      "execution_count": 12
    },
    {
      "cell_type": "code",
      "source": [
        "bar_graph('flag')"
      ],
      "metadata": {
        "execution": {
          "iopub.status.busy": "2024-10-17T14:34:15.118876Z",
          "iopub.execute_input": "2024-10-17T14:34:15.11923Z",
          "iopub.status.idle": "2024-10-17T14:34:15.448037Z",
          "shell.execute_reply.started": "2024-10-17T14:34:15.119194Z",
          "shell.execute_reply": "2024-10-17T14:34:15.44686Z"
        },
        "trusted": true,
        "id": "vW5yJ-uPqzcK",
        "colab": {
          "base_uri": "https://localhost:8080/",
          "height": 491
        },
        "outputId": "1e78b928-e082-44c2-f053-0d5e2b5228e1"
      },
      "outputs": [
        {
          "output_type": "display_data",
          "data": {
            "text/plain": [
              "<Figure size 640x480 with 1 Axes>"
            ],
            "image/png": "[encoded data removed]"
          },
          "metadata": {}
        }
      ],
      "execution_count": 13
    },
    {
      "cell_type": "code",
      "source": [
        "bar_graph('logged_in')"
      ],
      "metadata": {
        "execution": {
          "iopub.status.busy": "2024-10-17T14:34:15.449428Z",
          "iopub.execute_input": "2024-10-17T14:34:15.449819Z",
          "iopub.status.idle": "2024-10-17T14:34:15.640744Z",
          "shell.execute_reply.started": "2024-10-17T14:34:15.449781Z",
          "shell.execute_reply": "2024-10-17T14:34:15.63937Z"
        },
        "trusted": true,
        "id": "0FR1pwtJqzcK",
        "colab": {
          "base_uri": "https://localhost:8080/",
          "height": 444
        },
        "outputId": "f4f9b7b5-47cf-4301-9ada-829178d8de16"
      },
      "outputs": [
        {
          "output_type": "display_data",
          "data": {
            "text/plain": [
              "<Figure size 640x480 with 1 Axes>"
            ],
            "image/png": "[encoded data removed]"
          },
          "metadata": {}
        }
      ],
      "execution_count": 14
    },
    {
      "cell_type": "markdown",
      "source": [
        "70000 packets are successfully logged in."
      ],
      "metadata": {
        "id": "Y1GhbUNLqzcK"
      }
    },
    {
      "cell_type": "markdown",
      "source": [
        "**Target Feature Distribution**"
      ],
      "metadata": {
        "id": "9H91dbDCqzcK"
      }
    },
    {
      "cell_type": "code",
      "source": [
        "bar_graph('label')"
      ],
      "metadata": {
        "execution": {
          "iopub.status.busy": "2024-10-17T14:34:15.642042Z",
          "iopub.execute_input": "2024-10-17T14:34:15.642399Z",
          "iopub.status.idle": "2024-10-17T14:34:16.061105Z",
          "shell.execute_reply.started": "2024-10-17T14:34:15.64236Z",
          "shell.execute_reply": "2024-10-17T14:34:16.059853Z"
        },
        "trusted": true,
        "id": "lktznFMhqzcK",
        "colab": {
          "base_uri": "https://localhost:8080/",
          "height": 547
        },
        "outputId": "b8f66ab4-c18c-4124-a4fd-9c854ceb2d36"
      },
      "outputs": [
        {
          "output_type": "display_data",
          "data": {
            "text/plain": [
              "<Figure size 640x480 with 1 Axes>"
            ],
            "image/png": "[encoded data removed]"
          },
          "metadata": {}
        }
      ],
      "execution_count": 15
    },
    {
      "cell_type": "markdown",
      "source": [
        "Imbalanced Dataset: The dataset is heavily imbalanced. Certain attack types, like \"smurf\" and \"neptune,\" dominate the dataset. These two types are represented by the tallest bars and seem to far outnumber other types of attacks and normal instances.\n",
        "\n",
        "Minority Classes: Several attack types (like \"buffer_overflow\", \"teardrop\", \"ipsweep\", etc.) have very few instances. These minority classes might be underrepresented, which could pose challenges during model training as the model may not learn to detect these attacks well.\n",
        "\n",
        "Normal Instances: The number of \"normal\" instances (shown on the left side) is also quite substantial but significantly smaller than the top attack types (e.g., \"smurf\" and \"neptune\")."
      ],
      "metadata": {
        "id": "daUvT6zxqzcL"
      }
    },
    {
      "cell_type": "markdown",
      "source": [
        "**Label Encoding Categorical Columns**"
      ],
      "metadata": {
        "id": "9q11TUXBqzcL"
      }
    },
    {
      "cell_type": "code",
      "source": [
        "label_enc = LabelEncoder()"
      ],
      "metadata": {
        "execution": {
          "iopub.status.busy": "2024-10-17T14:34:16.063097Z",
          "iopub.execute_input": "2024-10-17T14:34:16.063571Z",
          "iopub.status.idle": "2024-10-17T14:34:16.069035Z",
          "shell.execute_reply.started": "2024-10-17T14:34:16.063521Z",
          "shell.execute_reply": "2024-10-17T14:34:16.067775Z"
        },
        "trusted": true,
        "id": "Q8e0uhGqqzcL"
      },
      "outputs": [],
      "execution_count": 16
    },
    {
      "cell_type": "code",
      "source": [
        "df['protocol_type'] = label_enc.fit_transform(df['protocol_type'])\n",
        "df['service'] = label_enc.fit_transform(df['service'])\n",
        "df['flag'] = label_enc.fit_transform(df['flag'])"
      ],
      "metadata": {
        "execution": {
          "iopub.status.busy": "2024-10-17T14:34:16.070538Z",
          "iopub.execute_input": "2024-10-17T14:34:16.071051Z",
          "iopub.status.idle": "2024-10-17T14:34:16.372362Z",
          "shell.execute_reply.started": "2024-10-17T14:34:16.070918Z",
          "shell.execute_reply": "2024-10-17T14:34:16.37127Z"
        },
        "trusted": true,
        "id": "y098jL8vqzcL"
      },
      "outputs": [],
      "execution_count": 17
    },
    {
      "cell_type": "code",
      "source": [
        "#Splitting features and target\n",
        "\n",
        "X = df.drop(['label'], axis=1)\n",
        "y = label_enc.fit_transform(df['label'])\n",
        "np.unique(y)"
      ],
      "metadata": {
        "execution": {
          "iopub.status.busy": "2024-10-17T14:34:16.373637Z",
          "iopub.execute_input": "2024-10-17T14:34:16.373978Z",
          "iopub.status.idle": "2024-10-17T14:34:16.515378Z",
          "shell.execute_reply.started": "2024-10-17T14:34:16.373944Z",
          "shell.execute_reply": "2024-10-17T14:34:16.514232Z"
        },
        "trusted": true,
        "id": "JxH4w0Q6qzcL",
        "colab": {
          "base_uri": "https://localhost:8080/"
        },
        "outputId": "b276e53b-b8de-42a4-8747-11eb7ba25309"
      },
      "outputs": [
        {
          "output_type": "execute_result",
          "data": {
            "text/plain": [
              "array([ 0,  1,  2,  3,  4,  5,  6,  7,  8,  9, 10, 11, 12, 13, 14, 15, 16,\n",
              "       17, 18, 19, 20, 21, 22, 23, 24, 25, 26, 27, 28, 29, 30, 31, 32, 33,\n",
              "       34, 35, 36, 37, 38])"
            ]
          },
          "metadata": {},
          "execution_count": 18
        }
      ],
      "execution_count": 18
    },
    {
      "cell_type": "code",
      "source": [
        "label_enc.inverse_transform(np.unique(y))"
      ],
      "metadata": {
        "execution": {
          "iopub.status.busy": "2024-10-17T14:34:16.516865Z",
          "iopub.execute_input": "2024-10-17T14:34:16.517336Z",
          "iopub.status.idle": "2024-10-17T14:34:16.535669Z",
          "shell.execute_reply.started": "2024-10-17T14:34:16.517288Z",
          "shell.execute_reply": "2024-10-17T14:34:16.534536Z"
        },
        "trusted": true,
        "id": "tigLToyJqzcL",
        "colab": {
          "base_uri": "https://localhost:8080/"
        },
        "outputId": "3f5ee522-4419-4086-c9f6-2bedcbc6b9b6"
      },
      "outputs": [
        {
          "output_type": "execute_result",
          "data": {
            "text/plain": [
              "array(['apache2.', 'back.', 'buffer_overflow.', 'ftp_write.',\n",
              "       'guess_passwd.', 'httptunnel.', 'imap.', 'ipsweep.', 'land.',\n",
              "       'loadmodule.', 'mailbomb.', 'mscan.', 'multihop.', 'named.',\n",
              "       'neptune.', 'nmap.', 'normal.', 'perl.', 'phf.', 'pod.',\n",
              "       'portsweep.', 'processtable.', 'ps.', 'rootkit.', 'saint.',\n",
              "       'satan.', 'sendmail.', 'smurf.', 'snmpgetattack.', 'snmpguess.',\n",
              "       'sqlattack.', 'teardrop.', 'udpstorm.', 'warezmaster.', 'worm.',\n",
              "       'xlock.', 'xsnoop.', 'xterm.', nan], dtype=object)"
            ]
          },
          "metadata": {},
          "execution_count": 19
        }
      ],
      "execution_count": 19
    },
    {
      "cell_type": "code",
      "source": [
        "y_binary = np.where(y == 11, 0, 1)"
      ],
      "metadata": {
        "execution": {
          "iopub.status.busy": "2024-10-17T14:34:16.536904Z",
          "iopub.execute_input": "2024-10-17T14:34:16.53726Z",
          "iopub.status.idle": "2024-10-17T14:34:16.543261Z",
          "shell.execute_reply.started": "2024-10-17T14:34:16.537223Z",
          "shell.execute_reply": "2024-10-17T14:34:16.542127Z"
        },
        "trusted": true,
        "id": "I9VIiHqTqzcM"
      },
      "outputs": [],
      "execution_count": 20
    },
    {
      "cell_type": "code",
      "source": [
        "np.unique(y_binary)"
      ],
      "metadata": {
        "execution": {
          "iopub.status.busy": "2024-10-17T14:34:16.544804Z",
          "iopub.execute_input": "2024-10-17T14:34:16.545234Z",
          "iopub.status.idle": "2024-10-17T14:34:16.565676Z",
          "shell.execute_reply.started": "2024-10-17T14:34:16.545196Z",
          "shell.execute_reply": "2024-10-17T14:34:16.564538Z"
        },
        "trusted": true,
        "id": "EpiqhEBmqzcM",
        "colab": {
          "base_uri": "https://localhost:8080/"
        },
        "outputId": "307f1961-5389-4c58-8b46-b29a8ee09b02"
      },
      "outputs": [
        {
          "output_type": "execute_result",
          "data": {
            "text/plain": [
              "array([0, 1])"
            ]
          },
          "metadata": {},
          "execution_count": 21
        }
      ],
      "execution_count": 21
    },
    {
      "cell_type": "markdown",
      "source": [
        "**Feature Selection**"
      ],
      "metadata": {
        "id": "KWx3-hEDqzcM"
      }
    },
    {
      "cell_type": "code",
      "source": [
        "corr_matrix = X.corr()\n",
        "plt.figure(figsize=(12, 10))\n",
        "sns.heatmap(corr_matrix, cmap='coolwarm')\n",
        "plt.show()"
      ],
      "metadata": {
        "execution": {
          "iopub.status.busy": "2024-10-17T14:34:16.567321Z",
          "iopub.execute_input": "2024-10-17T14:34:16.567829Z",
          "iopub.status.idle": "2024-10-17T14:34:19.744422Z",
          "shell.execute_reply.started": "2024-10-17T14:34:16.567775Z",
          "shell.execute_reply": "2024-10-17T14:34:19.743146Z"
        },
        "trusted": true,
        "id": "JnRcMH-BqzcM",
        "colab": {
          "base_uri": "https://localhost:8080/",
          "height": 792
        },
        "outputId": "007ce316-9a38-45cf-c060-d5f9a80bd262"
      },
      "outputs": [
        {
          "output_type": "display_data",
          "data": {
            "text/plain": [
              "<Figure size 1200x1000 with 2 Axes>"
            ],
            "image/png": "[encoded data removed]"
          },
          "metadata": {}
        }
      ],
      "execution_count": 22
    },
    {
      "cell_type": "markdown",
      "source": [
        "Removing highly correlated features (those with values near +1 or -1) and dropping some of them, as they provide redundant information. This can help reduce dimensionality and avoid multicollinearity in the model."
      ],
      "metadata": {
        "id": "lqRXIJJNqzcM"
      }
    },
    {
      "cell_type": "code",
      "source": [
        "df['num_root'].corr(df['num_compromised'])"
      ],
      "metadata": {
        "execution": {
          "iopub.status.busy": "2024-10-17T14:34:19.746372Z",
          "iopub.execute_input": "2024-10-17T14:34:19.746864Z",
          "iopub.status.idle": "2024-10-17T14:34:19.765176Z",
          "shell.execute_reply.started": "2024-10-17T14:34:19.74681Z",
          "shell.execute_reply": "2024-10-17T14:34:19.764031Z"
        },
        "trusted": true,
        "id": "cvc0EpadqzcM",
        "colab": {
          "base_uri": "https://localhost:8080/"
        },
        "outputId": "90944528-55b1-4718-ccdd-430dc7874b01"
      },
      "outputs": [
        {
          "output_type": "execute_result",
          "data": {
            "text/plain": [
              "0.9954868045020967"
            ]
          },
          "metadata": {},
          "execution_count": 23
        }
      ],
      "execution_count": 23
    },
    {
      "cell_type": "code",
      "source": [
        "df['srv_serror_rate'].corr(df['serror_rate'])"
      ],
      "metadata": {
        "execution": {
          "iopub.status.busy": "2024-10-17T14:34:19.766665Z",
          "iopub.execute_input": "2024-10-17T14:34:19.767081Z",
          "iopub.status.idle": "2024-10-17T14:34:19.782564Z",
          "shell.execute_reply.started": "2024-10-17T14:34:19.76704Z",
          "shell.execute_reply": "2024-10-17T14:34:19.781423Z"
        },
        "trusted": true,
        "id": "ui9ZRgh_qzcN",
        "colab": {
          "base_uri": "https://localhost:8080/"
        },
        "outputId": "7f734f8d-ab49-40f7-b9a1-3ceda928d2a8"
      },
      "outputs": [
        {
          "output_type": "execute_result",
          "data": {
            "text/plain": [
              "0.9884862366105012"
            ]
          },
          "metadata": {},
          "execution_count": 24
        }
      ],
      "execution_count": 24
    },
    {
      "cell_type": "code",
      "source": [
        "df['srv_count'].corr(df['count'])"
      ],
      "metadata": {
        "execution": {
          "iopub.status.busy": "2024-10-17T14:34:19.784267Z",
          "iopub.execute_input": "2024-10-17T14:34:19.784759Z",
          "iopub.status.idle": "2024-10-17T14:34:19.802475Z",
          "shell.execute_reply.started": "2024-10-17T14:34:19.784706Z",
          "shell.execute_reply": "2024-10-17T14:34:19.801196Z"
        },
        "trusted": true,
        "id": "kna9yDXCqzcN",
        "colab": {
          "base_uri": "https://localhost:8080/"
        },
        "outputId": "cc0e25a6-1f35-4fbb-85d7-cb3b9fd42b15"
      },
      "outputs": [
        {
          "output_type": "execute_result",
          "data": {
            "text/plain": [
              "0.9443430174728403"
            ]
          },
          "metadata": {},
          "execution_count": 25
        }
      ],
      "execution_count": 25
    },
    {
      "cell_type": "code",
      "source": [
        "df['srv_rerror_rate'].corr(df['rerror_rate'])"
      ],
      "metadata": {
        "execution": {
          "iopub.status.busy": "2024-10-17T14:34:19.803937Z",
          "iopub.execute_input": "2024-10-17T14:34:19.804393Z",
          "iopub.status.idle": "2024-10-17T14:34:19.82041Z",
          "shell.execute_reply.started": "2024-10-17T14:34:19.804344Z",
          "shell.execute_reply": "2024-10-17T14:34:19.819065Z"
        },
        "trusted": true,
        "id": "da74RUmKqzcU",
        "colab": {
          "base_uri": "https://localhost:8080/"
        },
        "outputId": "38b7dfc8-1e87-4f04-8766-f3b56180d1c6"
      },
      "outputs": [
        {
          "output_type": "execute_result",
          "data": {
            "text/plain": [
              "0.9949781104340533"
            ]
          },
          "metadata": {},
          "execution_count": 26
        }
      ],
      "execution_count": 26
    },
    {
      "cell_type": "code",
      "source": [
        "df['dst_host_same_srv_rate'].corr(df['dst_host_srv_count'])"
      ],
      "metadata": {
        "execution": {
          "iopub.status.busy": "2024-10-17T14:34:19.821719Z",
          "iopub.execute_input": "2024-10-17T14:34:19.822094Z",
          "iopub.status.idle": "2024-10-17T14:34:19.837989Z",
          "shell.execute_reply.started": "2024-10-17T14:34:19.822058Z",
          "shell.execute_reply": "2024-10-17T14:34:19.836878Z"
        },
        "trusted": true,
        "id": "3QSUJw6jqzcV",
        "colab": {
          "base_uri": "https://localhost:8080/"
        },
        "outputId": "5df94bf0-b45b-458c-85c8-7b1feac5d1af"
      },
      "outputs": [
        {
          "output_type": "execute_result",
          "data": {
            "text/plain": [
              "0.9708003867514321"
            ]
          },
          "metadata": {},
          "execution_count": 27
        }
      ],
      "execution_count": 27
    },
    {
      "cell_type": "code",
      "source": [
        "df['dst_host_srv_serror_rate'].corr(df['dst_host_serror_rate'])"
      ],
      "metadata": {
        "execution": {
          "iopub.status.busy": "2024-10-17T14:34:19.84529Z",
          "iopub.execute_input": "2024-10-17T14:34:19.84597Z",
          "iopub.status.idle": "2024-10-17T14:34:19.860245Z",
          "shell.execute_reply.started": "2024-10-17T14:34:19.845927Z",
          "shell.execute_reply": "2024-10-17T14:34:19.858916Z"
        },
        "trusted": true,
        "id": "Zw_sSXduqzcV",
        "colab": {
          "base_uri": "https://localhost:8080/"
        },
        "outputId": "789e628d-7a5c-49c0-8200-ef4fccaab593"
      },
      "outputs": [
        {
          "output_type": "execute_result",
          "data": {
            "text/plain": [
              "0.9835797449002691"
            ]
          },
          "metadata": {},
          "execution_count": 28
        }
      ],
      "execution_count": 28
    },
    {
      "cell_type": "code",
      "source": [
        "df['dst_host_srv_rerror_rate'].corr(df['dst_host_rerror_rate'])"
      ],
      "metadata": {
        "execution": {
          "iopub.status.busy": "2024-10-17T14:34:19.861663Z",
          "iopub.execute_input": "2024-10-17T14:34:19.862161Z",
          "iopub.status.idle": "2024-10-17T14:34:19.877612Z",
          "shell.execute_reply.started": "2024-10-17T14:34:19.86211Z",
          "shell.execute_reply": "2024-10-17T14:34:19.876154Z"
        },
        "trusted": true,
        "id": "DrV6gPBFqzcV",
        "colab": {
          "base_uri": "https://localhost:8080/"
        },
        "outputId": "a05ed99e-38e1-486b-b736-5137bfca224a"
      },
      "outputs": [
        {
          "output_type": "execute_result",
          "data": {
            "text/plain": [
              "0.9872350602518525"
            ]
          },
          "metadata": {},
          "execution_count": 29
        }
      ],
      "execution_count": 29
    },
    {
      "cell_type": "code",
      "source": [
        "df['dst_host_same_srv_rate'].corr(df['same_srv_rate'])"
      ],
      "metadata": {
        "execution": {
          "iopub.status.busy": "2024-10-17T14:34:19.879097Z",
          "iopub.execute_input": "2024-10-17T14:34:19.879451Z",
          "iopub.status.idle": "2024-10-17T14:34:19.894226Z",
          "shell.execute_reply.started": "2024-10-17T14:34:19.879414Z",
          "shell.execute_reply": "2024-10-17T14:34:19.893184Z"
        },
        "trusted": true,
        "id": "Ld97I77WqzcW",
        "colab": {
          "base_uri": "https://localhost:8080/"
        },
        "outputId": "df2f9ce8-b7ee-4623-b30a-6cdaeaa35244"
      },
      "outputs": [
        {
          "output_type": "execute_result",
          "data": {
            "text/plain": [
              "0.9579397375959919"
            ]
          },
          "metadata": {},
          "execution_count": 30
        }
      ],
      "execution_count": 30
    },
    {
      "cell_type": "code",
      "source": [
        "df['dst_host_srv_count'].corr(df['same_srv_rate'])"
      ],
      "metadata": {
        "execution": {
          "iopub.status.busy": "2024-10-17T14:34:19.896104Z",
          "iopub.execute_input": "2024-10-17T14:34:19.896591Z",
          "iopub.status.idle": "2024-10-17T14:34:19.913642Z",
          "shell.execute_reply.started": "2024-10-17T14:34:19.896541Z",
          "shell.execute_reply": "2024-10-17T14:34:19.912278Z"
        },
        "trusted": true,
        "id": "3L7Z0atXqzcW",
        "colab": {
          "base_uri": "https://localhost:8080/"
        },
        "outputId": "b3b9ff80-e126-4c62-cdc7-111f50582807"
      },
      "outputs": [
        {
          "output_type": "execute_result",
          "data": {
            "text/plain": [
              "0.9252002807903411"
            ]
          },
          "metadata": {},
          "execution_count": 31
        }
      ],
      "execution_count": 31
    },
    {
      "cell_type": "code",
      "source": [
        "df['dst_host_same_src_port_rate'].corr(df['srv_count'])"
      ],
      "metadata": {
        "execution": {
          "iopub.status.busy": "2024-10-17T14:34:19.91508Z",
          "iopub.execute_input": "2024-10-17T14:34:19.916175Z",
          "iopub.status.idle": "2024-10-17T14:34:19.932545Z",
          "shell.execute_reply.started": "2024-10-17T14:34:19.916128Z",
          "shell.execute_reply": "2024-10-17T14:34:19.931196Z"
        },
        "trusted": true,
        "id": "wuINfG_2qzcW",
        "colab": {
          "base_uri": "https://localhost:8080/"
        },
        "outputId": "2dc63069-0902-41de-f90d-8931afe546bc"
      },
      "outputs": [
        {
          "output_type": "execute_result",
          "data": {
            "text/plain": [
              "0.862928344806543"
            ]
          },
          "metadata": {},
          "execution_count": 32
        }
      ],
      "execution_count": 32
    },
    {
      "cell_type": "code",
      "source": [
        "df['dst_host_serror_rate'].corr(df['serror_rate'])"
      ],
      "metadata": {
        "execution": {
          "iopub.status.busy": "2024-10-17T14:34:19.934021Z",
          "iopub.execute_input": "2024-10-17T14:34:19.934375Z",
          "iopub.status.idle": "2024-10-17T14:34:19.951108Z",
          "shell.execute_reply.started": "2024-10-17T14:34:19.934339Z",
          "shell.execute_reply": "2024-10-17T14:34:19.949541Z"
        },
        "trusted": true,
        "id": "lup6b4B7qzcX",
        "colab": {
          "base_uri": "https://localhost:8080/"
        },
        "outputId": "d1341161-9ee1-4f03-f737-84496d3c25d8"
      },
      "outputs": [
        {
          "output_type": "execute_result",
          "data": {
            "text/plain": [
              "0.9816700316810016"
            ]
          },
          "metadata": {},
          "execution_count": 33
        }
      ],
      "execution_count": 33
    },
    {
      "cell_type": "code",
      "source": [
        "df['dst_host_serror_rate'].corr(df['srv_serror_rate'])"
      ],
      "metadata": {
        "execution": {
          "iopub.status.busy": "2024-10-17T14:34:19.952533Z",
          "iopub.execute_input": "2024-10-17T14:34:19.952971Z",
          "iopub.status.idle": "2024-10-17T14:34:19.968077Z",
          "shell.execute_reply.started": "2024-10-17T14:34:19.952922Z",
          "shell.execute_reply": "2024-10-17T14:34:19.966887Z"
        },
        "trusted": true,
        "id": "t0S5tSFkqzcX",
        "colab": {
          "base_uri": "https://localhost:8080/"
        },
        "outputId": "b6421bff-3abf-4eb7-ee6a-d72b378bee24"
      },
      "outputs": [
        {
          "output_type": "execute_result",
          "data": {
            "text/plain": [
              "0.9698646852981938"
            ]
          },
          "metadata": {},
          "execution_count": 35
        }
      ],
      "execution_count": 35
    },
    {
      "cell_type": "code",
      "source": [
        "df['dst_host_srv_serror_rate'].corr(df['serror_rate'])"
      ],
      "metadata": {
        "execution": {
          "iopub.status.busy": "2024-10-17T14:34:19.969663Z",
          "iopub.execute_input": "2024-10-17T14:34:19.970083Z",
          "iopub.status.idle": "2024-10-17T14:34:19.985572Z",
          "shell.execute_reply.started": "2024-10-17T14:34:19.970042Z",
          "shell.execute_reply": "2024-10-17T14:34:19.984506Z"
        },
        "trusted": true,
        "id": "9sBJ2PYQqzcX",
        "colab": {
          "base_uri": "https://localhost:8080/"
        },
        "outputId": "0651f127-811b-4ae9-e6d5-409450e89f5a"
      },
      "outputs": [
        {
          "output_type": "execute_result",
          "data": {
            "text/plain": [
              "0.9766970528493486"
            ]
          },
          "metadata": {},
          "execution_count": 36
        }
      ],
      "execution_count": 36
    },
    {
      "cell_type": "code",
      "source": [
        "df['dst_host_srv_serror_rate'].corr(df['srv_serror_rate'])"
      ],
      "metadata": {
        "execution": {
          "iopub.status.busy": "2024-10-17T14:34:19.987218Z",
          "iopub.execute_input": "2024-10-17T14:34:19.987565Z",
          "iopub.status.idle": "2024-10-17T14:34:20.003162Z",
          "shell.execute_reply.started": "2024-10-17T14:34:19.987532Z",
          "shell.execute_reply": "2024-10-17T14:34:20.002065Z"
        },
        "trusted": true,
        "id": "0O2xrmPQqzcX",
        "colab": {
          "base_uri": "https://localhost:8080/"
        },
        "outputId": "9522ff0f-e417-41aa-d9ef-ab26225f7417"
      },
      "outputs": [
        {
          "output_type": "execute_result",
          "data": {
            "text/plain": [
              "0.9856023951630591"
            ]
          },
          "metadata": {},
          "execution_count": 37
        }
      ],
      "execution_count": 37
    },
    {
      "cell_type": "code",
      "source": [
        "df['dst_host_rerror_rate'].corr(df['rerror_rate'])"
      ],
      "metadata": {
        "execution": {
          "iopub.status.busy": "2024-10-17T14:34:20.004447Z",
          "iopub.execute_input": "2024-10-17T14:34:20.004836Z",
          "iopub.status.idle": "2024-10-17T14:34:20.019953Z",
          "shell.execute_reply.started": "2024-10-17T14:34:20.004797Z",
          "shell.execute_reply": "2024-10-17T14:34:20.018568Z"
        },
        "trusted": true,
        "id": "EFd8zeeKqzcX",
        "colab": {
          "base_uri": "https://localhost:8080/"
        },
        "outputId": "417ea551-1105-4671-af2c-9d19c4deed61"
      },
      "outputs": [
        {
          "output_type": "execute_result",
          "data": {
            "text/plain": [
              "0.9856124495645081"
            ]
          },
          "metadata": {},
          "execution_count": 38
        }
      ],
      "execution_count": 38
    },
    {
      "cell_type": "code",
      "source": [
        "df['dst_host_rerror_rate'].corr(df['srv_rerror_rate'])"
      ],
      "metadata": {
        "execution": {
          "iopub.status.busy": "2024-10-17T14:34:20.021248Z",
          "iopub.execute_input": "2024-10-17T14:34:20.021581Z",
          "iopub.status.idle": "2024-10-17T14:34:20.036374Z",
          "shell.execute_reply.started": "2024-10-17T14:34:20.021546Z",
          "shell.execute_reply": "2024-10-17T14:34:20.035382Z"
        },
        "trusted": true,
        "id": "tpohQgoxqzcX",
        "colab": {
          "base_uri": "https://localhost:8080/"
        },
        "outputId": "3171a933-3160-483c-e5b2-6413f6f53d60"
      },
      "outputs": [
        {
          "output_type": "execute_result",
          "data": {
            "text/plain": [
              "0.9818505296542049"
            ]
          },
          "metadata": {},
          "execution_count": 39
        }
      ],
      "execution_count": 39
    },
    {
      "cell_type": "code",
      "source": [
        "df['dst_host_srv_rerror_rate'].corr(df['rerror_rate'])"
      ],
      "metadata": {
        "execution": {
          "iopub.status.busy": "2024-10-17T14:34:20.037518Z",
          "iopub.execute_input": "2024-10-17T14:34:20.037878Z",
          "iopub.status.idle": "2024-10-17T14:34:20.0531Z",
          "shell.execute_reply.started": "2024-10-17T14:34:20.03784Z",
          "shell.execute_reply": "2024-10-17T14:34:20.052069Z"
        },
        "trusted": true,
        "id": "eyC3yED9qzcY",
        "colab": {
          "base_uri": "https://localhost:8080/"
        },
        "outputId": "37c3ab36-7d19-4cac-fd51-3cd51f4e1aec"
      },
      "outputs": [
        {
          "output_type": "execute_result",
          "data": {
            "text/plain": [
              "0.9900022740684473"
            ]
          },
          "metadata": {},
          "execution_count": 40
        }
      ],
      "execution_count": 40
    },
    {
      "cell_type": "code",
      "source": [
        "df['dst_host_srv_rerror_rate'].corr(df['srv_rerror_rate'])"
      ],
      "metadata": {
        "execution": {
          "iopub.status.busy": "2024-10-17T14:34:20.054442Z",
          "iopub.execute_input": "2024-10-17T14:34:20.05481Z",
          "iopub.status.idle": "2024-10-17T14:34:20.069731Z",
          "shell.execute_reply.started": "2024-10-17T14:34:20.054774Z",
          "shell.execute_reply": "2024-10-17T14:34:20.068159Z"
        },
        "trusted": true,
        "id": "2wuveIXdqzcY",
        "colab": {
          "base_uri": "https://localhost:8080/"
        },
        "outputId": "36e62df1-f571-4989-cd73-ce5d73d98ea2"
      },
      "outputs": [
        {
          "output_type": "execute_result",
          "data": {
            "text/plain": [
              "0.9939225027919674"
            ]
          },
          "metadata": {},
          "execution_count": 41
        }
      ],
      "execution_count": 41
    },
    {
      "cell_type": "code",
      "source": [
        "#This variable is highly correlated with num_compromised and should be ignored for analysis.\n",
        "#(Correlation = 0.9938277978738366)\n",
        "df.drop('num_root',axis = 1,inplace = True)\n",
        "\n",
        "#This variable is highly correlated with serror_rate and should be ignored for analysis.\n",
        "#(Correlation = 0.9983615072725952)\n",
        "df.drop('srv_serror_rate',axis = 1,inplace = True)\n",
        "\n",
        "#This variable is highly correlated with rerror_rate and should be ignored for analysis.\n",
        "#(Correlation = 0.9947309539817937)\n",
        "df.drop('srv_rerror_rate',axis = 1, inplace=True)\n",
        "\n",
        "#This variable is highly correlated with srv_serror_rate and should be ignored for analysis.\n",
        "#(Correlation = 0.9993041091850098)\n",
        "df.drop('dst_host_srv_serror_rate',axis = 1, inplace=True)\n",
        "\n",
        "#This variable is highly correlated with rerror_rate and should be ignored for analysis.\n",
        "#(Correlation = 0.9869947924956001)\n",
        "df.drop('dst_host_serror_rate',axis = 1, inplace=True)\n",
        "\n",
        "#This variable is highly correlated with srv_rerror_rate and should be ignored for analysis.\n",
        "#(Correlation = 0.9821663427308375)\n",
        "df.drop('dst_host_rerror_rate',axis = 1, inplace=True)\n",
        "\n",
        "#This variable is highly correlated with rerror_rate and should be ignored for analysis.\n",
        "#(Correlation = 0.9851995540751249)\n",
        "df.drop('dst_host_srv_rerror_rate',axis = 1, inplace=True)\n",
        "\n",
        "#This variable is highly correlated with dst_host_srv_count and should be ignored for analysis.\n",
        "#(Correlation = 0.9736854572953938)\n",
        "df.drop('dst_host_same_srv_rate',axis = 1, inplace=True)\n"
      ],
      "metadata": {
        "execution": {
          "iopub.status.busy": "2024-10-17T14:34:20.071118Z",
          "iopub.execute_input": "2024-10-17T14:34:20.071481Z",
          "iopub.status.idle": "2024-10-17T14:34:20.386159Z",
          "shell.execute_reply.started": "2024-10-17T14:34:20.071443Z",
          "shell.execute_reply": "2024-10-17T14:34:20.384963Z"
        },
        "trusted": true,
        "id": "KJ-erJLwqzcY"
      },
      "outputs": [],
      "execution_count": 42
    },
    {
      "cell_type": "code",
      "source": [
        "X.columns"
      ],
      "metadata": {
        "execution": {
          "iopub.status.busy": "2024-10-17T14:34:20.38756Z",
          "iopub.execute_input": "2024-10-17T14:34:20.387962Z",
          "iopub.status.idle": "2024-10-17T14:34:20.395351Z",
          "shell.execute_reply.started": "2024-10-17T14:34:20.387913Z",
          "shell.execute_reply": "2024-10-17T14:34:20.394272Z"
        },
        "trusted": true,
        "id": "1W8J7tjaqzcY",
        "colab": {
          "base_uri": "https://localhost:8080/"
        },
        "outputId": "f97327e9-383c-44e8-859d-9cd1f71ceebf"
      },
      "outputs": [
        {
          "output_type": "execute_result",
          "data": {
            "text/plain": [
              "Index(['duration', 'protocol_type', 'service', 'flag', 'src_bytes',\n",
              "       'dst_bytes', 'land', 'wrong_fragment', 'urgent', 'hot',\n",
              "       'num_failed_logins', 'logged_in', 'num_compromised', 'root_shell',\n",
              "       'su_attempted', 'num_root', 'num_file_creations', 'num_shells',\n",
              "       'num_access_files', 'num_outbound_cmds', 'is_host_login',\n",
              "       'is_guest_login', 'count', 'srv_count', 'serror_rate',\n",
              "       'srv_serror_rate', 'rerror_rate', 'srv_rerror_rate', 'same_srv_rate',\n",
              "       'diff_srv_rate', 'srv_diff_host_rate', 'dst_host_count',\n",
              "       'dst_host_srv_count', 'dst_host_same_srv_rate',\n",
              "       'dst_host_diff_srv_rate', 'dst_host_same_src_port_rate',\n",
              "       'dst_host_srv_diff_host_rate', 'dst_host_serror_rate',\n",
              "       'dst_host_srv_serror_rate', 'dst_host_rerror_rate',\n",
              "       'dst_host_srv_rerror_rate'],\n",
              "      dtype='object')"
            ]
          },
          "metadata": {},
          "execution_count": 43
        }
      ],
      "execution_count": 43
    },
    {
      "cell_type": "code",
      "source": [
        "X.shape"
      ],
      "metadata": {
        "execution": {
          "iopub.status.busy": "2024-10-17T14:34:20.396895Z",
          "iopub.execute_input": "2024-10-17T14:34:20.397244Z",
          "iopub.status.idle": "2024-10-17T14:34:20.407929Z",
          "shell.execute_reply.started": "2024-10-17T14:34:20.397208Z",
          "shell.execute_reply": "2024-10-17T14:34:20.406762Z"
        },
        "trusted": true,
        "id": "ADIzAulDqzcZ",
        "colab": {
          "base_uri": "https://localhost:8080/"
        },
        "outputId": "852b29bd-6717-413e-9df5-1a0bdf90040e"
      },
      "outputs": [
        {
          "output_type": "execute_result",
          "data": {
            "text/plain": [
              "(303644, 41)"
            ]
          },
          "metadata": {},
          "execution_count": 44
        }
      ],
      "execution_count": 44
    },
    {
      "cell_type": "code",
      "source": [
        "X.dtypes"
      ],
      "metadata": {
        "execution": {
          "iopub.status.busy": "2024-10-17T14:34:20.4096Z",
          "iopub.execute_input": "2024-10-17T14:34:20.41012Z",
          "iopub.status.idle": "2024-10-17T14:34:20.424068Z",
          "shell.execute_reply.started": "2024-10-17T14:34:20.410051Z",
          "shell.execute_reply": "2024-10-17T14:34:20.422791Z"
        },
        "trusted": true,
        "id": "55OZgRseqzcZ",
        "colab": {
          "base_uri": "https://localhost:8080/",
          "height": 1000
        },
        "outputId": "e20ed413-65ab-4288-8d2c-8208f25c173e"
      },
      "outputs": [
        {
          "output_type": "execute_result",
          "data": {
            "text/plain": [
              "duration                         int64\n",
              "protocol_type                    int64\n",
              "service                          int64\n",
              "flag                             int64\n",
              "src_bytes                        int64\n",
              "dst_bytes                        int64\n",
              "land                             int64\n",
              "wrong_fragment                   int64\n",
              "urgent                           int64\n",
              "hot                              int64\n",
              "num_failed_logins                int64\n",
              "logged_in                        int64\n",
              "num_compromised                  int64\n",
              "root_shell                       int64\n",
              "su_attempted                     int64\n",
              "num_root                         int64\n",
              "num_file_creations               int64\n",
              "num_shells                       int64\n",
              "num_access_files                 int64\n",
              "num_outbound_cmds                int64\n",
              "is_host_login                    int64\n",
              "is_guest_login                   int64\n",
              "count                            int64\n",
              "srv_count                        int64\n",
              "serror_rate                    float64\n",
              "srv_serror_rate                float64\n",
              "rerror_rate                    float64\n",
              "srv_rerror_rate                float64\n",
              "same_srv_rate                  float64\n",
              "diff_srv_rate                  float64\n",
              "srv_diff_host_rate             float64\n",
              "dst_host_count                 float64\n",
              "dst_host_srv_count             float64\n",
              "dst_host_same_srv_rate         float64\n",
              "dst_host_diff_srv_rate         float64\n",
              "dst_host_same_src_port_rate    float64\n",
              "dst_host_srv_diff_host_rate    float64\n",
              "dst_host_serror_rate           float64\n",
              "dst_host_srv_serror_rate       float64\n",
              "dst_host_rerror_rate           float64\n",
              "dst_host_srv_rerror_rate       float64\n",
              "dtype: object"
            ],
            "text/html": [
              "<div>\n",
              "<style scoped>\n",
              "    .dataframe tbody tr th:only-of-type {\n",
              "        vertical-align: middle;\n",
              "    }\n",
              "\n",
              "    .dataframe tbody tr th {\n",
              "        vertical-align: top;\n",
              "    }\n",
              "\n",
              "    .dataframe thead th {\n",
              "        text-align: right;\n",
              "    }\n",
              "</style>\n",
              "<table border=\"1\" class=\"dataframe\">\n",
              "  <thead>\n",
              "    <tr style=\"text-align: right;\">\n",
              "      <th></th>\n",
              "      <th>0</th>\n",
              "    </tr>\n",
              "  </thead>\n",
              "  <tbody>\n",
              "    <tr>\n",
              "      <th>duration</th>\n",
              "      <td>int64</td>\n",
              "    </tr>\n",
              "    <tr>\n",
              "      <th>protocol_type</th>\n",
              "      <td>int64</td>\n",
              "    </tr>\n",
              "    <tr>\n",
              "      <th>service</th>\n",
              "      <td>int64</td>\n",
              "    </tr>\n",
              "    <tr>\n",
              "      <th>flag</th>\n",
              "      <td>int64</td>\n",
              "    </tr>\n",
              "    <tr>\n",
              "      <th>src_bytes</th>\n",
              "      <td>int64</td>\n",
              "    </tr>\n",
              "    <tr>\n",
              "      <th>dst_bytes</th>\n",
              "      <td>int64</td>\n",
              "    </tr>\n",
              "    <tr>\n",
              "      <th>land</th>\n",
              "      <td>int64</td>\n",
              "    </tr>\n",
              "    <tr>\n",
              "      <th>wrong_fragment</th>\n",
              "      <td>int64</td>\n",
              "    </tr>\n",
              "    <tr>\n",
              "      <th>urgent</th>\n",
              "      <td>int64</td>\n",
              "    </tr>\n",
              "    <tr>\n",
              "      <th>hot</th>\n",
              "      <td>int64</td>\n",
              "    </tr>\n",
              "    <tr>\n",
              "      <th>num_failed_logins</th>\n",
              "      <td>int64</td>\n",
              "    </tr>\n",
              "    <tr>\n",
              "      <th>logged_in</th>\n",
              "      <td>int64</td>\n",
              "    </tr>\n",
              "    <tr>\n",
              "      <th>num_compromised</th>\n",
              "      <td>int64</td>\n",
              "    </tr>\n",
              "    <tr>\n",
              "      <th>root_shell</th>\n",
              "      <td>int64</td>\n",
              "    </tr>\n",
              "    <tr>\n",
              "      <th>su_attempted</th>\n",
              "      <td>int64</td>\n",
              "    </tr>\n",
              "    <tr>\n",
              "      <th>num_root</th>\n",
              "      <td>int64</td>\n",
              "    </tr>\n",
              "    <tr>\n",
              "      <th>num_file_creations</th>\n",
              "      <td>int64</td>\n",
              "    </tr>\n",
              "    <tr>\n",
              "      <th>num_shells</th>\n",
              "      <td>int64</td>\n",
              "    </tr>\n",
              "    <tr>\n",
              "      <th>num_access_files</th>\n",
              "      <td>int64</td>\n",
              "    </tr>\n",
              "    <tr>\n",
              "      <th>num_outbound_cmds</th>\n",
              "      <td>int64</td>\n",
              "    </tr>\n",
              "    <tr>\n",
              "      <th>is_host_login</th>\n",
              "      <td>int64</td>\n",
              "    </tr>\n",
              "    <tr>\n",
              "      <th>is_guest_login</th>\n",
              "      <td>int64</td>\n",
              "    </tr>\n",
              "    <tr>\n",
              "      <th>count</th>\n",
              "      <td>int64</td>\n",
              "    </tr>\n",
              "    <tr>\n",
              "      <th>srv_count</th>\n",
              "      <td>int64</td>\n",
              "    </tr>\n",
              "    <tr>\n",
              "      <th>serror_rate</th>\n",
              "      <td>float64</td>\n",
              "    </tr>\n",
              "    <tr>\n",
              "      <th>srv_serror_rate</th>\n",
              "      <td>float64</td>\n",
              "    </tr>\n",
              "    <tr>\n",
              "      <th>rerror_rate</th>\n",
              "      <td>float64</td>\n",
              "    </tr>\n",
              "    <tr>\n",
              "      <th>srv_rerror_rate</th>\n",
              "      <td>float64</td>\n",
              "    </tr>\n",
              "    <tr>\n",
              "      <th>same_srv_rate</th>\n",
              "      <td>float64</td>\n",
              "    </tr>\n",
              "    <tr>\n",
              "      <th>diff_srv_rate</th>\n",
              "      <td>float64</td>\n",
              "    </tr>\n",
              "    <tr>\n",
              "      <th>srv_diff_host_rate</th>\n",
              "      <td>float64</td>\n",
              "    </tr>\n",
              "    <tr>\n",
              "      <th>dst_host_count</th>\n",
              "      <td>float64</td>\n",
              "    </tr>\n",
              "    <tr>\n",
              "      <th>dst_host_srv_count</th>\n",
              "      <td>float64</td>\n",
              "    </tr>\n",
              "    <tr>\n",
              "      <th>dst_host_same_srv_rate</th>\n",
              "      <td>float64</td>\n",
              "    </tr>\n",
              "    <tr>\n",
              "      <th>dst_host_diff_srv_rate</th>\n",
              "      <td>float64</td>\n",
              "    </tr>\n",
              "    <tr>\n",
              "      <th>dst_host_same_src_port_rate</th>\n",
              "      <td>float64</td>\n",
              "    </tr>\n",
              "    <tr>\n",
              "      <th>dst_host_srv_diff_host_rate</th>\n",
              "      <td>float64</td>\n",
              "    </tr>\n",
              "    <tr>\n",
              "      <th>dst_host_serror_rate</th>\n",
              "      <td>float64</td>\n",
              "    </tr>\n",
              "    <tr>\n",
              "      <th>dst_host_srv_serror_rate</th>\n",
              "      <td>float64</td>\n",
              "    </tr>\n",
              "    <tr>\n",
              "      <th>dst_host_rerror_rate</th>\n",
              "      <td>float64</td>\n",
              "    </tr>\n",
              "    <tr>\n",
              "      <th>dst_host_srv_rerror_rate</th>\n",
              "      <td>float64</td>\n",
              "    </tr>\n",
              "  </tbody>\n",
              "</table>\n",
              "</div><br><label><b>dtype:</b> object</label>"
            ]
          },
          "metadata": {},
          "execution_count": 45
        }
      ],
      "execution_count": 45
    },
    {
      "cell_type": "code",
      "source": [
        "X.shape"
      ],
      "metadata": {
        "execution": {
          "iopub.status.busy": "2024-10-17T14:34:20.425518Z",
          "iopub.execute_input": "2024-10-17T14:34:20.42593Z",
          "iopub.status.idle": "2024-10-17T14:34:20.437444Z",
          "shell.execute_reply.started": "2024-10-17T14:34:20.42589Z",
          "shell.execute_reply": "2024-10-17T14:34:20.436145Z"
        },
        "trusted": true,
        "id": "eOxqDKA0qzcZ",
        "colab": {
          "base_uri": "https://localhost:8080/"
        },
        "outputId": "89c5ced3-445a-4d59-afb6-5fe3b22ca3aa"
      },
      "outputs": [
        {
          "output_type": "execute_result",
          "data": {
            "text/plain": [
              "(303644, 41)"
            ]
          },
          "metadata": {},
          "execution_count": 46
        }
      ],
      "execution_count": 46
    },
    {
      "cell_type": "code",
      "source": [
        "from sklearn.model_selection import train_test_split\n",
        "\n",
        "# Split data into 80% train and 20% test\n",
        "X_train, X_test, y_train, y_test = train_test_split(X, y_binary,train_size=1000, random_state=42, stratify=y_binary)\n",
        "\n",
        "print(f\"Training set size: {X_train.shape}\")\n",
        "print(f\"Test set size: {X_test.shape}\")"
      ],
      "metadata": {
        "execution": {
          "iopub.status.busy": "2024-10-17T14:34:20.439262Z",
          "iopub.execute_input": "2024-10-17T14:34:20.439846Z",
          "iopub.status.idle": "2024-10-17T14:34:20.558929Z",
          "shell.execute_reply.started": "2024-10-17T14:34:20.439791Z",
          "shell.execute_reply": "2024-10-17T14:34:20.557755Z"
        },
        "trusted": true,
        "id": "Kdf25oBiqzcZ",
        "colab": {
          "base_uri": "https://localhost:8080/"
        },
        "outputId": "66fcc45c-4054-4e3e-8272-3ea4c6d462e6"
      },
      "outputs": [
        {
          "output_type": "stream",
          "name": "stdout",
          "text": [
            "Training set size: (1000, 41)\n",
            "Test set size: (302644, 41)\n"
          ]
        }
      ],
      "execution_count": 47
    },
    {
      "cell_type": "code",
      "source": [
        "# Filter only normal samples for GAN training ( '0' is normal)\n",
        "X_train_normal = X_train[y_train == 0]\n",
        "X_train.shape"
      ],
      "metadata": {
        "execution": {
          "iopub.status.busy": "2024-10-17T14:34:20.560234Z",
          "iopub.execute_input": "2024-10-17T14:34:20.56057Z",
          "iopub.status.idle": "2024-10-17T14:34:20.569816Z",
          "shell.execute_reply.started": "2024-10-17T14:34:20.560535Z",
          "shell.execute_reply": "2024-10-17T14:34:20.56867Z"
        },
        "trusted": true,
        "id": "cgNC02UkqzcZ",
        "colab": {
          "base_uri": "https://localhost:8080/"
        },
        "outputId": "598fa8f4-527d-4bdd-f12d-89e0bf08b4f0"
      },
      "outputs": [
        {
          "output_type": "execute_result",
          "data": {
            "text/plain": [
              "(1000, 41)"
            ]
          },
          "metadata": {},
          "execution_count": 48
        }
      ],
      "execution_count": 48
    },
    {
      "cell_type": "code",
      "source": [
        "y_train.shape"
      ],
      "metadata": {
        "execution": {
          "iopub.status.busy": "2024-10-17T14:34:20.571198Z",
          "iopub.execute_input": "2024-10-17T14:34:20.57161Z",
          "iopub.status.idle": "2024-10-17T14:34:20.583027Z",
          "shell.execute_reply.started": "2024-10-17T14:34:20.57157Z",
          "shell.execute_reply": "2024-10-17T14:34:20.581851Z"
        },
        "trusted": true,
        "id": "DQ9zI0URqzca",
        "colab": {
          "base_uri": "https://localhost:8080/"
        },
        "outputId": "4f9bc760-f1ef-4177-d6bb-723fdf025467"
      },
      "outputs": [
        {
          "output_type": "execute_result",
          "data": {
            "text/plain": [
              "(1000,)"
            ]
          },
          "metadata": {},
          "execution_count": 49
        }
      ],
      "execution_count": 49
    },
    {
      "cell_type": "markdown",
      "source": [
        "**Data Normalisation**"
      ],
      "metadata": {
        "id": "ux5OGxiSqzca"
      }
    },
    {
      "cell_type": "markdown",
      "source": [
        "Normalization is important when building a GAN, as it helps improve the training stability and performance of both the generator and discriminator. GANs, especially with architectures that use activation functions like tanh in the generator and sigmoid in the discriminator, benefit from normalized data."
      ],
      "metadata": {
        "id": "AR0Vjm39qzca"
      }
    },
    {
      "cell_type": "code",
      "source": [
        "from sklearn.preprocessing import MinMaxScaler\n",
        "\n",
        "scaler = MinMaxScaler(feature_range=(-1, 1))\n",
        "df_normalized = scaler.fit_transform(X_train)  # Normalize all features\n",
        "\n",
        "# Convert to a TensorFlow tensor\n",
        "import tensorflow as tf\n",
        "\n",
        "df_normalized_tensor = tf.convert_to_tensor(df_normalized, dtype=tf.float32)"
      ],
      "metadata": {
        "execution": {
          "iopub.status.busy": "2024-10-17T14:34:20.584397Z",
          "iopub.execute_input": "2024-10-17T14:34:20.584799Z",
          "iopub.status.idle": "2024-10-17T14:34:20.600956Z",
          "shell.execute_reply.started": "2024-10-17T14:34:20.584747Z",
          "shell.execute_reply": "2024-10-17T14:34:20.59976Z"
        },
        "trusted": true,
        "id": "VVRXnVZzqzca"
      },
      "outputs": [],
      "execution_count": 50
    },
    {
      "cell_type": "code",
      "source": [
        "def create_tf_dataset(data, batch_size):\n",
        "    dataset = tf.data.Dataset.from_tensor_slices(data)\n",
        "    dataset = dataset.shuffle(buffer_size=len(data))  # Shuffle the dataset\n",
        "    dataset = dataset.batch(batch_size)  # Create batches\n",
        "    return dataset\n",
        "\n",
        "BATCH_SIZE = 64 # try 64 now\n",
        "tf_dataset = create_tf_dataset(df_normalized_tensor, BATCH_SIZE)"
      ],
      "metadata": {
        "execution": {
          "iopub.status.busy": "2024-10-17T14:34:20.604755Z",
          "iopub.execute_input": "2024-10-17T14:34:20.605912Z",
          "iopub.status.idle": "2024-10-17T14:34:20.618836Z",
          "shell.execute_reply.started": "2024-10-17T14:34:20.605865Z",
          "shell.execute_reply": "2024-10-17T14:34:20.617718Z"
        },
        "trusted": true,
        "id": "IWtenFvNqzcb"
      },
      "outputs": [],
      "execution_count": 51
    },
    {
      "cell_type": "markdown",
      "source": [
        "**Build GAN components**"
      ],
      "metadata": {
        "id": "1O8bT2wGqzcb"
      }
    },
    {
      "cell_type": "code",
      "source": [
        "def build_generator(noise_dim):\n",
        "    model = tf.keras.Sequential([\n",
        "        tf.keras.layers.Dense(256, activation='relu', input_shape=(100,)),  # Input shape for noise\n",
        "        tf.keras.layers.Dense(512, activation='relu'),\n",
        "        tf.keras.layers.Dense(1024, activation='relu'),\n",
        "        tf.keras.layers.BatchNormalization(),\n",
        "        tf.keras.layers.Dense(41, activation='tanh')  # Output layer for 41 features\n",
        "    ])\n",
        "    return model\n",
        "\n",
        "noise_dim = 100  # Dimension of the noise vector\n",
        "generator = build_generator(noise_dim)\n",
        "\n",
        "# Test the generator\n",
        "# Generate a random noise vector\n",
        "test_noise = tf.random.normal([1, noise_dim])\n",
        "generated_data = generator(test_noise)\n",
        "print(generated_data.shape)"
      ],
      "metadata": {
        "execution": {
          "iopub.status.busy": "2024-10-17T14:34:20.620202Z",
          "iopub.execute_input": "2024-10-17T14:34:20.620535Z",
          "iopub.status.idle": "2024-10-17T14:34:20.682864Z",
          "shell.execute_reply.started": "2024-10-17T14:34:20.6205Z",
          "shell.execute_reply": "2024-10-17T14:34:20.681756Z"
        },
        "trusted": true,
        "id": "DmjDzCzbqzcb",
        "colab": {
          "base_uri": "https://localhost:8080/"
        },
        "outputId": "6af81547-1468-45b2-a3eb-376622f24fb4"
      },
      "outputs": [
        {
          "output_type": "stream",
          "name": "stdout",
          "text": [
            "(1, 41)\n"
          ]
        },
        {
          "output_type": "stream",
          "name": "stderr",
          "text": [
            "/usr/local/lib/python3.11/dist-packages/keras/src/layers/core/dense.py:87: UserWarning: Do not pass an `input_shape`/`input_dim` argument to a layer. When using Sequential models, prefer using an `Input(shape)` object as the first layer in the model instead.\n",
            "  super().__init__(activity_regularizer=activity_regularizer, **kwargs)\n"
          ]
        }
      ],
      "execution_count": 52
    },
    {
      "cell_type": "code",
      "source": [
        "def build_discriminator():\n",
        "    model = tf.keras.Sequential([\n",
        "        tf.keras.layers.Dense(512, activation='relu', input_shape=(41,)),  # Adjust input shape if needed\n",
        "        tf.keras.layers.BatchNormalization(),\n",
        "        tf.keras.layers.Dense(256, activation='relu'),\n",
        "        tf.keras.layers.BatchNormalization(),\n",
        "        tf.keras.layers.Dense(1)\n",
        "    ])\n",
        "    return model\n",
        "\n",
        "discriminator = build_discriminator()"
      ],
      "metadata": {
        "execution": {
          "iopub.status.busy": "2024-10-17T14:34:20.684137Z",
          "iopub.execute_input": "2024-10-17T14:34:20.684474Z",
          "iopub.status.idle": "2024-10-17T14:34:20.736675Z",
          "shell.execute_reply.started": "2024-10-17T14:34:20.684438Z",
          "shell.execute_reply": "2024-10-17T14:34:20.735454Z"
        },
        "trusted": true,
        "id": "dUaCCOzuqzcb"
      },
      "outputs": [],
      "execution_count": 53
    },
    {
      "cell_type": "code",
      "source": [
        "from tensorflow.keras.losses import BinaryCrossentropy\n",
        "cross_entropy = BinaryCrossentropy(from_logits=True)\n",
        "\n",
        "\n",
        "\n",
        "def generator_loss(fake_output):\n",
        "    return -tf.reduce_mean(fake_output) # Wasserstein loss\n",
        "\n",
        "def discriminator_loss(real_output, fake_output):\n",
        "    return tf.reduce_mean(fake_output) - tf.reduce_mean(real_output)\n",
        "\n",
        "# Optimizers\n",
        "generator_optimizer = tf.keras.optimizers.Adam(1e-5) #Adjusted learning rate to improve the model\n",
        "discriminator_optimizer = tf.keras.optimizers.Adam(1e-5)"
      ],
      "metadata": {
        "execution": {
          "iopub.status.busy": "2024-10-17T14:34:20.73806Z",
          "iopub.execute_input": "2024-10-17T14:34:20.73841Z",
          "iopub.status.idle": "2024-10-17T14:34:20.7509Z",
          "shell.execute_reply.started": "2024-10-17T14:34:20.738372Z",
          "shell.execute_reply": "2024-10-17T14:34:20.749501Z"
        },
        "trusted": true,
        "id": "dzNP7Xm8qzcb"
      },
      "outputs": [],
      "execution_count": 54
    },
    {
      "cell_type": "code",
      "source": [
        "@tf.function\n",
        "def train_step(real_images):\n",
        "    noise = tf.random.normal([BATCH_SIZE, noise_dim])  # Create noise\n",
        "\n",
        "    with tf.GradientTape() as gen_tape, tf.GradientTape() as disc_tape:\n",
        "        generated_images = generator(noise, training=True)\n",
        "\n",
        "        real_output = discriminator(real_images, training=True)\n",
        "        fake_output = discriminator(generated_images, training=True)\n",
        "\n",
        "        gen_loss = generator_loss(fake_output)\n",
        "        disc_loss = discriminator_loss(real_output, fake_output)\n",
        "\n",
        "    gradients_of_generator = gen_tape.gradient(gen_loss, generator.trainable_variables)\n",
        "    gradients_of_discriminator = disc_tape.gradient(disc_loss, discriminator.trainable_variables)\n",
        "\n",
        "    generator_optimizer.apply_gradients(zip(gradients_of_generator, generator.trainable_variables))\n",
        "    discriminator_optimizer.apply_gradients(zip(gradients_of_discriminator, discriminator.trainable_variables))\n",
        "\n",
        "    return gen_loss, disc_loss"
      ],
      "metadata": {
        "execution": {
          "iopub.status.busy": "2024-10-17T14:34:20.752501Z",
          "iopub.execute_input": "2024-10-17T14:34:20.753459Z",
          "iopub.status.idle": "2024-10-17T14:34:20.790961Z",
          "shell.execute_reply.started": "2024-10-17T14:34:20.75341Z",
          "shell.execute_reply": "2024-10-17T14:34:20.789747Z"
        },
        "trusted": true,
        "id": "87fP2H6qqzcc"
      },
      "outputs": [],
      "execution_count": 57
    },
    {
      "cell_type": "markdown",
      "source": [
        "**Train the Model**"
      ],
      "metadata": {
        "id": "eiY5x0N8qzcc"
      }
    },
    {
      "cell_type": "code",
      "source": [
        "history = {'gen': [], 'dis': []}\n",
        "\n",
        "def train(dataset, epochs):\n",
        "    for epoch in range(epochs):\n",
        "        start = time.time()\n",
        "\n",
        "        for batch in dataset:\n",
        "            gen_loss, dis_loss = train_step(batch)\n",
        "\n",
        "        history['gen'].append(gen_loss)\n",
        "        history['dis'].append(dis_loss)\n",
        "        print('Time for epoch {} is {} sec '.format(epoch + 1, time.time() - start))"
      ],
      "metadata": {
        "execution": {
          "iopub.status.busy": "2024-10-17T14:34:20.795584Z",
          "iopub.execute_input": "2024-10-17T14:34:20.79604Z",
          "iopub.status.idle": "2024-10-17T14:34:20.806108Z",
          "shell.execute_reply.started": "2024-10-17T14:34:20.795999Z",
          "shell.execute_reply": "2024-10-17T14:34:20.804806Z"
        },
        "trusted": true,
        "id": "oseMR5gaqzcc"
      },
      "outputs": [],
      "execution_count": null
    },
    {
      "cell_type": "code",
      "source": [
        "EPOCHS = 1000  # Set the number of epochs\n",
        "train(tf_dataset, EPOCHS)"
      ],
      "metadata": {
        "execution": {
          "iopub.status.busy": "2024-10-17T14:34:20.807824Z",
          "iopub.execute_input": "2024-10-17T14:34:20.808223Z",
          "iopub.status.idle": "2024-10-17T14:37:48.107322Z",
          "shell.execute_reply.started": "2024-10-17T14:34:20.808176Z",
          "shell.execute_reply": "2024-10-17T14:37:48.105384Z"
        },
        "trusted": true,
        "id": "sL8ArNXGqzcd"
      },
      "outputs": [],
      "execution_count": null
    },
    {
      "cell_type": "markdown",
      "source": [
        "**Detecting Anomalies**"
      ],
      "metadata": {
        "id": "bocWWDM6qzcd"
      }
    },
    {
      "cell_type": "code",
      "source": [
        "sample_size = 0.2\n",
        "\n",
        "X_test_sampled = X_test.sample(frac=sample_size, random_state=42).reset_index(drop=True)\n",
        "y_test_sampled = y_test[:X_test_sampled.shape[0]]\n",
        "\n",
        "y_pred=discriminator.predict(X_test_sampled)"
      ],
      "metadata": {
        "execution": {
          "iopub.status.busy": "2024-10-17T14:46:19.599243Z",
          "iopub.execute_input": "2024-10-17T14:46:19.60086Z",
          "iopub.status.idle": "2024-10-17T14:46:20.802755Z",
          "shell.execute_reply.started": "2024-10-17T14:46:19.600806Z",
          "shell.execute_reply": "2024-10-17T14:46:20.801756Z"
        },
        "trusted": true,
        "id": "84XGqipMqzcd"
      },
      "outputs": [],
      "execution_count": null
    },
    {
      "cell_type": "markdown",
      "source": [
        "**Model Evaluation**"
      ],
      "metadata": {
        "id": "yfB6S-e0qzce"
      }
    },
    {
      "cell_type": "code",
      "source": [
        "epochs = range(1, len(history['gen']) + 1)\n",
        "\n",
        "plt.figure(figsize=(12, 6))\n",
        "\n",
        "# Plot Generator Loss\n",
        "plt.subplot(1, 2, 1)\n",
        "plt.plot(epochs, history['gen'], label='Generator Loss', color='blue')\n",
        "plt.title('Generator Loss Over Epochs')\n",
        "plt.xlabel('Epochs')\n",
        "plt.ylabel('Loss')\n",
        "plt.legend()\n",
        "\n",
        "# Plot Discriminator Loss\n",
        "plt.subplot(1, 2, 2)\n",
        "plt.plot(epochs, history['dis'], label='Discriminator Loss', color='red')\n",
        "plt.title('Discriminator Loss Over Epochs')\n",
        "plt.xlabel('Epochs')\n",
        "plt.ylabel('Loss')\n",
        "plt.legend()\n",
        "\n",
        "plt.tight_layout()\n",
        "plt.show()"
      ],
      "metadata": {
        "execution": {
          "iopub.status.busy": "2024-10-17T14:46:22.277495Z",
          "iopub.execute_input": "2024-10-17T14:46:22.277947Z",
          "iopub.status.idle": "2024-10-17T14:46:22.91301Z",
          "shell.execute_reply.started": "2024-10-17T14:46:22.277905Z",
          "shell.execute_reply": "2024-10-17T14:46:22.911776Z"
        },
        "trusted": true,
        "id": "CtHYVpG5qzce"
      },
      "outputs": [],
      "execution_count": null
    },
    {
      "cell_type": "markdown",
      "source": [
        "**Find Optimal Threshold**"
      ],
      "metadata": {
        "id": "ptPGSZa1qzce"
      }
    },
    {
      "cell_type": "code",
      "source": [
        "from sklearn.metrics import average_precision_score, accuracy_score ,recall_score, f1_score\n",
        "prob=[0.2,0.4,0.6,0.8,1.0]\n",
        "for p in prob:\n",
        "    pred_value =[1 if i<p  else 0 for i in y_pred]\n",
        "    f1=f1_score(y_test_sampled,pred_value)\n",
        "    acc=accuracy_score(y_test_sampled,pred_value)\n",
        "    precision=average_precision_score(y_test_sampled,pred_value)\n",
        "    recall= recall_score(y_test_sampled,pred_value)\n",
        "    print(f'prob ={p} and f1 score ={f1} : accuracy={acc} : precision={precision} : recall={recall}')\n",
        "    print(pred_value.count(0),pred_value.count(1))"
      ],
      "metadata": {
        "execution": {
          "iopub.status.busy": "2024-10-17T14:47:47.203988Z",
          "iopub.execute_input": "2024-10-17T14:47:47.204429Z",
          "iopub.status.idle": "2024-10-17T14:47:47.595403Z",
          "shell.execute_reply.started": "2024-10-17T14:47:47.20439Z",
          "shell.execute_reply": "2024-10-17T14:47:47.594302Z"
        },
        "trusted": true,
        "id": "AYDyZ6ctqzce",
        "colab": {
          "base_uri": "https://localhost:8080/",
          "height": 211
        },
        "outputId": "b95efbac-5568-40db-e49e-e407213e786f"
      },
      "outputs": [
        {
          "output_type": "error",
          "ename": "NameError",
          "evalue": "name 'y_pred' is not defined",
          "traceback": [
            "\u001b[0;31m---------------------------------------------------------------------------\u001b[0m",
            "\u001b[0;31mNameError\u001b[0m                                 Traceback (most recent call last)",
            "\u001b[0;32m<ipython-input-34-f5dcc067f546>\u001b[0m in \u001b[0;36m<cell line: 0>\u001b[0;34m()\u001b[0m\n\u001b[1;32m      2\u001b[0m \u001b[0mprob\u001b[0m\u001b[0;34m=\u001b[0m\u001b[0;34m[\u001b[0m\u001b[0;36m0.2\u001b[0m\u001b[0;34m,\u001b[0m\u001b[0;36m0.4\u001b[0m\u001b[0;34m,\u001b[0m\u001b[0;36m0.6\u001b[0m\u001b[0;34m,\u001b[0m\u001b[0;36m0.8\u001b[0m\u001b[0;34m,\u001b[0m\u001b[0;36m1.0\u001b[0m\u001b[0;34m]\u001b[0m\u001b[0;34m\u001b[0m\u001b[0;34m\u001b[0m\u001b[0m\n\u001b[1;32m      3\u001b[0m \u001b[0;32mfor\u001b[0m \u001b[0mp\u001b[0m \u001b[0;32min\u001b[0m \u001b[0mprob\u001b[0m\u001b[0;34m:\u001b[0m\u001b[0;34m\u001b[0m\u001b[0;34m\u001b[0m\u001b[0m\n\u001b[0;32m----> 4\u001b[0;31m     \u001b[0mpred_value\u001b[0m \u001b[0;34m=\u001b[0m\u001b[0;34m[\u001b[0m\u001b[0;36m1\u001b[0m \u001b[0;32mif\u001b[0m \u001b[0mi\u001b[0m\u001b[0;34m<\u001b[0m\u001b[0mp\u001b[0m  \u001b[0;32melse\u001b[0m \u001b[0;36m0\u001b[0m \u001b[0;32mfor\u001b[0m \u001b[0mi\u001b[0m \u001b[0;32min\u001b[0m \u001b[0my_pred\u001b[0m\u001b[0;34m]\u001b[0m\u001b[0;34m\u001b[0m\u001b[0;34m\u001b[0m\u001b[0m\n\u001b[0m\u001b[1;32m      5\u001b[0m     \u001b[0mf1\u001b[0m\u001b[0;34m=\u001b[0m\u001b[0mf1_score\u001b[0m\u001b[0;34m(\u001b[0m\u001b[0my_test_sampled\u001b[0m\u001b[0;34m,\u001b[0m\u001b[0mpred_value\u001b[0m\u001b[0;34m)\u001b[0m\u001b[0;34m\u001b[0m\u001b[0;34m\u001b[0m\u001b[0m\n\u001b[1;32m      6\u001b[0m     \u001b[0macc\u001b[0m\u001b[0;34m=\u001b[0m\u001b[0maccuracy_score\u001b[0m\u001b[0;34m(\u001b[0m\u001b[0my_test_sampled\u001b[0m\u001b[0;34m,\u001b[0m\u001b[0mpred_value\u001b[0m\u001b[0;34m)\u001b[0m\u001b[0;34m\u001b[0m\u001b[0;34m\u001b[0m\u001b[0m\n",
            "\u001b[0;31mNameError\u001b[0m: name 'y_pred' is not defined"
          ]
        }
      ],
      "execution_count": 34
    },
    {
      "cell_type": "markdown",
      "source": [
        "**Key Observations**\n",
        "\n",
        "Probabilities: The probabilities being tested range from 0.2 to 1.0. As we increase the threshold, the F1 score slightly improves, but remains low across all thresholds (hovering around 0.119).\n",
        "\n",
        "F1 Score: The F1 scores are consistently low, indicating a poor balance between precision and recall. Despite slight increases, they are far from optimal values (which typically range from 0 to 1, with 1 being perfect).\n",
        "\n",
        "Accuracy: The accuracy remains around 0.238, suggesting that approximately 23.8% of predictions are correct. This indicates that the model might be biased toward predicting the negative class due to the low recall.\n",
        "\n",
        "Precision and Recall:\n",
        "\n",
        "Precision remains relatively high (around 0.802), suggesting that when the model predicts a positive class, it is correct about 80% of the time.\n",
        "\n",
        "Recall is extremely low (around 0.064), indicating that the model is failing to identify a significant number of actual positive instances.\n",
        "\n",
        "Confusion Matrix: Given the counts (e.g., 18522 1239 for probabilities of 0.2): This indicates a strong bias toward the negative class with very few true positives identified."
      ],
      "metadata": {
        "id": "i_O5Kkoyqzcf"
      }
    },
    {
      "cell_type": "markdown",
      "source": [
        "**Next Steps for Improvement**"
      ],
      "metadata": {
        "id": "XSCx2ZoIqzcf"
      }
    },
    {
      "cell_type": "markdown",
      "source": [
        "**Model Architecture Review:**\n",
        "\n",
        "Use a sigmoid activation for binary classification.\n",
        "\n",
        "\n",
        "**Class Imbalance Handling:**\n",
        "\n",
        "Implement oversampling of the minority class or undersampling of the majority class.\n",
        "\n",
        "Use SMOTE (Synthetic Minority Over-sampling Technique) to generate synthetic samples.\n",
        "\n",
        "**Threshold Optimization:**\n",
        "\n",
        "Evaluate different thresholds to maximize the F1 score or achieve a desired balance between precision and recall.\n",
        "\n",
        "**Hyperparameter Tuning:**\n",
        "\n",
        "Experiment with different hyperparameters (learning rate, batch size, etc.) using techniques like Grid Search or Random Search.\n",
        "\n",
        "**Regularization Techniques:**\n",
        "\n",
        "Apply regularization methods (like L1 or L2) to prevent overfitting and improve generalization.\n",
        "\n",
        "**Experiment with Different Models:**\n",
        "\n",
        "Consider testing various algorithms (like XGBoost, LightGBM, or neural networks) to find the best fit for data."
      ],
      "metadata": {
        "id": "3tPWvCf0qzcf"
      }
    }
  ]
}