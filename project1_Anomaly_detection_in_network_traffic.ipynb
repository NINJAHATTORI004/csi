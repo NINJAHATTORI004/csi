{
  "metadata": {
    "kernelspec": {
      "language": "python",
      "display_name": "Python 3",
      "name": "python3"
    },
    "language_info": {
      "name": "python",
      "version": "3.10.14",
      "mimetype": "text/x-python",
      "codemirror_mode": {
        "name": "ipython",
        "version": 3
      },
      "pygments_lexer": "ipython3",
      "nbconvert_exporter": "python",
      "file_extension": ".py"
    },
    "kaggle": {
      "accelerator": "none",
      "dataSources": [
        {
          "sourceId": 208170,
          "sourceType": "datasetVersion",
          "datasetId": 90131
        }
      ],
      "dockerImageVersionId": 30787,
      "isInternetEnabled": true,
      "language": "python",
      "sourceType": "notebook",
      "isGpuEnabled": false
    },
    "colab": {
      "provenance": [],
      "include_colab_link": true
    }
  },
  "nbformat_minor": 0,
  "nbformat": 4,
  "cells": [
    {
      "cell_type": "markdown",
      "metadata": {
        "id": "view-in-github",
        "colab_type": "text"
      },
      "source": [
        "<a href=\"https://colab.research.google.com/github/NINJAHATTORI004/csi/blob/main/project1_Anomaly_detection_in_network_traffic.ipynb\" target=\"_parent\"><img src=\"https://colab.research.google.com/assets/colab-badge.svg\" alt=\"Open In Colab\"/></a>"
      ]
    },
    {
      "source": [
        "\n",
        "import kagglehub\n",
        "galaxyh_kdd_cup_1999_data_path = kagglehub.dataset_download('galaxyh/kdd-cup-1999-data')\n",
        "\n",
        "print('Data source import complete.')\n"
      ],
      "metadata": {
        "colab": {
          "base_uri": "https://localhost:8080/"
        },
        "id": "yLg_Co0xqzb8",
        "outputId": "d8ece586-11d2-492e-e532-b3e3aca05ac0"
      },
      "cell_type": "code",
      "outputs": [
        {
          "output_type": "stream",
          "name": "stdout",
          "text": [
            "Warning: Looks like you're using an outdated `kagglehub` version (installed: 0.3.10), please consider upgrading to the latest version (0.3.12).\n",
            "Downloading from https://www.kaggle.com/api/v1/datasets/download/galaxyh/kdd-cup-1999-data?dataset_version_number=1...\n"
          ]
        },
        {
          "output_type": "stream",
          "name": "stderr",
          "text": [
            "100%|██████████| 87.8M/87.8M [00:01<00:00, 83.0MB/s]"
          ]
        },
        {
          "output_type": "stream",
          "name": "stdout",
          "text": [
            "Extracting files...\n"
          ]
        },
        {
          "output_type": "stream",
          "name": "stderr",
          "text": [
            "\n"
          ]
        },
        {
          "output_type": "stream",
          "name": "stdout",
          "text": [
            "Data source import complete.\n"
          ]
        }
      ],
      "execution_count": null
    },
    {
      "cell_type": "code",
      "source": [
        "\n",
        "\n",
        "import numpy as np # linear algebra\n",
        "import pandas as pd # data processing, CSV file I/O (e.g. pd.read_csv)\n",
        "\n",
        "# Input data files are available in the read-only \"../input/\" directory\n",
        "# For example, running this (by clicking run or pressing Shift+Enter) will list all files under the input directory\n",
        "\n",
        "import os\n",
        "for dirname, _, filenames in os.walk('/kaggle/input'):\n",
        "    for filename in filenames:\n",
        "        print(os.path.join(dirname, filename))\n",
        "\n",
        "# You can write up to 20GB to the current directory (/kaggle/working/) that gets preserved as output when you create a version using \"Save & Run All\"\n",
        "# You can also write temporary files to /kaggle/temp/, but they won't be saved outside of the current session"
      ],
      "metadata": {
        "_uuid": "8f2839f25d086af736a60e9eeb907d3b93b6e0e5",
        "_cell_guid": "b1076dfc-b9ad-4769-8c92-a6c4dae69d19",
        "execution": {
          "iopub.status.busy": "2024-10-17T14:34:11.700233Z",
          "iopub.execute_input": "2024-10-17T14:34:11.700705Z",
          "iopub.status.idle": "2024-10-17T14:34:11.732133Z",
          "shell.execute_reply.started": "2024-10-17T14:34:11.700644Z",
          "shell.execute_reply": "2024-10-17T14:34:11.730941Z"
        },
        "trusted": true,
        "id": "jjh-q2UjqzcA"
      },
      "outputs": [],
      "execution_count": null
    },
    {
      "cell_type": "markdown",
      "source": [
        "**Import Libraries**"
      ],
      "metadata": {
        "id": "RjmgCXIZqzcB"
      }
    },
    {
      "cell_type": "code",
      "source": [
        "%matplotlib inline\n",
        "import numpy as np\n",
        "import pandas as pd\n",
        "import seaborn as sns\n",
        "import matplotlib.pyplot as plt\n",
        "\n",
        "from sklearn.metrics import classification_report, confusion_matrix\n",
        "import tensorflow as tf\n",
        "import numpy as np\n",
        "\n",
        "from tensorflow.keras import layers\n",
        "import time\n",
        "\n",
        "from sklearn.model_selection import train_test_split\n",
        "from sklearn.preprocessing import LabelEncoder\n",
        "from tensorflow.keras.models import Sequential\n",
        "from tensorflow.keras.layers import Dense, LeakyReLU, BatchNormalization\n",
        "from tensorflow.keras.optimizers import Adam"
      ],
      "metadata": {
        "execution": {
          "iopub.status.busy": "2024-10-17T14:34:11.734318Z",
          "iopub.execute_input": "2024-10-17T14:34:11.734815Z",
          "iopub.status.idle": "2024-10-17T14:34:11.744657Z",
          "shell.execute_reply.started": "2024-10-17T14:34:11.734761Z",
          "shell.execute_reply": "2024-10-17T14:34:11.743466Z"
        },
        "trusted": true,
        "id": "EhxniyMvqzcD"
      },
      "outputs": [],
      "execution_count": 1
    },
    {
      "cell_type": "markdown",
      "source": [
        "**Data Loading**"
      ],
      "metadata": {
        "id": "s5dHSp3FqzcE"
      }
    },
    {
      "cell_type": "code",
      "source": [
        "data_path = '/content/corrected' #Specifies the path to the dataset.\n",
        "\n",
        "col_names = [\"duration\",\"protocol_type\",\"service\",\"flag\",\"src_bytes\",\"dst_bytes\",\"land\",\"wrong_fragment\",\"urgent\",\"hot\",\"num_failed_logins\",\"logged_in\",\n",
        "             \"num_compromised\",\"root_shell\",\"su_attempted\",\"num_root\",\"num_file_creations\",\"num_shells\",\"num_access_files\",\"num_outbound_cmds\",\n",
        "             \"is_host_login\",\"is_guest_login\",\"count\",\"srv_count\",\"serror_rate\",\"srv_serror_rate\",\"rerror_rate\",\"srv_rerror_rate\",\"same_srv_rate\",\n",
        "             \"diff_srv_rate\",\"srv_diff_host_rate\",\"dst_host_count\",\"dst_host_srv_count\",\"dst_host_same_srv_rate\",\"dst_host_diff_srv_rate\",\n",
        "             \"dst_host_same_src_port_rate\",\"dst_host_srv_diff_host_rate\",\"dst_host_serror_rate\",\"dst_host_srv_serror_rate\",\"dst_host_rerror_rate\",\n",
        "             \"dst_host_srv_rerror_rate\",\"label\"]\n",
        "\n",
        "\n",
        "df = pd.read_csv(data_path,names=col_names, index_col=False) #Reads the dataset from the CSV file into a pandas DataFrame df"
      ],
      "metadata": {
        "execution": {
          "iopub.status.busy": "2024-10-17T14:34:11.745829Z",
          "iopub.execute_input": "2024-10-17T14:34:11.746168Z",
          "iopub.status.idle": "2024-10-17T14:34:13.404239Z",
          "shell.execute_reply.started": "2024-10-17T14:34:11.746132Z",
          "shell.execute_reply": "2024-10-17T14:34:13.402989Z"
        },
        "trusted": true,
        "id": "txHjW0zjqzcF"
      },
      "outputs": [],
      "execution_count": 3
    },
    {
      "cell_type": "markdown",
      "source": [
        "**Explore Data**"
      ],
      "metadata": {
        "id": "k6_43FpuqzcF"
      }
    },
    {
      "cell_type": "code",
      "source": [
        "df.head()"
      ],
      "metadata": {
        "execution": {
          "iopub.status.busy": "2024-10-17T14:34:13.406538Z",
          "iopub.execute_input": "2024-10-17T14:34:13.407443Z",
          "iopub.status.idle": "2024-10-17T14:34:13.432803Z",
          "shell.execute_reply.started": "2024-10-17T14:34:13.407397Z",
          "shell.execute_reply": "2024-10-17T14:34:13.43152Z"
        },
        "trusted": true,
        "colab": {
          "base_uri": "https://localhost:8080/",
          "height": 255
        },
        "id": "5S_k3IIiqzcG",
        "outputId": "4536f241-ba5d-4b3d-e80e-5b1c34207e58"
      },
      "outputs": [
        {
          "output_type": "execute_result",
          "data": {
            "text/plain": [
              "   duration protocol_type  service flag  src_bytes  dst_bytes  land  \\\n",
              "0         0           udp  private   SF        105        146     0   \n",
              "1         0           udp  private   SF        105        146     0   \n",
              "2         0           udp  private   SF        105        146     0   \n",
              "3         0           udp  private   SF        105        146     0   \n",
              "4         0           udp  private   SF        105        146     0   \n",
              "\n",
              "   wrong_fragment  urgent  hot  ...  dst_host_srv_count  \\\n",
              "0               0       0    0  ...               254.0   \n",
              "1               0       0    0  ...               254.0   \n",
              "2               0       0    0  ...               254.0   \n",
              "3               0       0    0  ...               254.0   \n",
              "4               0       0    0  ...               254.0   \n",
              "\n",
              "   dst_host_same_srv_rate  dst_host_diff_srv_rate  \\\n",
              "0                     1.0                    0.01   \n",
              "1                     1.0                    0.01   \n",
              "2                     1.0                    0.01   \n",
              "3                     1.0                    0.01   \n",
              "4                     1.0                    0.01   \n",
              "\n",
              "   dst_host_same_src_port_rate  dst_host_srv_diff_host_rate  \\\n",
              "0                         0.00                          0.0   \n",
              "1                         0.00                          0.0   \n",
              "2                         0.00                          0.0   \n",
              "3                         0.00                          0.0   \n",
              "4                         0.01                          0.0   \n",
              "\n",
              "   dst_host_serror_rate  dst_host_srv_serror_rate  dst_host_rerror_rate  \\\n",
              "0                   0.0                       0.0                   0.0   \n",
              "1                   0.0                       0.0                   0.0   \n",
              "2                   0.0                       0.0                   0.0   \n",
              "3                   0.0                       0.0                   0.0   \n",
              "4                   0.0                       0.0                   0.0   \n",
              "\n",
              "   dst_host_srv_rerror_rate           label  \n",
              "0                       0.0         normal.  \n",
              "1                       0.0         normal.  \n",
              "2                       0.0         normal.  \n",
              "3                       0.0  snmpgetattack.  \n",
              "4                       0.0  snmpgetattack.  \n",
              "\n",
              "[5 rows x 42 columns]"
            ],
            "text/html": [
              "\n",
              "  <div id=\"df-8103dc8c-7a4d-453c-932a-70f6159e4e3a\" class=\"colab-df-container\">\n",
              "    <div>\n",
              "<style scoped>\n",
              "    .dataframe tbody tr th:only-of-type {\n",
              "        vertical-align: middle;\n",
              "    }\n",
              "\n",
              "    .dataframe tbody tr th {\n",
              "        vertical-align: top;\n",
              "    }\n",
              "\n",
              "    .dataframe thead th {\n",
              "        text-align: right;\n",
              "    }\n",
              "</style>\n",
              "<table border=\"1\" class=\"dataframe\">\n",
              "  <thead>\n",
              "    <tr style=\"text-align: right;\">\n",
              "      <th></th>\n",
              "      <th>duration</th>\n",
              "      <th>protocol_type</th>\n",
              "      <th>service</th>\n",
              "      <th>flag</th>\n",
              "      <th>src_bytes</th>\n",
              "      <th>dst_bytes</th>\n",
              "      <th>land</th>\n",
              "      <th>wrong_fragment</th>\n",
              "      <th>urgent</th>\n",
              "      <th>hot</th>\n",
              "      <th>...</th>\n",
              "      <th>dst_host_srv_count</th>\n",
              "      <th>dst_host_same_srv_rate</th>\n",
              "      <th>dst_host_diff_srv_rate</th>\n",
              "      <th>dst_host_same_src_port_rate</th>\n",
              "      <th>dst_host_srv_diff_host_rate</th>\n",
              "      <th>dst_host_serror_rate</th>\n",
              "      <th>dst_host_srv_serror_rate</th>\n",
              "      <th>dst_host_rerror_rate</th>\n",
              "      <th>dst_host_srv_rerror_rate</th>\n",
              "      <th>label</th>\n",
              "    </tr>\n",
              "  </thead>\n",
              "  <tbody>\n",
              "    <tr>\n",
              "      <th>0</th>\n",
              "      <td>0</td>\n",
              "      <td>udp</td>\n",
              "      <td>private</td>\n",
              "      <td>SF</td>\n",
              "      <td>105</td>\n",
              "      <td>146</td>\n",
              "      <td>0</td>\n",
              "      <td>0</td>\n",
              "      <td>0</td>\n",
              "      <td>0</td>\n",
              "      <td>...</td>\n",
              "      <td>254.0</td>\n",
              "      <td>1.0</td>\n",
              "      <td>0.01</td>\n",
              "      <td>0.00</td>\n",
              "      <td>0.0</td>\n",
              "      <td>0.0</td>\n",
              "      <td>0.0</td>\n",
              "      <td>0.0</td>\n",
              "      <td>0.0</td>\n",
              "      <td>normal.</td>\n",
              "    </tr>\n",
              "    <tr>\n",
              "      <th>1</th>\n",
              "      <td>0</td>\n",
              "      <td>udp</td>\n",
              "      <td>private</td>\n",
              "      <td>SF</td>\n",
              "      <td>105</td>\n",
              "      <td>146</td>\n",
              "      <td>0</td>\n",
              "      <td>0</td>\n",
              "      <td>0</td>\n",
              "      <td>0</td>\n",
              "      <td>...</td>\n",
              "      <td>254.0</td>\n",
              "      <td>1.0</td>\n",
              "      <td>0.01</td>\n",
              "      <td>0.00</td>\n",
              "      <td>0.0</td>\n",
              "      <td>0.0</td>\n",
              "      <td>0.0</td>\n",
              "      <td>0.0</td>\n",
              "      <td>0.0</td>\n",
              "      <td>normal.</td>\n",
              "    </tr>\n",
              "    <tr>\n",
              "      <th>2</th>\n",
              "      <td>0</td>\n",
              "      <td>udp</td>\n",
              "      <td>private</td>\n",
              "      <td>SF</td>\n",
              "      <td>105</td>\n",
              "      <td>146</td>\n",
              "      <td>0</td>\n",
              "      <td>0</td>\n",
              "      <td>0</td>\n",
              "      <td>0</td>\n",
              "      <td>...</td>\n",
              "      <td>254.0</td>\n",
              "      <td>1.0</td>\n",
              "      <td>0.01</td>\n",
              "      <td>0.00</td>\n",
              "      <td>0.0</td>\n",
              "      <td>0.0</td>\n",
              "      <td>0.0</td>\n",
              "      <td>0.0</td>\n",
              "      <td>0.0</td>\n",
              "      <td>normal.</td>\n",
              "    </tr>\n",
              "    <tr>\n",
              "      <th>3</th>\n",
              "      <td>0</td>\n",
              "      <td>udp</td>\n",
              "      <td>private</td>\n",
              "      <td>SF</td>\n",
              "      <td>105</td>\n",
              "      <td>146</td>\n",
              "      <td>0</td>\n",
              "      <td>0</td>\n",
              "      <td>0</td>\n",
              "      <td>0</td>\n",
              "      <td>...</td>\n",
              "      <td>254.0</td>\n",
              "      <td>1.0</td>\n",
              "      <td>0.01</td>\n",
              "      <td>0.00</td>\n",
              "      <td>0.0</td>\n",
              "      <td>0.0</td>\n",
              "      <td>0.0</td>\n",
              "      <td>0.0</td>\n",
              "      <td>0.0</td>\n",
              "      <td>snmpgetattack.</td>\n",
              "    </tr>\n",
              "    <tr>\n",
              "      <th>4</th>\n",
              "      <td>0</td>\n",
              "      <td>udp</td>\n",
              "      <td>private</td>\n",
              "      <td>SF</td>\n",
              "      <td>105</td>\n",
              "      <td>146</td>\n",
              "      <td>0</td>\n",
              "      <td>0</td>\n",
              "      <td>0</td>\n",
              "      <td>0</td>\n",
              "      <td>...</td>\n",
              "      <td>254.0</td>\n",
              "      <td>1.0</td>\n",
              "      <td>0.01</td>\n",
              "      <td>0.01</td>\n",
              "      <td>0.0</td>\n",
              "      <td>0.0</td>\n",
              "      <td>0.0</td>\n",
              "      <td>0.0</td>\n",
              "      <td>0.0</td>\n",
              "      <td>snmpgetattack.</td>\n",
              "    </tr>\n",
              "  </tbody>\n",
              "</table>\n",
              "<p>5 rows × 42 columns</p>\n",
              "</div>\n",
              "    <div class=\"colab-df-buttons\">\n",
              "\n",
              "  <div class=\"colab-df-container\">\n",
              "    <button class=\"colab-df-convert\" onclick=\"convertToInteractive('df-8103dc8c-7a4d-453c-932a-70f6159e4e3a')\"\n",
              "            title=\"Convert this dataframe to an interactive table.\"\n",
              "            style=\"display:none;\">\n",
              "\n",
              "  <svg xmlns=\"http://www.w3.org/2000/svg\" height=\"24px\" viewBox=\"0 -960 960 960\">\n",
              "    <path d=\"M120-120v-720h720v720H120Zm60-500h600v-160H180v160Zm220 220h160v-160H400v160Zm0 220h160v-160H400v160ZM180-400h160v-160H180v160Zm440 0h160v-160H620v160ZM180-180h160v-160H180v160Zm440 0h160v-160H620v160Z\"/>\n",
              "  </svg>\n",
              "    </button>\n",
              "\n",
              "  <style>\n",
              "    .colab-df-container {\n",
              "      display:flex;\n",
              "      gap: 12px;\n",
              "    }\n",
              "\n",
              "    .colab-df-convert {\n",
              "      background-color: #E8F0FE;\n",
              "      border: none;\n",
              "      border-radius: 50%;\n",
              "      cursor: pointer;\n",
              "      display: none;\n",
              "      fill: #1967D2;\n",
              "      height: 32px;\n",
              "      padding: 0 0 0 0;\n",
              "      width: 32px;\n",
              "    }\n",
              "\n",
              "    .colab-df-convert:hover {\n",
              "      background-color: #E2EBFA;\n",
              "      box-shadow: 0px 1px 2px rgba(60, 64, 67, 0.3), 0px 1px 3px 1px rgba(60, 64, 67, 0.15);\n",
              "      fill: #174EA6;\n",
              "    }\n",
              "\n",
              "    .colab-df-buttons div {\n",
              "      margin-bottom: 4px;\n",
              "    }\n",
              "\n",
              "    [theme=dark] .colab-df-convert {\n",
              "      background-color: #3B4455;\n",
              "      fill: #D2E3FC;\n",
              "    }\n",
              "\n",
              "    [theme=dark] .colab-df-convert:hover {\n",
              "      background-color: #434B5C;\n",
              "      box-shadow: 0px 1px 3px 1px rgba(0, 0, 0, 0.15);\n",
              "      filter: drop-shadow(0px 1px 2px rgba(0, 0, 0, 0.3));\n",
              "      fill: #FFFFFF;\n",
              "    }\n",
              "  </style>\n",
              "\n",
              "    <script>\n",
              "      const buttonEl =\n",
              "        document.querySelector('#df-8103dc8c-7a4d-453c-932a-70f6159e4e3a button.colab-df-convert');\n",
              "      buttonEl.style.display =\n",
              "        google.colab.kernel.accessAllowed ? 'block' : 'none';\n",
              "\n",
              "      async function convertToInteractive(key) {\n",
              "        const element = document.querySelector('#df-8103dc8c-7a4d-453c-932a-70f6159e4e3a');\n",
              "        const dataTable =\n",
              "          await google.colab.kernel.invokeFunction('convertToInteractive',\n",
              "                                                    [key], {});\n",
              "        if (!dataTable) return;\n",
              "\n",
              "        const docLinkHtml = 'Like what you see? Visit the ' +\n",
              "          '<a target=\"_blank\" href=https://colab.research.google.com/notebooks/data_table.ipynb>data table notebook</a>'\n",
              "          + ' to learn more about interactive tables.';\n",
              "        element.innerHTML = '';\n",
              "        dataTable['output_type'] = 'display_data';\n",
              "        await google.colab.output.renderOutput(dataTable, element);\n",
              "        const docLink = document.createElement('div');\n",
              "        docLink.innerHTML = docLinkHtml;\n",
              "        element.appendChild(docLink);\n",
              "      }\n",
              "    </script>\n",
              "  </div>\n",
              "\n",
              "\n",
              "<div id=\"df-7eff436f-8ce2-4b97-bc97-9548bbc2548f\">\n",
              "  <button class=\"colab-df-quickchart\" onclick=\"quickchart('df-7eff436f-8ce2-4b97-bc97-9548bbc2548f')\"\n",
              "            title=\"Suggest charts\"\n",
              "            style=\"display:none;\">\n",
              "\n",
              "<svg xmlns=\"http://www.w3.org/2000/svg\" height=\"24px\"viewBox=\"0 0 24 24\"\n",
              "     width=\"24px\">\n",
              "    <g>\n",
              "        <path d=\"M19 3H5c-1.1 0-2 .9-2 2v14c0 1.1.9 2 2 2h14c1.1 0 2-.9 2-2V5c0-1.1-.9-2-2-2zM9 17H7v-7h2v7zm4 0h-2V7h2v10zm4 0h-2v-4h2v4z\"/>\n",
              "    </g>\n",
              "</svg>\n",
              "  </button>\n",
              "\n",
              "<style>\n",
              "  .colab-df-quickchart {\n",
              "      --bg-color: #E8F0FE;\n",
              "      --fill-color: #1967D2;\n",
              "      --hover-bg-color: #E2EBFA;\n",
              "      --hover-fill-color: #174EA6;\n",
              "      --disabled-fill-color: #AAA;\n",
              "      --disabled-bg-color: #DDD;\n",
              "  }\n",
              "\n",
              "  [theme=dark] .colab-df-quickchart {\n",
              "      --bg-color: #3B4455;\n",
              "      --fill-color: #D2E3FC;\n",
              "      --hover-bg-color: #434B5C;\n",
              "      --hover-fill-color: #FFFFFF;\n",
              "      --disabled-bg-color: #3B4455;\n",
              "      --disabled-fill-color: #666;\n",
              "  }\n",
              "\n",
              "  .colab-df-quickchart {\n",
              "    background-color: var(--bg-color);\n",
              "    border: none;\n",
              "    border-radius: 50%;\n",
              "    cursor: pointer;\n",
              "    display: none;\n",
              "    fill: var(--fill-color);\n",
              "    height: 32px;\n",
              "    padding: 0;\n",
              "    width: 32px;\n",
              "  }\n",
              "\n",
              "  .colab-df-quickchart:hover {\n",
              "    background-color: var(--hover-bg-color);\n",
              "    box-shadow: 0 1px 2px rgba(60, 64, 67, 0.3), 0 1px 3px 1px rgba(60, 64, 67, 0.15);\n",
              "    fill: var(--button-hover-fill-color);\n",
              "  }\n",
              "\n",
              "  .colab-df-quickchart-complete:disabled,\n",
              "  .colab-df-quickchart-complete:disabled:hover {\n",
              "    background-color: var(--disabled-bg-color);\n",
              "    fill: var(--disabled-fill-color);\n",
              "    box-shadow: none;\n",
              "  }\n",
              "\n",
              "  .colab-df-spinner {\n",
              "    border: 2px solid var(--fill-color);\n",
              "    border-color: transparent;\n",
              "    border-bottom-color: var(--fill-color);\n",
              "    animation:\n",
              "      spin 1s steps(1) infinite;\n",
              "  }\n",
              "\n",
              "  @keyframes spin {\n",
              "    0% {\n",
              "      border-color: transparent;\n",
              "      border-bottom-color: var(--fill-color);\n",
              "      border-left-color: var(--fill-color);\n",
              "    }\n",
              "    20% {\n",
              "      border-color: transparent;\n",
              "      border-left-color: var(--fill-color);\n",
              "      border-top-color: var(--fill-color);\n",
              "    }\n",
              "    30% {\n",
              "      border-color: transparent;\n",
              "      border-left-color: var(--fill-color);\n",
              "      border-top-color: var(--fill-color);\n",
              "      border-right-color: var(--fill-color);\n",
              "    }\n",
              "    40% {\n",
              "      border-color: transparent;\n",
              "      border-right-color: var(--fill-color);\n",
              "      border-top-color: var(--fill-color);\n",
              "    }\n",
              "    60% {\n",
              "      border-color: transparent;\n",
              "      border-right-color: var(--fill-color);\n",
              "    }\n",
              "    80% {\n",
              "      border-color: transparent;\n",
              "      border-right-color: var(--fill-color);\n",
              "      border-bottom-color: var(--fill-color);\n",
              "    }\n",
              "    90% {\n",
              "      border-color: transparent;\n",
              "      border-bottom-color: var(--fill-color);\n",
              "    }\n",
              "  }\n",
              "</style>\n",
              "\n",
              "  <script>\n",
              "    async function quickchart(key) {\n",
              "      const quickchartButtonEl =\n",
              "        document.querySelector('#' + key + ' button');\n",
              "      quickchartButtonEl.disabled = true;  // To prevent multiple clicks.\n",
              "      quickchartButtonEl.classList.add('colab-df-spinner');\n",
              "      try {\n",
              "        const charts = await google.colab.kernel.invokeFunction(\n",
              "            'suggestCharts', [key], {});\n",
              "      } catch (error) {\n",
              "        console.error('Error during call to suggestCharts:', error);\n",
              "      }\n",
              "      quickchartButtonEl.classList.remove('colab-df-spinner');\n",
              "      quickchartButtonEl.classList.add('colab-df-quickchart-complete');\n",
              "    }\n",
              "    (() => {\n",
              "      let quickchartButtonEl =\n",
              "        document.querySelector('#df-7eff436f-8ce2-4b97-bc97-9548bbc2548f button');\n",
              "      quickchartButtonEl.style.display =\n",
              "        google.colab.kernel.accessAllowed ? 'block' : 'none';\n",
              "    })();\n",
              "  </script>\n",
              "</div>\n",
              "\n",
              "    </div>\n",
              "  </div>\n"
            ],
            "application/vnd.google.colaboratory.intrinsic+json": {
              "type": "dataframe",
              "variable_name": "df"
            }
          },
          "metadata": {},
          "execution_count": 5
        }
      ],
      "execution_count": null
    },
    {
      "cell_type": "code",
      "source": [
        "df.shape"
      ],
      "metadata": {
        "execution": {
          "iopub.status.busy": "2024-10-17T14:34:13.434327Z",
          "iopub.execute_input": "2024-10-17T14:34:13.434731Z",
          "iopub.status.idle": "2024-10-17T14:34:13.447072Z",
          "shell.execute_reply.started": "2024-10-17T14:34:13.434665Z",
          "shell.execute_reply": "2024-10-17T14:34:13.44563Z"
        },
        "trusted": true,
        "colab": {
          "base_uri": "https://localhost:8080/"
        },
        "id": "39GiwvOaqzcG",
        "outputId": "75b8d0fc-ea42-4002-f1d3-64c4991a352d"
      },
      "outputs": [
        {
          "output_type": "execute_result",
          "data": {
            "text/plain": [
              "(303644, 42)"
            ]
          },
          "metadata": {},
          "execution_count": 6
        }
      ],
      "execution_count": null
    },
    {
      "cell_type": "code",
      "source": [
        "df.dtypes"
      ],
      "metadata": {
        "execution": {
          "iopub.status.busy": "2024-10-17T14:34:13.448481Z",
          "iopub.execute_input": "2024-10-17T14:34:13.448902Z",
          "iopub.status.idle": "2024-10-17T14:34:13.464578Z",
          "shell.execute_reply.started": "2024-10-17T14:34:13.448863Z",
          "shell.execute_reply": "2024-10-17T14:34:13.463293Z"
        },
        "trusted": true,
        "colab": {
          "base_uri": "https://localhost:8080/",
          "height": 1000
        },
        "id": "gXJHUOBDqzcH",
        "outputId": "71eae9fd-90e4-42bc-c78d-0a8497cbca96"
      },
      "outputs": [
        {
          "output_type": "execute_result",
          "data": {
            "text/plain": [
              "duration                         int64\n",
              "protocol_type                   object\n",
              "service                         object\n",
              "flag                            object\n",
              "src_bytes                        int64\n",
              "dst_bytes                        int64\n",
              "land                             int64\n",
              "wrong_fragment                   int64\n",
              "urgent                           int64\n",
              "hot                              int64\n",
              "num_failed_logins                int64\n",
              "logged_in                        int64\n",
              "num_compromised                  int64\n",
              "root_shell                       int64\n",
              "su_attempted                     int64\n",
              "num_root                         int64\n",
              "num_file_creations               int64\n",
              "num_shells                       int64\n",
              "num_access_files                 int64\n",
              "num_outbound_cmds                int64\n",
              "is_host_login                    int64\n",
              "is_guest_login                   int64\n",
              "count                            int64\n",
              "srv_count                        int64\n",
              "serror_rate                    float64\n",
              "srv_serror_rate                float64\n",
              "rerror_rate                    float64\n",
              "srv_rerror_rate                float64\n",
              "same_srv_rate                  float64\n",
              "diff_srv_rate                  float64\n",
              "srv_diff_host_rate             float64\n",
              "dst_host_count                 float64\n",
              "dst_host_srv_count             float64\n",
              "dst_host_same_srv_rate         float64\n",
              "dst_host_diff_srv_rate         float64\n",
              "dst_host_same_src_port_rate    float64\n",
              "dst_host_srv_diff_host_rate    float64\n",
              "dst_host_serror_rate           float64\n",
              "dst_host_srv_serror_rate       float64\n",
              "dst_host_rerror_rate           float64\n",
              "dst_host_srv_rerror_rate       float64\n",
              "label                           object\n",
              "dtype: object"
            ],
            "text/html": [
              "<div>\n",
              "<style scoped>\n",
              "    .dataframe tbody tr th:only-of-type {\n",
              "        vertical-align: middle;\n",
              "    }\n",
              "\n",
              "    .dataframe tbody tr th {\n",
              "        vertical-align: top;\n",
              "    }\n",
              "\n",
              "    .dataframe thead th {\n",
              "        text-align: right;\n",
              "    }\n",
              "</style>\n",
              "<table border=\"1\" class=\"dataframe\">\n",
              "  <thead>\n",
              "    <tr style=\"text-align: right;\">\n",
              "      <th></th>\n",
              "      <th>0</th>\n",
              "    </tr>\n",
              "  </thead>\n",
              "  <tbody>\n",
              "    <tr>\n",
              "      <th>duration</th>\n",
              "      <td>int64</td>\n",
              "    </tr>\n",
              "    <tr>\n",
              "      <th>protocol_type</th>\n",
              "      <td>object</td>\n",
              "    </tr>\n",
              "    <tr>\n",
              "      <th>service</th>\n",
              "      <td>object</td>\n",
              "    </tr>\n",
              "    <tr>\n",
              "      <th>flag</th>\n",
              "      <td>object</td>\n",
              "    </tr>\n",
              "    <tr>\n",
              "      <th>src_bytes</th>\n",
              "      <td>int64</td>\n",
              "    </tr>\n",
              "    <tr>\n",
              "      <th>dst_bytes</th>\n",
              "      <td>int64</td>\n",
              "    </tr>\n",
              "    <tr>\n",
              "      <th>land</th>\n",
              "      <td>int64</td>\n",
              "    </tr>\n",
              "    <tr>\n",
              "      <th>wrong_fragment</th>\n",
              "      <td>int64</td>\n",
              "    </tr>\n",
              "    <tr>\n",
              "      <th>urgent</th>\n",
              "      <td>int64</td>\n",
              "    </tr>\n",
              "    <tr>\n",
              "      <th>hot</th>\n",
              "      <td>int64</td>\n",
              "    </tr>\n",
              "    <tr>\n",
              "      <th>num_failed_logins</th>\n",
              "      <td>int64</td>\n",
              "    </tr>\n",
              "    <tr>\n",
              "      <th>logged_in</th>\n",
              "      <td>int64</td>\n",
              "    </tr>\n",
              "    <tr>\n",
              "      <th>num_compromised</th>\n",
              "      <td>int64</td>\n",
              "    </tr>\n",
              "    <tr>\n",
              "      <th>root_shell</th>\n",
              "      <td>int64</td>\n",
              "    </tr>\n",
              "    <tr>\n",
              "      <th>su_attempted</th>\n",
              "      <td>int64</td>\n",
              "    </tr>\n",
              "    <tr>\n",
              "      <th>num_root</th>\n",
              "      <td>int64</td>\n",
              "    </tr>\n",
              "    <tr>\n",
              "      <th>num_file_creations</th>\n",
              "      <td>int64</td>\n",
              "    </tr>\n",
              "    <tr>\n",
              "      <th>num_shells</th>\n",
              "      <td>int64</td>\n",
              "    </tr>\n",
              "    <tr>\n",
              "      <th>num_access_files</th>\n",
              "      <td>int64</td>\n",
              "    </tr>\n",
              "    <tr>\n",
              "      <th>num_outbound_cmds</th>\n",
              "      <td>int64</td>\n",
              "    </tr>\n",
              "    <tr>\n",
              "      <th>is_host_login</th>\n",
              "      <td>int64</td>\n",
              "    </tr>\n",
              "    <tr>\n",
              "      <th>is_guest_login</th>\n",
              "      <td>int64</td>\n",
              "    </tr>\n",
              "    <tr>\n",
              "      <th>count</th>\n",
              "      <td>int64</td>\n",
              "    </tr>\n",
              "    <tr>\n",
              "      <th>srv_count</th>\n",
              "      <td>int64</td>\n",
              "    </tr>\n",
              "    <tr>\n",
              "      <th>serror_rate</th>\n",
              "      <td>float64</td>\n",
              "    </tr>\n",
              "    <tr>\n",
              "      <th>srv_serror_rate</th>\n",
              "      <td>float64</td>\n",
              "    </tr>\n",
              "    <tr>\n",
              "      <th>rerror_rate</th>\n",
              "      <td>float64</td>\n",
              "    </tr>\n",
              "    <tr>\n",
              "      <th>srv_rerror_rate</th>\n",
              "      <td>float64</td>\n",
              "    </tr>\n",
              "    <tr>\n",
              "      <th>same_srv_rate</th>\n",
              "      <td>float64</td>\n",
              "    </tr>\n",
              "    <tr>\n",
              "      <th>diff_srv_rate</th>\n",
              "      <td>float64</td>\n",
              "    </tr>\n",
              "    <tr>\n",
              "      <th>srv_diff_host_rate</th>\n",
              "      <td>float64</td>\n",
              "    </tr>\n",
              "    <tr>\n",
              "      <th>dst_host_count</th>\n",
              "      <td>float64</td>\n",
              "    </tr>\n",
              "    <tr>\n",
              "      <th>dst_host_srv_count</th>\n",
              "      <td>float64</td>\n",
              "    </tr>\n",
              "    <tr>\n",
              "      <th>dst_host_same_srv_rate</th>\n",
              "      <td>float64</td>\n",
              "    </tr>\n",
              "    <tr>\n",
              "      <th>dst_host_diff_srv_rate</th>\n",
              "      <td>float64</td>\n",
              "    </tr>\n",
              "    <tr>\n",
              "      <th>dst_host_same_src_port_rate</th>\n",
              "      <td>float64</td>\n",
              "    </tr>\n",
              "    <tr>\n",
              "      <th>dst_host_srv_diff_host_rate</th>\n",
              "      <td>float64</td>\n",
              "    </tr>\n",
              "    <tr>\n",
              "      <th>dst_host_serror_rate</th>\n",
              "      <td>float64</td>\n",
              "    </tr>\n",
              "    <tr>\n",
              "      <th>dst_host_srv_serror_rate</th>\n",
              "      <td>float64</td>\n",
              "    </tr>\n",
              "    <tr>\n",
              "      <th>dst_host_rerror_rate</th>\n",
              "      <td>float64</td>\n",
              "    </tr>\n",
              "    <tr>\n",
              "      <th>dst_host_srv_rerror_rate</th>\n",
              "      <td>float64</td>\n",
              "    </tr>\n",
              "    <tr>\n",
              "      <th>label</th>\n",
              "      <td>object</td>\n",
              "    </tr>\n",
              "  </tbody>\n",
              "</table>\n",
              "</div><br><label><b>dtype:</b> object</label>"
            ]
          },
          "metadata": {},
          "execution_count": 7
        }
      ],
      "execution_count": null
    },
    {
      "cell_type": "markdown",
      "source": [
        "**Data Preprocessing**"
      ],
      "metadata": {
        "id": "Xim-7AJXqzcH"
      }
    },
    {
      "cell_type": "code",
      "source": [
        "df.isnull().sum()"
      ],
      "metadata": {
        "execution": {
          "iopub.status.busy": "2024-10-17T14:34:13.46604Z",
          "iopub.execute_input": "2024-10-17T14:34:13.466531Z",
          "iopub.status.idle": "2024-10-17T14:34:13.591376Z",
          "shell.execute_reply.started": "2024-10-17T14:34:13.46649Z",
          "shell.execute_reply": "2024-10-17T14:34:13.59032Z"
        },
        "trusted": true,
        "colab": {
          "base_uri": "https://localhost:8080/",
          "height": 1000
        },
        "id": "QDwUIfYRqzcI",
        "outputId": "d072206c-f893-4c64-b732-571775995513"
      },
      "outputs": [
        {
          "output_type": "execute_result",
          "data": {
            "text/plain": [
              "duration                       0\n",
              "protocol_type                  0\n",
              "service                        0\n",
              "flag                           0\n",
              "src_bytes                      0\n",
              "dst_bytes                      0\n",
              "land                           0\n",
              "wrong_fragment                 0\n",
              "urgent                         0\n",
              "hot                            0\n",
              "num_failed_logins              0\n",
              "logged_in                      0\n",
              "num_compromised                0\n",
              "root_shell                     0\n",
              "su_attempted                   0\n",
              "num_root                       0\n",
              "num_file_creations             0\n",
              "num_shells                     0\n",
              "num_access_files               0\n",
              "num_outbound_cmds              0\n",
              "is_host_login                  0\n",
              "is_guest_login                 0\n",
              "count                          0\n",
              "srv_count                      0\n",
              "serror_rate                    0\n",
              "srv_serror_rate                0\n",
              "rerror_rate                    0\n",
              "srv_rerror_rate                1\n",
              "same_srv_rate                  1\n",
              "diff_srv_rate                  1\n",
              "srv_diff_host_rate             1\n",
              "dst_host_count                 1\n",
              "dst_host_srv_count             1\n",
              "dst_host_same_srv_rate         1\n",
              "dst_host_diff_srv_rate         1\n",
              "dst_host_same_src_port_rate    1\n",
              "dst_host_srv_diff_host_rate    1\n",
              "dst_host_serror_rate           1\n",
              "dst_host_srv_serror_rate       1\n",
              "dst_host_rerror_rate           1\n",
              "dst_host_srv_rerror_rate       1\n",
              "label                          1\n",
              "dtype: int64"
            ],
            "text/html": [
              "<div>\n",
              "<style scoped>\n",
              "    .dataframe tbody tr th:only-of-type {\n",
              "        vertical-align: middle;\n",
              "    }\n",
              "\n",
              "    .dataframe tbody tr th {\n",
              "        vertical-align: top;\n",
              "    }\n",
              "\n",
              "    .dataframe thead th {\n",
              "        text-align: right;\n",
              "    }\n",
              "</style>\n",
              "<table border=\"1\" class=\"dataframe\">\n",
              "  <thead>\n",
              "    <tr style=\"text-align: right;\">\n",
              "      <th></th>\n",
              "      <th>0</th>\n",
              "    </tr>\n",
              "  </thead>\n",
              "  <tbody>\n",
              "    <tr>\n",
              "      <th>duration</th>\n",
              "      <td>0</td>\n",
              "    </tr>\n",
              "    <tr>\n",
              "      <th>protocol_type</th>\n",
              "      <td>0</td>\n",
              "    </tr>\n",
              "    <tr>\n",
              "      <th>service</th>\n",
              "      <td>0</td>\n",
              "    </tr>\n",
              "    <tr>\n",
              "      <th>flag</th>\n",
              "      <td>0</td>\n",
              "    </tr>\n",
              "    <tr>\n",
              "      <th>src_bytes</th>\n",
              "      <td>0</td>\n",
              "    </tr>\n",
              "    <tr>\n",
              "      <th>dst_bytes</th>\n",
              "      <td>0</td>\n",
              "    </tr>\n",
              "    <tr>\n",
              "      <th>land</th>\n",
              "      <td>0</td>\n",
              "    </tr>\n",
              "    <tr>\n",
              "      <th>wrong_fragment</th>\n",
              "      <td>0</td>\n",
              "    </tr>\n",
              "    <tr>\n",
              "      <th>urgent</th>\n",
              "      <td>0</td>\n",
              "    </tr>\n",
              "    <tr>\n",
              "      <th>hot</th>\n",
              "      <td>0</td>\n",
              "    </tr>\n",
              "    <tr>\n",
              "      <th>num_failed_logins</th>\n",
              "      <td>0</td>\n",
              "    </tr>\n",
              "    <tr>\n",
              "      <th>logged_in</th>\n",
              "      <td>0</td>\n",
              "    </tr>\n",
              "    <tr>\n",
              "      <th>num_compromised</th>\n",
              "      <td>0</td>\n",
              "    </tr>\n",
              "    <tr>\n",
              "      <th>root_shell</th>\n",
              "      <td>0</td>\n",
              "    </tr>\n",
              "    <tr>\n",
              "      <th>su_attempted</th>\n",
              "      <td>0</td>\n",
              "    </tr>\n",
              "    <tr>\n",
              "      <th>num_root</th>\n",
              "      <td>0</td>\n",
              "    </tr>\n",
              "    <tr>\n",
              "      <th>num_file_creations</th>\n",
              "      <td>0</td>\n",
              "    </tr>\n",
              "    <tr>\n",
              "      <th>num_shells</th>\n",
              "      <td>0</td>\n",
              "    </tr>\n",
              "    <tr>\n",
              "      <th>num_access_files</th>\n",
              "      <td>0</td>\n",
              "    </tr>\n",
              "    <tr>\n",
              "      <th>num_outbound_cmds</th>\n",
              "      <td>0</td>\n",
              "    </tr>\n",
              "    <tr>\n",
              "      <th>is_host_login</th>\n",
              "      <td>0</td>\n",
              "    </tr>\n",
              "    <tr>\n",
              "      <th>is_guest_login</th>\n",
              "      <td>0</td>\n",
              "    </tr>\n",
              "    <tr>\n",
              "      <th>count</th>\n",
              "      <td>0</td>\n",
              "    </tr>\n",
              "    <tr>\n",
              "      <th>srv_count</th>\n",
              "      <td>0</td>\n",
              "    </tr>\n",
              "    <tr>\n",
              "      <th>serror_rate</th>\n",
              "      <td>0</td>\n",
              "    </tr>\n",
              "    <tr>\n",
              "      <th>srv_serror_rate</th>\n",
              "      <td>0</td>\n",
              "    </tr>\n",
              "    <tr>\n",
              "      <th>rerror_rate</th>\n",
              "      <td>0</td>\n",
              "    </tr>\n",
              "    <tr>\n",
              "      <th>srv_rerror_rate</th>\n",
              "      <td>1</td>\n",
              "    </tr>\n",
              "    <tr>\n",
              "      <th>same_srv_rate</th>\n",
              "      <td>1</td>\n",
              "    </tr>\n",
              "    <tr>\n",
              "      <th>diff_srv_rate</th>\n",
              "      <td>1</td>\n",
              "    </tr>\n",
              "    <tr>\n",
              "      <th>srv_diff_host_rate</th>\n",
              "      <td>1</td>\n",
              "    </tr>\n",
              "    <tr>\n",
              "      <th>dst_host_count</th>\n",
              "      <td>1</td>\n",
              "    </tr>\n",
              "    <tr>\n",
              "      <th>dst_host_srv_count</th>\n",
              "      <td>1</td>\n",
              "    </tr>\n",
              "    <tr>\n",
              "      <th>dst_host_same_srv_rate</th>\n",
              "      <td>1</td>\n",
              "    </tr>\n",
              "    <tr>\n",
              "      <th>dst_host_diff_srv_rate</th>\n",
              "      <td>1</td>\n",
              "    </tr>\n",
              "    <tr>\n",
              "      <th>dst_host_same_src_port_rate</th>\n",
              "      <td>1</td>\n",
              "    </tr>\n",
              "    <tr>\n",
              "      <th>dst_host_srv_diff_host_rate</th>\n",
              "      <td>1</td>\n",
              "    </tr>\n",
              "    <tr>\n",
              "      <th>dst_host_serror_rate</th>\n",
              "      <td>1</td>\n",
              "    </tr>\n",
              "    <tr>\n",
              "      <th>dst_host_srv_serror_rate</th>\n",
              "      <td>1</td>\n",
              "    </tr>\n",
              "    <tr>\n",
              "      <th>dst_host_rerror_rate</th>\n",
              "      <td>1</td>\n",
              "    </tr>\n",
              "    <tr>\n",
              "      <th>dst_host_srv_rerror_rate</th>\n",
              "      <td>1</td>\n",
              "    </tr>\n",
              "    <tr>\n",
              "      <th>label</th>\n",
              "      <td>1</td>\n",
              "    </tr>\n",
              "  </tbody>\n",
              "</table>\n",
              "</div><br><label><b>dtype:</b> int64</label>"
            ]
          },
          "metadata": {},
          "execution_count": 8
        }
      ],
      "execution_count": null
    },
    {
      "cell_type": "code",
      "source": [
        "df.describe()"
      ],
      "metadata": {
        "execution": {
          "iopub.status.busy": "2024-10-17T14:34:13.593495Z",
          "iopub.execute_input": "2024-10-17T14:34:13.59397Z",
          "iopub.status.idle": "2024-10-17T14:34:14.115202Z",
          "shell.execute_reply.started": "2024-10-17T14:34:13.593918Z",
          "shell.execute_reply": "2024-10-17T14:34:14.114101Z"
        },
        "trusted": true,
        "colab": {
          "base_uri": "https://localhost:8080/",
          "height": 349
        },
        "id": "fd2lmBleqzcI",
        "outputId": "ae2c47f8-8b41-40b0-f947-2114901db138"
      },
      "outputs": [
        {
          "output_type": "execute_result",
          "data": {
            "text/plain": [
              "            duration     src_bytes     dst_bytes           land  \\\n",
              "count  311029.000000  3.110290e+05  3.110290e+05  311029.000000   \n",
              "mean       17.902736  1.731702e+03  7.479937e+02       0.000029   \n",
              "std       407.644400  1.276567e+05  1.612018e+04       0.005379   \n",
              "min         0.000000  0.000000e+00  0.000000e+00       0.000000   \n",
              "25%         0.000000  1.050000e+02  0.000000e+00       0.000000   \n",
              "50%         0.000000  5.200000e+02  0.000000e+00       0.000000   \n",
              "75%         0.000000  1.032000e+03  0.000000e+00       0.000000   \n",
              "max     57715.000000  6.282565e+07  5.203179e+06       1.000000   \n",
              "\n",
              "       wrong_fragment         urgent            hot  num_failed_logins  \\\n",
              "count   311029.000000  311029.000000  311029.000000      311029.000000   \n",
              "mean         0.000762       0.000051       0.014677           0.002363   \n",
              "std          0.040367       0.009821       0.312068           0.049990   \n",
              "min          0.000000       0.000000       0.000000           0.000000   \n",
              "25%          0.000000       0.000000       0.000000           0.000000   \n",
              "50%          0.000000       0.000000       0.000000           0.000000   \n",
              "75%          0.000000       0.000000       0.000000           0.000000   \n",
              "max          3.000000       3.000000     101.000000           4.000000   \n",
              "\n",
              "           logged_in  num_compromised  ...  dst_host_count  \\\n",
              "count  311029.000000    311029.000000  ...   311029.000000   \n",
              "mean        0.172476         0.011243  ...      235.282681   \n",
              "std         0.377794         1.958325  ...       60.913298   \n",
              "min         0.000000         0.000000  ...        0.000000   \n",
              "25%         0.000000         0.000000  ...      255.000000   \n",
              "50%         0.000000         0.000000  ...      255.000000   \n",
              "75%         0.000000         0.000000  ...      255.000000   \n",
              "max         1.000000       796.000000  ...      255.000000   \n",
              "\n",
              "       dst_host_srv_count  dst_host_same_srv_rate  dst_host_diff_srv_rate  \\\n",
              "count       311029.000000           311029.000000           311029.000000   \n",
              "mean           199.193914                0.793494                0.024953   \n",
              "std            100.306470                0.387090                0.096003   \n",
              "min              0.000000                0.000000                0.000000   \n",
              "25%            244.000000                0.970000                0.000000   \n",
              "50%            255.000000                1.000000                0.000000   \n",
              "75%            255.000000                1.000000                0.010000   \n",
              "max            255.000000                1.000000                1.000000   \n",
              "\n",
              "       dst_host_same_src_port_rate  dst_host_srv_diff_host_rate  \\\n",
              "count                311029.000000                311029.000000   \n",
              "mean                      0.547919                     0.004566   \n",
              "std                       0.491963                     0.035773   \n",
              "min                       0.000000                     0.000000   \n",
              "25%                       0.000000                     0.000000   \n",
              "50%                       1.000000                     0.000000   \n",
              "75%                       1.000000                     0.000000   \n",
              "max                       1.000000                     1.000000   \n",
              "\n",
              "       dst_host_serror_rate  dst_host_srv_serror_rate  dst_host_rerror_rate  \\\n",
              "count         311029.000000             311029.000000         311029.000000   \n",
              "mean               0.058764                  0.058791              0.142659   \n",
              "std                0.231296                  0.232997              0.344380   \n",
              "min                0.000000                  0.000000              0.000000   \n",
              "25%                0.000000                  0.000000              0.000000   \n",
              "50%                0.000000                  0.000000              0.000000   \n",
              "75%                0.000000                  0.000000              0.000000   \n",
              "max                1.000000                  1.000000              1.000000   \n",
              "\n",
              "       dst_host_srv_rerror_rate  \n",
              "count             311029.000000  \n",
              "mean                   0.141693  \n",
              "std                    0.346573  \n",
              "min                    0.000000  \n",
              "25%                    0.000000  \n",
              "50%                    0.000000  \n",
              "75%                    0.000000  \n",
              "max                    1.000000  \n",
              "\n",
              "[8 rows x 38 columns]"
            ],
            "text/html": [
              "\n",
              "  <div id=\"df-49d169e5-0e46-4519-9ba3-e27399ba1aaf\" class=\"colab-df-container\">\n",
              "    <div>\n",
              "<style scoped>\n",
              "    .dataframe tbody tr th:only-of-type {\n",
              "        vertical-align: middle;\n",
              "    }\n",
              "\n",
              "    .dataframe tbody tr th {\n",
              "        vertical-align: top;\n",
              "    }\n",
              "\n",
              "    .dataframe thead th {\n",
              "        text-align: right;\n",
              "    }\n",
              "</style>\n",
              "<table border=\"1\" class=\"dataframe\">\n",
              "  <thead>\n",
              "    <tr style=\"text-align: right;\">\n",
              "      <th></th>\n",
              "      <th>duration</th>\n",
              "      <th>src_bytes</th>\n",
              "      <th>dst_bytes</th>\n",
              "      <th>land</th>\n",
              "      <th>wrong_fragment</th>\n",
              "      <th>urgent</th>\n",
              "      <th>hot</th>\n",
              "      <th>num_failed_logins</th>\n",
              "      <th>logged_in</th>\n",
              "      <th>num_compromised</th>\n",
              "      <th>...</th>\n",
              "      <th>dst_host_count</th>\n",
              "      <th>dst_host_srv_count</th>\n",
              "      <th>dst_host_same_srv_rate</th>\n",
              "      <th>dst_host_diff_srv_rate</th>\n",
              "      <th>dst_host_same_src_port_rate</th>\n",
              "      <th>dst_host_srv_diff_host_rate</th>\n",
              "      <th>dst_host_serror_rate</th>\n",
              "      <th>dst_host_srv_serror_rate</th>\n",
              "      <th>dst_host_rerror_rate</th>\n",
              "      <th>dst_host_srv_rerror_rate</th>\n",
              "    </tr>\n",
              "  </thead>\n",
              "  <tbody>\n",
              "    <tr>\n",
              "      <th>count</th>\n",
              "      <td>311029.000000</td>\n",
              "      <td>3.110290e+05</td>\n",
              "      <td>3.110290e+05</td>\n",
              "      <td>311029.000000</td>\n",
              "      <td>311029.000000</td>\n",
              "      <td>311029.000000</td>\n",
              "      <td>311029.000000</td>\n",
              "      <td>311029.000000</td>\n",
              "      <td>311029.000000</td>\n",
              "      <td>311029.000000</td>\n",
              "      <td>...</td>\n",
              "      <td>311029.000000</td>\n",
              "      <td>311029.000000</td>\n",
              "      <td>311029.000000</td>\n",
              "      <td>311029.000000</td>\n",
              "      <td>311029.000000</td>\n",
              "      <td>311029.000000</td>\n",
              "      <td>311029.000000</td>\n",
              "      <td>311029.000000</td>\n",
              "      <td>311029.000000</td>\n",
              "      <td>311029.000000</td>\n",
              "    </tr>\n",
              "    <tr>\n",
              "      <th>mean</th>\n",
              "      <td>17.902736</td>\n",
              "      <td>1.731702e+03</td>\n",
              "      <td>7.479937e+02</td>\n",
              "      <td>0.000029</td>\n",
              "      <td>0.000762</td>\n",
              "      <td>0.000051</td>\n",
              "      <td>0.014677</td>\n",
              "      <td>0.002363</td>\n",
              "      <td>0.172476</td>\n",
              "      <td>0.011243</td>\n",
              "      <td>...</td>\n",
              "      <td>235.282681</td>\n",
              "      <td>199.193914</td>\n",
              "      <td>0.793494</td>\n",
              "      <td>0.024953</td>\n",
              "      <td>0.547919</td>\n",
              "      <td>0.004566</td>\n",
              "      <td>0.058764</td>\n",
              "      <td>0.058791</td>\n",
              "      <td>0.142659</td>\n",
              "      <td>0.141693</td>\n",
              "    </tr>\n",
              "    <tr>\n",
              "      <th>std</th>\n",
              "      <td>407.644400</td>\n",
              "      <td>1.276567e+05</td>\n",
              "      <td>1.612018e+04</td>\n",
              "      <td>0.005379</td>\n",
              "      <td>0.040367</td>\n",
              "      <td>0.009821</td>\n",
              "      <td>0.312068</td>\n",
              "      <td>0.049990</td>\n",
              "      <td>0.377794</td>\n",
              "      <td>1.958325</td>\n",
              "      <td>...</td>\n",
              "      <td>60.913298</td>\n",
              "      <td>100.306470</td>\n",
              "      <td>0.387090</td>\n",
              "      <td>0.096003</td>\n",
              "      <td>0.491963</td>\n",
              "      <td>0.035773</td>\n",
              "      <td>0.231296</td>\n",
              "      <td>0.232997</td>\n",
              "      <td>0.344380</td>\n",
              "      <td>0.346573</td>\n",
              "    </tr>\n",
              "    <tr>\n",
              "      <th>min</th>\n",
              "      <td>0.000000</td>\n",
              "      <td>0.000000e+00</td>\n",
              "      <td>0.000000e+00</td>\n",
              "      <td>0.000000</td>\n",
              "      <td>0.000000</td>\n",
              "      <td>0.000000</td>\n",
              "      <td>0.000000</td>\n",
              "      <td>0.000000</td>\n",
              "      <td>0.000000</td>\n",
              "      <td>0.000000</td>\n",
              "      <td>...</td>\n",
              "      <td>0.000000</td>\n",
              "      <td>0.000000</td>\n",
              "      <td>0.000000</td>\n",
              "      <td>0.000000</td>\n",
              "      <td>0.000000</td>\n",
              "      <td>0.000000</td>\n",
              "      <td>0.000000</td>\n",
              "      <td>0.000000</td>\n",
              "      <td>0.000000</td>\n",
              "      <td>0.000000</td>\n",
              "    </tr>\n",
              "    <tr>\n",
              "      <th>25%</th>\n",
              "      <td>0.000000</td>\n",
              "      <td>1.050000e+02</td>\n",
              "      <td>0.000000e+00</td>\n",
              "      <td>0.000000</td>\n",
              "      <td>0.000000</td>\n",
              "      <td>0.000000</td>\n",
              "      <td>0.000000</td>\n",
              "      <td>0.000000</td>\n",
              "      <td>0.000000</td>\n",
              "      <td>0.000000</td>\n",
              "      <td>...</td>\n",
              "      <td>255.000000</td>\n",
              "      <td>244.000000</td>\n",
              "      <td>0.970000</td>\n",
              "      <td>0.000000</td>\n",
              "      <td>0.000000</td>\n",
              "      <td>0.000000</td>\n",
              "      <td>0.000000</td>\n",
              "      <td>0.000000</td>\n",
              "      <td>0.000000</td>\n",
              "      <td>0.000000</td>\n",
              "    </tr>\n",
              "    <tr>\n",
              "      <th>50%</th>\n",
              "      <td>0.000000</td>\n",
              "      <td>5.200000e+02</td>\n",
              "      <td>0.000000e+00</td>\n",
              "      <td>0.000000</td>\n",
              "      <td>0.000000</td>\n",
              "      <td>0.000000</td>\n",
              "      <td>0.000000</td>\n",
              "      <td>0.000000</td>\n",
              "      <td>0.000000</td>\n",
              "      <td>0.000000</td>\n",
              "      <td>...</td>\n",
              "      <td>255.000000</td>\n",
              "      <td>255.000000</td>\n",
              "      <td>1.000000</td>\n",
              "      <td>0.000000</td>\n",
              "      <td>1.000000</td>\n",
              "      <td>0.000000</td>\n",
              "      <td>0.000000</td>\n",
              "      <td>0.000000</td>\n",
              "      <td>0.000000</td>\n",
              "      <td>0.000000</td>\n",
              "    </tr>\n",
              "    <tr>\n",
              "      <th>75%</th>\n",
              "      <td>0.000000</td>\n",
              "      <td>1.032000e+03</td>\n",
              "      <td>0.000000e+00</td>\n",
              "      <td>0.000000</td>\n",
              "      <td>0.000000</td>\n",
              "      <td>0.000000</td>\n",
              "      <td>0.000000</td>\n",
              "      <td>0.000000</td>\n",
              "      <td>0.000000</td>\n",
              "      <td>0.000000</td>\n",
              "      <td>...</td>\n",
              "      <td>255.000000</td>\n",
              "      <td>255.000000</td>\n",
              "      <td>1.000000</td>\n",
              "      <td>0.010000</td>\n",
              "      <td>1.000000</td>\n",
              "      <td>0.000000</td>\n",
              "      <td>0.000000</td>\n",
              "      <td>0.000000</td>\n",
              "      <td>0.000000</td>\n",
              "      <td>0.000000</td>\n",
              "    </tr>\n",
              "    <tr>\n",
              "      <th>max</th>\n",
              "      <td>57715.000000</td>\n",
              "      <td>6.282565e+07</td>\n",
              "      <td>5.203179e+06</td>\n",
              "      <td>1.000000</td>\n",
              "      <td>3.000000</td>\n",
              "      <td>3.000000</td>\n",
              "      <td>101.000000</td>\n",
              "      <td>4.000000</td>\n",
              "      <td>1.000000</td>\n",
              "      <td>796.000000</td>\n",
              "      <td>...</td>\n",
              "      <td>255.000000</td>\n",
              "      <td>255.000000</td>\n",
              "      <td>1.000000</td>\n",
              "      <td>1.000000</td>\n",
              "      <td>1.000000</td>\n",
              "      <td>1.000000</td>\n",
              "      <td>1.000000</td>\n",
              "      <td>1.000000</td>\n",
              "      <td>1.000000</td>\n",
              "      <td>1.000000</td>\n",
              "    </tr>\n",
              "  </tbody>\n",
              "</table>\n",
              "<p>8 rows × 38 columns</p>\n",
              "</div>\n",
              "    <div class=\"colab-df-buttons\">\n",
              "\n",
              "  <div class=\"colab-df-container\">\n",
              "    <button class=\"colab-df-convert\" onclick=\"convertToInteractive('df-49d169e5-0e46-4519-9ba3-e27399ba1aaf')\"\n",
              "            title=\"Convert this dataframe to an interactive table.\"\n",
              "            style=\"display:none;\">\n",
              "\n",
              "  <svg xmlns=\"http://www.w3.org/2000/svg\" height=\"24px\" viewBox=\"0 -960 960 960\">\n",
              "    <path d=\"M120-120v-720h720v720H120Zm60-500h600v-160H180v160Zm220 220h160v-160H400v160Zm0 220h160v-160H400v160ZM180-400h160v-160H180v160Zm440 0h160v-160H620v160ZM180-180h160v-160H180v160Zm440 0h160v-160H620v160Z\"/>\n",
              "  </svg>\n",
              "    </button>\n",
              "\n",
              "  <style>\n",
              "    .colab-df-container {\n",
              "      display:flex;\n",
              "      gap: 12px;\n",
              "    }\n",
              "\n",
              "    .colab-df-convert {\n",
              "      background-color: #E8F0FE;\n",
              "      border: none;\n",
              "      border-radius: 50%;\n",
              "      cursor: pointer;\n",
              "      display: none;\n",
              "      fill: #1967D2;\n",
              "      height: 32px;\n",
              "      padding: 0 0 0 0;\n",
              "      width: 32px;\n",
              "    }\n",
              "\n",
              "    .colab-df-convert:hover {\n",
              "      background-color: #E2EBFA;\n",
              "      box-shadow: 0px 1px 2px rgba(60, 64, 67, 0.3), 0px 1px 3px 1px rgba(60, 64, 67, 0.15);\n",
              "      fill: #174EA6;\n",
              "    }\n",
              "\n",
              "    .colab-df-buttons div {\n",
              "      margin-bottom: 4px;\n",
              "    }\n",
              "\n",
              "    [theme=dark] .colab-df-convert {\n",
              "      background-color: #3B4455;\n",
              "      fill: #D2E3FC;\n",
              "    }\n",
              "\n",
              "    [theme=dark] .colab-df-convert:hover {\n",
              "      background-color: #434B5C;\n",
              "      box-shadow: 0px 1px 3px 1px rgba(0, 0, 0, 0.15);\n",
              "      filter: drop-shadow(0px 1px 2px rgba(0, 0, 0, 0.3));\n",
              "      fill: #FFFFFF;\n",
              "    }\n",
              "  </style>\n",
              "\n",
              "    <script>\n",
              "      const buttonEl =\n",
              "        document.querySelector('#df-49d169e5-0e46-4519-9ba3-e27399ba1aaf button.colab-df-convert');\n",
              "      buttonEl.style.display =\n",
              "        google.colab.kernel.accessAllowed ? 'block' : 'none';\n",
              "\n",
              "      async function convertToInteractive(key) {\n",
              "        const element = document.querySelector('#df-49d169e5-0e46-4519-9ba3-e27399ba1aaf');\n",
              "        const dataTable =\n",
              "          await google.colab.kernel.invokeFunction('convertToInteractive',\n",
              "                                                    [key], {});\n",
              "        if (!dataTable) return;\n",
              "\n",
              "        const docLinkHtml = 'Like what you see? Visit the ' +\n",
              "          '<a target=\"_blank\" href=https://colab.research.google.com/notebooks/data_table.ipynb>data table notebook</a>'\n",
              "          + ' to learn more about interactive tables.';\n",
              "        element.innerHTML = '';\n",
              "        dataTable['output_type'] = 'display_data';\n",
              "        await google.colab.output.renderOutput(dataTable, element);\n",
              "        const docLink = document.createElement('div');\n",
              "        docLink.innerHTML = docLinkHtml;\n",
              "        element.appendChild(docLink);\n",
              "      }\n",
              "    </script>\n",
              "  </div>\n",
              "\n",
              "\n",
              "    <div id=\"df-b84224ed-9922-4eaf-aa6a-99750d143ae3\">\n",
              "      <button class=\"colab-df-quickchart\" onclick=\"quickchart('df-b84224ed-9922-4eaf-aa6a-99750d143ae3')\"\n",
              "                title=\"Suggest charts\"\n",
              "                style=\"display:none;\">\n",
              "\n",
              "<svg xmlns=\"http://www.w3.org/2000/svg\" height=\"24px\"viewBox=\"0 0 24 24\"\n",
              "     width=\"24px\">\n",
              "    <g>\n",
              "        <path d=\"M19 3H5c-1.1 0-2 .9-2 2v14c0 1.1.9 2 2 2h14c1.1 0 2-.9 2-2V5c0-1.1-.9-2-2-2zM9 17H7v-7h2v7zm4 0h-2V7h2v10zm4 0h-2v-4h2v4z\"/>\n",
              "    </g>\n",
              "</svg>\n",
              "      </button>\n",
              "\n",
              "<style>\n",
              "  .colab-df-quickchart {\n",
              "      --bg-color: #E8F0FE;\n",
              "      --fill-color: #1967D2;\n",
              "      --hover-bg-color: #E2EBFA;\n",
              "      --hover-fill-color: #174EA6;\n",
              "      --disabled-fill-color: #AAA;\n",
              "      --disabled-bg-color: #DDD;\n",
              "  }\n",
              "\n",
              "  [theme=dark] .colab-df-quickchart {\n",
              "      --bg-color: #3B4455;\n",
              "      --fill-color: #D2E3FC;\n",
              "      --hover-bg-color: #434B5C;\n",
              "      --hover-fill-color: #FFFFFF;\n",
              "      --disabled-bg-color: #3B4455;\n",
              "      --disabled-fill-color: #666;\n",
              "  }\n",
              "\n",
              "  .colab-df-quickchart {\n",
              "    background-color: var(--bg-color);\n",
              "    border: none;\n",
              "    border-radius: 50%;\n",
              "    cursor: pointer;\n",
              "    display: none;\n",
              "    fill: var(--fill-color);\n",
              "    height: 32px;\n",
              "    padding: 0;\n",
              "    width: 32px;\n",
              "  }\n",
              "\n",
              "  .colab-df-quickchart:hover {\n",
              "    background-color: var(--hover-bg-color);\n",
              "    box-shadow: 0 1px 2px rgba(60, 64, 67, 0.3), 0 1px 3px 1px rgba(60, 64, 67, 0.15);\n",
              "    fill: var(--button-hover-fill-color);\n",
              "  }\n",
              "\n",
              "  .colab-df-quickchart-complete:disabled,\n",
              "  .colab-df-quickchart-complete:disabled:hover {\n",
              "    background-color: var(--disabled-bg-color);\n",
              "    fill: var(--disabled-fill-color);\n",
              "    box-shadow: none;\n",
              "  }\n",
              "\n",
              "  .colab-df-spinner {\n",
              "    border: 2px solid var(--fill-color);\n",
              "    border-color: transparent;\n",
              "    border-bottom-color: var(--fill-color);\n",
              "    animation:\n",
              "      spin 1s steps(1) infinite;\n",
              "  }\n",
              "\n",
              "  @keyframes spin {\n",
              "    0% {\n",
              "      border-color: transparent;\n",
              "      border-bottom-color: var(--fill-color);\n",
              "      border-left-color: var(--fill-color);\n",
              "    }\n",
              "    20% {\n",
              "      border-color: transparent;\n",
              "      border-left-color: var(--fill-color);\n",
              "      border-top-color: var(--fill-color);\n",
              "    }\n",
              "    30% {\n",
              "      border-color: transparent;\n",
              "      border-left-color: var(--fill-color);\n",
              "      border-top-color: var(--fill-color);\n",
              "      border-right-color: var(--fill-color);\n",
              "    }\n",
              "    40% {\n",
              "      border-color: transparent;\n",
              "      border-right-color: var(--fill-color);\n",
              "      border-top-color: var(--fill-color);\n",
              "    }\n",
              "    60% {\n",
              "      border-color: transparent;\n",
              "      border-right-color: var(--fill-color);\n",
              "    }\n",
              "    80% {\n",
              "      border-color: transparent;\n",
              "      border-right-color: var(--fill-color);\n",
              "      border-bottom-color: var(--fill-color);\n",
              "    }\n",
              "    90% {\n",
              "      border-color: transparent;\n",
              "      border-bottom-color: var(--fill-color);\n",
              "    }\n",
              "  }\n",
              "</style>\n",
              "\n",
              "      <script>\n",
              "        async function quickchart(key) {\n",
              "          const quickchartButtonEl =\n",
              "            document.querySelector('#' + key + ' button');\n",
              "          quickchartButtonEl.disabled = true;  // To prevent multiple clicks.\n",
              "          quickchartButtonEl.classList.add('colab-df-spinner');\n",
              "          try {\n",
              "            const charts = await google.colab.kernel.invokeFunction(\n",
              "                'suggestCharts', [key], {});\n",
              "          } catch (error) {\n",
              "            console.error('Error during call to suggestCharts:', error);\n",
              "          }\n",
              "          quickchartButtonEl.classList.remove('colab-df-spinner');\n",
              "          quickchartButtonEl.classList.add('colab-df-quickchart-complete');\n",
              "        }\n",
              "        (() => {\n",
              "          let quickchartButtonEl =\n",
              "            document.querySelector('#df-b84224ed-9922-4eaf-aa6a-99750d143ae3 button');\n",
              "          quickchartButtonEl.style.display =\n",
              "            google.colab.kernel.accessAllowed ? 'block' : 'none';\n",
              "        })();\n",
              "      </script>\n",
              "    </div>\n",
              "\n",
              "    </div>\n",
              "  </div>\n"
            ],
            "application/vnd.google.colaboratory.intrinsic+json": {
              "type": "dataframe"
            }
          },
          "metadata": {},
          "execution_count": 10
        }
      ],
      "execution_count": null
    },
    {
      "cell_type": "markdown",
      "source": [
        "**Find Categorical Columns**"
      ],
      "metadata": {
        "id": "claWjsQlqzcI"
      }
    },
    {
      "cell_type": "code",
      "source": [
        "num_cols = df._get_numeric_data().columns\n",
        "\n",
        "cate_cols = list(set(df.columns)-set(num_cols))\n",
        "cate_cols.remove('label')\n",
        "\n",
        "\n",
        "cate_cols"
      ],
      "metadata": {
        "execution": {
          "iopub.status.busy": "2024-10-17T14:34:14.116488Z",
          "iopub.execute_input": "2024-10-17T14:34:14.116846Z",
          "iopub.status.idle": "2024-10-17T14:34:14.125188Z",
          "shell.execute_reply.started": "2024-10-17T14:34:14.116809Z",
          "shell.execute_reply": "2024-10-17T14:34:14.124096Z"
        },
        "trusted": true,
        "colab": {
          "base_uri": "https://localhost:8080/"
        },
        "id": "zPKJmMhWqzcJ",
        "outputId": "b604f648-0c78-440c-e8ea-08ce5882f8f0"
      },
      "outputs": [
        {
          "output_type": "execute_result",
          "data": {
            "text/plain": [
              "['flag', 'protocol_type', 'service']"
            ]
          },
          "metadata": {},
          "execution_count": 9
        }
      ],
      "execution_count": null
    },
    {
      "cell_type": "markdown",
      "source": [
        "**Categorical Features Distribution**"
      ],
      "metadata": {
        "id": "3SKaVmXNqzcJ"
      }
    },
    {
      "cell_type": "code",
      "source": [
        "#Visualization\n",
        "def bar_graph(feature):\n",
        "    df[feature].value_counts().plot(kind=\"bar\")"
      ],
      "metadata": {
        "execution": {
          "iopub.status.busy": "2024-10-17T14:34:14.129358Z",
          "iopub.execute_input": "2024-10-17T14:34:14.129771Z",
          "iopub.status.idle": "2024-10-17T14:34:14.135893Z",
          "shell.execute_reply.started": "2024-10-17T14:34:14.129722Z",
          "shell.execute_reply": "2024-10-17T14:34:14.13464Z"
        },
        "trusted": true,
        "id": "W1TfjEatqzcJ"
      },
      "outputs": [],
      "execution_count": null
    },
    {
      "cell_type": "code",
      "source": [
        "bar_graph('protocol_type')"
      ],
      "metadata": {
        "execution": {
          "iopub.status.busy": "2024-10-17T14:34:14.137358Z",
          "iopub.execute_input": "2024-10-17T14:34:14.137784Z",
          "iopub.status.idle": "2024-10-17T14:34:14.349413Z",
          "shell.execute_reply.started": "2024-10-17T14:34:14.137745Z",
          "shell.execute_reply": "2024-10-17T14:34:14.348214Z"
        },
        "trusted": true,
        "id": "Djgn07OrqzcJ",
        "colab": {
          "base_uri": "https://localhost:8080/",
          "height": 469
        },
        "outputId": "3bdabd81-281d-4f50-b9a4-33e4713efde2"
      },
      "outputs": [
        {
          "output_type": "display_data",
          "data": {
            "text/plain": [
              "<Figure size 640x480 with 1 Axes>"
            ],
            "image/png": "[encoded data removed]"
          },
          "metadata": {}
        }
      ],
      "execution_count": null
    },
    {
      "cell_type": "markdown",
      "source": [
        "ICMP is the most present in the used data, then TCP and almost 20000 packets of UDP type"
      ],
      "metadata": {
        "id": "k6E5NbIBqzcJ"
      }
    },
    {
      "cell_type": "code",
      "source": [
        "plt.figure(figsize=(15,3))\n",
        "bar_graph('service')"
      ],
      "metadata": {
        "execution": {
          "iopub.status.busy": "2024-10-17T14:34:14.350827Z",
          "iopub.execute_input": "2024-10-17T14:34:14.351194Z",
          "iopub.status.idle": "2024-10-17T14:34:15.117449Z",
          "shell.execute_reply.started": "2024-10-17T14:34:14.351156Z",
          "shell.execute_reply": "2024-10-17T14:34:15.116264Z"
        },
        "trusted": true,
        "id": "wazkpAkcqzcK",
        "colab": {
          "base_uri": "https://localhost:8080/",
          "height": 271
        },
        "outputId": "6e53ba0d-be2c-49d7-e19e-57652d6b9491"
      },
      "outputs": [
        {
          "output_type": "display_data",
          "data": {
            "text/plain": [
              "<Figure size 1500x300 with 1 Axes>"
            ],
            "image/png": "[encoded data removed]"
          },
          "metadata": {}
        }
      ],
      "execution_count": null
    },
    {
      "cell_type": "code",
      "source": [
        "bar_graph('flag')"
      ],
      "metadata": {
        "execution": {
          "iopub.status.busy": "2024-10-17T14:34:15.118876Z",
          "iopub.execute_input": "2024-10-17T14:34:15.11923Z",
          "iopub.status.idle": "2024-10-17T14:34:15.448037Z",
          "shell.execute_reply.started": "2024-10-17T14:34:15.119194Z",
          "shell.execute_reply": "2024-10-17T14:34:15.44686Z"
        },
        "trusted": true,
        "id": "vW5yJ-uPqzcK",
        "colab": {
          "base_uri": "https://localhost:8080/",
          "height": 491
        },
        "outputId": "1e78b928-e082-44c2-f053-0d5e2b5228e1"
      },
      "outputs": [
        {
          "output_type": "display_data",
          "data": {
            "text/plain": [
              "<Figure size 640x480 with 1 Axes>"
            ],
            "image/png": "[encoded data removed]"
          },
          "metadata": {}
        }
      ],
      "execution_count": null
    },
    {
      "cell_type": "code",
      "source": [
        "bar_graph('logged_in')"
      ],
      "metadata": {
        "execution": {
          "iopub.status.busy": "2024-10-17T14:34:15.449428Z",
          "iopub.execute_input": "2024-10-17T14:34:15.449819Z",
          "iopub.status.idle": "2024-10-17T14:34:15.640744Z",
          "shell.execute_reply.started": "2024-10-17T14:34:15.449781Z",
          "shell.execute_reply": "2024-10-17T14:34:15.63937Z"
        },
        "trusted": true,
        "id": "0FR1pwtJqzcK",
        "colab": {
          "base_uri": "https://localhost:8080/",
          "height": 444
        },
        "outputId": "f4f9b7b5-47cf-4301-9ada-829178d8de16"
      },
      "outputs": [
        {
          "output_type": "display_data",
          "data": {
            "text/plain": [
              "<Figure size 640x480 with 1 Axes>"
            ],
            "image/png": "[encoded data removed]"
          },
          "metadata": {}
        }
      ],
      "execution_count": null
    },
    {
      "cell_type": "markdown",
      "source": [
        "70000 packets are successfully logged in."
      ],
      "metadata": {
        "id": "Y1GhbUNLqzcK"
      }
    },
    {
      "cell_type": "markdown",
      "source": [
        "**Target Feature Distribution**"
      ],
      "metadata": {
        "id": "9H91dbDCqzcK"
      }
    },
    {
      "cell_type": "code",
      "source": [
        "bar_graph('label')"
      ],
      "metadata": {
        "execution": {
          "iopub.status.busy": "2024-10-17T14:34:15.642042Z",
          "iopub.execute_input": "2024-10-17T14:34:15.642399Z",
          "iopub.status.idle": "2024-10-17T14:34:16.061105Z",
          "shell.execute_reply.started": "2024-10-17T14:34:15.64236Z",
          "shell.execute_reply": "2024-10-17T14:34:16.059853Z"
        },
        "trusted": true,
        "id": "lktznFMhqzcK",
        "colab": {
          "base_uri": "https://localhost:8080/",
          "height": 547
        },
        "outputId": "b8f66ab4-c18c-4124-a4fd-9c854ceb2d36"
      },
      "outputs": [
        {
          "output_type": "display_data",
          "data": {
            "text/plain": [
              "<Figure size 640x480 with 1 Axes>"
            ],
            "image/png": "[encoded data removed]"
          },
          "metadata": {}
        }
      ],
      "execution_count": null
    },
    {
      "cell_type": "markdown",
      "source": [
        "Imbalanced Dataset: The dataset is heavily imbalanced. Certain attack types, like \"smurf\" and \"neptune,\" dominate the dataset. These two types are represented by the tallest bars and seem to far outnumber other types of attacks and normal instances.\n",
        "\n",
        "Minority Classes: Several attack types (like \"buffer_overflow\", \"teardrop\", \"ipsweep\", etc.) have very few instances. These minority classes might be underrepresented, which could pose challenges during model training as the model may not learn to detect these attacks well.\n",
        "\n",
        "Normal Instances: The number of \"normal\" instances (shown on the left side) is also quite substantial but significantly smaller than the top attack types (e.g., \"smurf\" and \"neptune\")."
      ],
      "metadata": {
        "id": "daUvT6zxqzcL"
      }
    },
    {
      "cell_type": "markdown",
      "source": [
        "**Label Encoding Categorical Columns**"
      ],
      "metadata": {
        "id": "9q11TUXBqzcL"
      }
    },
    {
      "cell_type": "code",
      "source": [
        "label_enc = LabelEncoder()"
      ],
      "metadata": {
        "execution": {
          "iopub.status.busy": "2024-10-17T14:34:16.063097Z",
          "iopub.execute_input": "2024-10-17T14:34:16.063571Z",
          "iopub.status.idle": "2024-10-17T14:34:16.069035Z",
          "shell.execute_reply.started": "2024-10-17T14:34:16.063521Z",
          "shell.execute_reply": "2024-10-17T14:34:16.067775Z"
        },
        "trusted": true,
        "id": "Q8e0uhGqqzcL"
      },
      "outputs": [],
      "execution_count": 4
    },
    {
      "cell_type": "code",
      "source": [
        "df['protocol_type'] = label_enc.fit_transform(df['protocol_type'])\n",
        "df['service'] = label_enc.fit_transform(df['service'])\n",
        "df['flag'] = label_enc.fit_transform(df['flag'])"
      ],
      "metadata": {
        "execution": {
          "iopub.status.busy": "2024-10-17T14:34:16.070538Z",
          "iopub.execute_input": "2024-10-17T14:34:16.071051Z",
          "iopub.status.idle": "2024-10-17T14:34:16.372362Z",
          "shell.execute_reply.started": "2024-10-17T14:34:16.070918Z",
          "shell.execute_reply": "2024-10-17T14:34:16.37127Z"
        },
        "trusted": true,
        "id": "y098jL8vqzcL"
      },
      "outputs": [],
      "execution_count": 5
    },
    {
      "cell_type": "code",
      "source": [
        "#Splitting features and target\n",
        "\n",
        "X = df.drop(['label'], axis=1)\n",
        "y = label_enc.fit_transform(df['label'])\n",
        "np.unique(y)"
      ],
      "metadata": {
        "execution": {
          "iopub.status.busy": "2024-10-17T14:34:16.373637Z",
          "iopub.execute_input": "2024-10-17T14:34:16.373978Z",
          "iopub.status.idle": "2024-10-17T14:34:16.515378Z",
          "shell.execute_reply.started": "2024-10-17T14:34:16.373944Z",
          "shell.execute_reply": "2024-10-17T14:34:16.514232Z"
        },
        "trusted": true,
        "id": "JxH4w0Q6qzcL",
        "colab": {
          "base_uri": "https://localhost:8080/"
        },
        "outputId": "0d9cfc7e-26df-4414-c703-13b8e36e9871"
      },
      "outputs": [
        {
          "output_type": "execute_result",
          "data": {
            "text/plain": [
              "array([ 0,  1,  2,  3,  4,  5,  6,  7,  8,  9, 10, 11, 12, 13, 14, 15, 16,\n",
              "       17])"
            ]
          },
          "metadata": {},
          "execution_count": 6
        }
      ],
      "execution_count": 6
    },
    {
      "cell_type": "code",
      "source": [
        "label_enc.inverse_transform(np.unique(y))"
      ],
      "metadata": {
        "execution": {
          "iopub.status.busy": "2024-10-17T14:34:16.516865Z",
          "iopub.execute_input": "2024-10-17T14:34:16.517336Z",
          "iopub.status.idle": "2024-10-17T14:34:16.535669Z",
          "shell.execute_reply.started": "2024-10-17T14:34:16.517288Z",
          "shell.execute_reply": "2024-10-17T14:34:16.534536Z"
        },
        "trusted": true,
        "id": "tigLToyJqzcL",
        "colab": {
          "base_uri": "https://localhost:8080/"
        },
        "outputId": "25f769ad-9e5e-43eb-b34b-2c8b72f760f1"
      },
      "outputs": [
        {
          "output_type": "execute_result",
          "data": {
            "text/plain": [
              "array(['apache2.', 'buffer_overflow.', 'guess_passwd.', 'ipsweep.',\n",
              "       'multihop.', 'named.', 'normal.', 'phf.', 'pod.', 'portsweep.',\n",
              "       'saint.', 'sendmail.', 'smurf.', 'snmpgetattack.', 'udpstorm.',\n",
              "       'xlock.', 'xsnoop.', nan], dtype=object)"
            ]
          },
          "metadata": {},
          "execution_count": 7
        }
      ],
      "execution_count": 7
    },
    {
      "cell_type": "code",
      "source": [
        "y_binary = np.where(y == 11, 0, 1)"
      ],
      "metadata": {
        "execution": {
          "iopub.status.busy": "2024-10-17T14:34:16.536904Z",
          "iopub.execute_input": "2024-10-17T14:34:16.53726Z",
          "iopub.status.idle": "2024-10-17T14:34:16.543261Z",
          "shell.execute_reply.started": "2024-10-17T14:34:16.537223Z",
          "shell.execute_reply": "2024-10-17T14:34:16.542127Z"
        },
        "trusted": true,
        "id": "I9VIiHqTqzcM"
      },
      "outputs": [],
      "execution_count": 8
    },
    {
      "cell_type": "code",
      "source": [
        "np.unique(y_binary)"
      ],
      "metadata": {
        "execution": {
          "iopub.status.busy": "2024-10-17T14:34:16.544804Z",
          "iopub.execute_input": "2024-10-17T14:34:16.545234Z",
          "iopub.status.idle": "2024-10-17T14:34:16.565676Z",
          "shell.execute_reply.started": "2024-10-17T14:34:16.545196Z",
          "shell.execute_reply": "2024-10-17T14:34:16.564538Z"
        },
        "trusted": true,
        "id": "EpiqhEBmqzcM",
        "colab": {
          "base_uri": "https://localhost:8080/"
        },
        "outputId": "1b7ca134-115d-414d-b29b-583ad682f79d"
      },
      "outputs": [
        {
          "output_type": "execute_result",
          "data": {
            "text/plain": [
              "array([0, 1])"
            ]
          },
          "metadata": {},
          "execution_count": 9
        }
      ],
      "execution_count": 9
    },
    {
      "cell_type": "markdown",
      "source": [
        "**Feature Selection**"
      ],
      "metadata": {
        "id": "KWx3-hEDqzcM"
      }
    },
    {
      "cell_type": "code",
      "source": [
        "corr_matrix = X.corr()\n",
        "plt.figure(figsize=(12, 10))\n",
        "sns.heatmap(corr_matrix, cmap='coolwarm')\n",
        "plt.show()"
      ],
      "metadata": {
        "execution": {
          "iopub.status.busy": "2024-10-17T14:34:16.567321Z",
          "iopub.execute_input": "2024-10-17T14:34:16.567829Z",
          "iopub.status.idle": "2024-10-17T14:34:19.744422Z",
          "shell.execute_reply.started": "2024-10-17T14:34:16.567775Z",
          "shell.execute_reply": "2024-10-17T14:34:19.743146Z"
        },
        "trusted": true,
        "id": "JnRcMH-BqzcM",
        "colab": {
          "base_uri": "https://localhost:8080/",
          "height": 1000
        },
        "outputId": "07b6d2bd-eb9c-4e54-fee0-0b84c245390a"
      },
      "outputs": [
        {
          "output_type": "display_data",
          "data": {
            "text/plain": [
              "<Figure size 1200x1000 with 2 Axes>"
            ],
            "image/png": "[encoded data removed]"
          },
          "metadata": {}
        }
      ],
      "execution_count": 10
    },
    {
      "cell_type": "markdown",
      "source": [
        "Removing highly correlated features (those with values near +1 or -1) and dropping some of them, as they provide redundant information. This can help reduce dimensionality and avoid multicollinearity in the model."
      ],
      "metadata": {
        "id": "lqRXIJJNqzcM"
      }
    },
    {
      "cell_type": "code",
      "source": [
        "df['num_root'].corr(df['num_compromised'])"
      ],
      "metadata": {
        "execution": {
          "iopub.status.busy": "2024-10-17T14:34:19.746372Z",
          "iopub.execute_input": "2024-10-17T14:34:19.746864Z",
          "iopub.status.idle": "2024-10-17T14:34:19.765176Z",
          "shell.execute_reply.started": "2024-10-17T14:34:19.74681Z",
          "shell.execute_reply": "2024-10-17T14:34:19.764031Z"
        },
        "trusted": true,
        "id": "cvc0EpadqzcM",
        "colab": {
          "base_uri": "https://localhost:8080/"
        },
        "outputId": "8b031b72-c651-4450-96ee-4f65356e9819"
      },
      "outputs": [
        {
          "output_type": "execute_result",
          "data": {
            "text/plain": [
              "np.float64(0.8880437060840994)"
            ]
          },
          "metadata": {},
          "execution_count": 11
        }
      ],
      "execution_count": 11
    },
    {
      "cell_type": "code",
      "source": [
        "df['srv_serror_rate'].corr(df['serror_rate'])"
      ],
      "metadata": {
        "execution": {
          "iopub.status.busy": "2024-10-17T14:34:19.766665Z",
          "iopub.execute_input": "2024-10-17T14:34:19.767081Z",
          "iopub.status.idle": "2024-10-17T14:34:19.782564Z",
          "shell.execute_reply.started": "2024-10-17T14:34:19.76704Z",
          "shell.execute_reply": "2024-10-17T14:34:19.781423Z"
        },
        "trusted": true,
        "id": "ui9ZRgh_qzcN",
        "colab": {
          "base_uri": "https://localhost:8080/"
        },
        "outputId": "b0efacc3-9796-468a-ab68-ccccb48f5d15"
      },
      "outputs": [
        {
          "output_type": "execute_result",
          "data": {
            "text/plain": [
              "np.float64(0.9213164282056006)"
            ]
          },
          "metadata": {},
          "execution_count": 12
        }
      ],
      "execution_count": 12
    },
    {
      "cell_type": "code",
      "source": [
        "df['srv_count'].corr(df['count'])"
      ],
      "metadata": {
        "execution": {
          "iopub.status.busy": "2024-10-17T14:34:19.784267Z",
          "iopub.execute_input": "2024-10-17T14:34:19.784759Z",
          "iopub.status.idle": "2024-10-17T14:34:19.802475Z",
          "shell.execute_reply.started": "2024-10-17T14:34:19.784706Z",
          "shell.execute_reply": "2024-10-17T14:34:19.801196Z"
        },
        "trusted": true,
        "id": "kna9yDXCqzcN",
        "colab": {
          "base_uri": "https://localhost:8080/"
        },
        "outputId": "5e7f1d1e-d63e-44aa-bec1-708c7c3f089c"
      },
      "outputs": [
        {
          "output_type": "execute_result",
          "data": {
            "text/plain": [
              "np.float64(0.9669323917027696)"
            ]
          },
          "metadata": {},
          "execution_count": 13
        }
      ],
      "execution_count": 13
    },
    {
      "cell_type": "code",
      "source": [
        "df['srv_rerror_rate'].corr(df['rerror_rate'])"
      ],
      "metadata": {
        "execution": {
          "iopub.status.busy": "2024-10-17T14:34:19.803937Z",
          "iopub.execute_input": "2024-10-17T14:34:19.804393Z",
          "iopub.status.idle": "2024-10-17T14:34:19.82041Z",
          "shell.execute_reply.started": "2024-10-17T14:34:19.804344Z",
          "shell.execute_reply": "2024-10-17T14:34:19.819065Z"
        },
        "trusted": true,
        "id": "da74RUmKqzcU",
        "colab": {
          "base_uri": "https://localhost:8080/"
        },
        "outputId": "4b8a14f5-f9ca-4e5b-cd38-90944f8aba03"
      },
      "outputs": [
        {
          "output_type": "execute_result",
          "data": {
            "text/plain": [
              "np.float64(0.9783238919038297)"
            ]
          },
          "metadata": {},
          "execution_count": 14
        }
      ],
      "execution_count": 14
    },
    {
      "cell_type": "code",
      "source": [
        "df['dst_host_same_srv_rate'].corr(df['dst_host_srv_count'])"
      ],
      "metadata": {
        "execution": {
          "iopub.status.busy": "2024-10-17T14:34:19.821719Z",
          "iopub.execute_input": "2024-10-17T14:34:19.822094Z",
          "iopub.status.idle": "2024-10-17T14:34:19.837989Z",
          "shell.execute_reply.started": "2024-10-17T14:34:19.822058Z",
          "shell.execute_reply": "2024-10-17T14:34:19.836878Z"
        },
        "trusted": true,
        "id": "3QSUJw6jqzcV",
        "colab": {
          "base_uri": "https://localhost:8080/"
        },
        "outputId": "f9288bf0-1ee1-46c4-a103-a0db4627a111"
      },
      "outputs": [
        {
          "output_type": "execute_result",
          "data": {
            "text/plain": [
              "np.float64(0.9162096477411183)"
            ]
          },
          "metadata": {},
          "execution_count": 15
        }
      ],
      "execution_count": 15
    },
    {
      "cell_type": "code",
      "source": [
        "df['dst_host_srv_serror_rate'].corr(df['dst_host_serror_rate'])"
      ],
      "metadata": {
        "execution": {
          "iopub.status.busy": "2024-10-17T14:34:19.84529Z",
          "iopub.execute_input": "2024-10-17T14:34:19.84597Z",
          "iopub.status.idle": "2024-10-17T14:34:19.860245Z",
          "shell.execute_reply.started": "2024-10-17T14:34:19.845927Z",
          "shell.execute_reply": "2024-10-17T14:34:19.858916Z"
        },
        "trusted": true,
        "id": "Zw_sSXduqzcV",
        "colab": {
          "base_uri": "https://localhost:8080/"
        },
        "outputId": "5a351b68-3046-4153-8685-64385034e129"
      },
      "outputs": [
        {
          "output_type": "execute_result",
          "data": {
            "text/plain": [
              "np.float64(0.7738087601380067)"
            ]
          },
          "metadata": {},
          "execution_count": 16
        }
      ],
      "execution_count": 16
    },
    {
      "cell_type": "code",
      "source": [
        "df['dst_host_srv_rerror_rate'].corr(df['dst_host_rerror_rate'])"
      ],
      "metadata": {
        "execution": {
          "iopub.status.busy": "2024-10-17T14:34:19.861663Z",
          "iopub.execute_input": "2024-10-17T14:34:19.862161Z",
          "iopub.status.idle": "2024-10-17T14:34:19.877612Z",
          "shell.execute_reply.started": "2024-10-17T14:34:19.86211Z",
          "shell.execute_reply": "2024-10-17T14:34:19.876154Z"
        },
        "trusted": true,
        "id": "DrV6gPBFqzcV",
        "colab": {
          "base_uri": "https://localhost:8080/"
        },
        "outputId": "a98e1489-6b06-4c10-a3fa-6db3d6978a54"
      },
      "outputs": [
        {
          "output_type": "execute_result",
          "data": {
            "text/plain": [
              "np.float64(0.950688782158142)"
            ]
          },
          "metadata": {},
          "execution_count": 17
        }
      ],
      "execution_count": 17
    },
    {
      "cell_type": "code",
      "source": [
        "df['dst_host_same_srv_rate'].corr(df['same_srv_rate'])"
      ],
      "metadata": {
        "execution": {
          "iopub.status.busy": "2024-10-17T14:34:19.879097Z",
          "iopub.execute_input": "2024-10-17T14:34:19.879451Z",
          "iopub.status.idle": "2024-10-17T14:34:19.894226Z",
          "shell.execute_reply.started": "2024-10-17T14:34:19.879414Z",
          "shell.execute_reply": "2024-10-17T14:34:19.893184Z"
        },
        "trusted": true,
        "id": "Ld97I77WqzcW",
        "colab": {
          "base_uri": "https://localhost:8080/"
        },
        "outputId": "eef219ed-d3fa-49b0-c314-7a8460c70d18"
      },
      "outputs": [
        {
          "output_type": "execute_result",
          "data": {
            "text/plain": [
              "np.float64(0.849688598026768)"
            ]
          },
          "metadata": {},
          "execution_count": 18
        }
      ],
      "execution_count": 18
    },
    {
      "cell_type": "code",
      "source": [
        "df['dst_host_srv_count'].corr(df['same_srv_rate'])"
      ],
      "metadata": {
        "execution": {
          "iopub.status.busy": "2024-10-17T14:34:19.896104Z",
          "iopub.execute_input": "2024-10-17T14:34:19.896591Z",
          "iopub.status.idle": "2024-10-17T14:34:19.913642Z",
          "shell.execute_reply.started": "2024-10-17T14:34:19.896541Z",
          "shell.execute_reply": "2024-10-17T14:34:19.912278Z"
        },
        "trusted": true,
        "id": "3L7Z0atXqzcW",
        "colab": {
          "base_uri": "https://localhost:8080/"
        },
        "outputId": "2384fb67-82b7-4f62-f5d0-52447b35d757"
      },
      "outputs": [
        {
          "output_type": "execute_result",
          "data": {
            "text/plain": [
              "np.float64(0.7587735824222329)"
            ]
          },
          "metadata": {},
          "execution_count": 19
        }
      ],
      "execution_count": 19
    },
    {
      "cell_type": "code",
      "source": [
        "df['dst_host_same_src_port_rate'].corr(df['srv_count'])"
      ],
      "metadata": {
        "execution": {
          "iopub.status.busy": "2024-10-17T14:34:19.91508Z",
          "iopub.execute_input": "2024-10-17T14:34:19.916175Z",
          "iopub.status.idle": "2024-10-17T14:34:19.932545Z",
          "shell.execute_reply.started": "2024-10-17T14:34:19.916128Z",
          "shell.execute_reply": "2024-10-17T14:34:19.931196Z"
        },
        "trusted": true,
        "id": "wuINfG_2qzcW",
        "colab": {
          "base_uri": "https://localhost:8080/"
        },
        "outputId": "67caf536-6ffc-46c9-8ee7-9ea4a2faa41a"
      },
      "outputs": [
        {
          "output_type": "execute_result",
          "data": {
            "text/plain": [
              "np.float64(0.9652906643877341)"
            ]
          },
          "metadata": {},
          "execution_count": 20
        }
      ],
      "execution_count": 20
    },
    {
      "cell_type": "code",
      "source": [
        "df['dst_host_serror_rate'].corr(df['serror_rate'])"
      ],
      "metadata": {
        "execution": {
          "iopub.status.busy": "2024-10-17T14:34:19.934021Z",
          "iopub.execute_input": "2024-10-17T14:34:19.934375Z",
          "iopub.status.idle": "2024-10-17T14:34:19.951108Z",
          "shell.execute_reply.started": "2024-10-17T14:34:19.934339Z",
          "shell.execute_reply": "2024-10-17T14:34:19.949541Z"
        },
        "trusted": true,
        "id": "lup6b4B7qzcX",
        "colab": {
          "base_uri": "https://localhost:8080/"
        },
        "outputId": "b42cc6d0-7bbd-4077-d5de-87caef432915"
      },
      "outputs": [
        {
          "output_type": "execute_result",
          "data": {
            "text/plain": [
              "np.float64(0.9060073355945178)"
            ]
          },
          "metadata": {},
          "execution_count": 21
        }
      ],
      "execution_count": 21
    },
    {
      "cell_type": "code",
      "source": [
        "df['dst_host_serror_rate'].corr(df['srv_serror_rate'])"
      ],
      "metadata": {
        "execution": {
          "iopub.status.busy": "2024-10-17T14:34:19.952533Z",
          "iopub.execute_input": "2024-10-17T14:34:19.952971Z",
          "iopub.status.idle": "2024-10-17T14:34:19.968077Z",
          "shell.execute_reply.started": "2024-10-17T14:34:19.952922Z",
          "shell.execute_reply": "2024-10-17T14:34:19.966887Z"
        },
        "trusted": true,
        "id": "t0S5tSFkqzcX",
        "colab": {
          "base_uri": "https://localhost:8080/"
        },
        "outputId": "f817bdd9-2c23-422d-dc33-91745837ead1"
      },
      "outputs": [
        {
          "output_type": "execute_result",
          "data": {
            "text/plain": [
              "np.float64(0.838825179132045)"
            ]
          },
          "metadata": {},
          "execution_count": 22
        }
      ],
      "execution_count": 22
    },
    {
      "cell_type": "code",
      "source": [
        "df['dst_host_srv_serror_rate'].corr(df['serror_rate'])"
      ],
      "metadata": {
        "execution": {
          "iopub.status.busy": "2024-10-17T14:34:19.969663Z",
          "iopub.execute_input": "2024-10-17T14:34:19.970083Z",
          "iopub.status.idle": "2024-10-17T14:34:19.985572Z",
          "shell.execute_reply.started": "2024-10-17T14:34:19.970042Z",
          "shell.execute_reply": "2024-10-17T14:34:19.984506Z"
        },
        "trusted": true,
        "id": "9sBJ2PYQqzcX",
        "colab": {
          "base_uri": "https://localhost:8080/"
        },
        "outputId": "d423f7a3-b2a4-4618-e3ce-f134e2e2c418"
      },
      "outputs": [
        {
          "output_type": "execute_result",
          "data": {
            "text/plain": [
              "np.float64(0.7180870974321144)"
            ]
          },
          "metadata": {},
          "execution_count": 23
        }
      ],
      "execution_count": 23
    },
    {
      "cell_type": "code",
      "source": [
        "df['dst_host_srv_serror_rate'].corr(df['srv_serror_rate'])"
      ],
      "metadata": {
        "execution": {
          "iopub.status.busy": "2024-10-17T14:34:19.987218Z",
          "iopub.execute_input": "2024-10-17T14:34:19.987565Z",
          "iopub.status.idle": "2024-10-17T14:34:20.003162Z",
          "shell.execute_reply.started": "2024-10-17T14:34:19.987532Z",
          "shell.execute_reply": "2024-10-17T14:34:20.002065Z"
        },
        "trusted": true,
        "id": "0O2xrmPQqzcX",
        "colab": {
          "base_uri": "https://localhost:8080/"
        },
        "outputId": "18be0483-9935-4445-c6be-b7913e80ed28"
      },
      "outputs": [
        {
          "output_type": "execute_result",
          "data": {
            "text/plain": [
              "np.float64(0.8897315504733675)"
            ]
          },
          "metadata": {},
          "execution_count": 24
        }
      ],
      "execution_count": 24
    },
    {
      "cell_type": "code",
      "source": [
        "df['dst_host_rerror_rate'].corr(df['rerror_rate'])"
      ],
      "metadata": {
        "execution": {
          "iopub.status.busy": "2024-10-17T14:34:20.004447Z",
          "iopub.execute_input": "2024-10-17T14:34:20.004836Z",
          "iopub.status.idle": "2024-10-17T14:34:20.019953Z",
          "shell.execute_reply.started": "2024-10-17T14:34:20.004797Z",
          "shell.execute_reply": "2024-10-17T14:34:20.018568Z"
        },
        "trusted": true,
        "id": "EFd8zeeKqzcX",
        "colab": {
          "base_uri": "https://localhost:8080/"
        },
        "outputId": "d3e1c5bf-f41c-4037-f71b-474ca858ca38"
      },
      "outputs": [
        {
          "output_type": "execute_result",
          "data": {
            "text/plain": [
              "np.float64(0.8974760840813529)"
            ]
          },
          "metadata": {},
          "execution_count": 25
        }
      ],
      "execution_count": 25
    },
    {
      "cell_type": "code",
      "source": [
        "df['dst_host_rerror_rate'].corr(df['srv_rerror_rate'])"
      ],
      "metadata": {
        "execution": {
          "iopub.status.busy": "2024-10-17T14:34:20.021248Z",
          "iopub.execute_input": "2024-10-17T14:34:20.021581Z",
          "iopub.status.idle": "2024-10-17T14:34:20.036374Z",
          "shell.execute_reply.started": "2024-10-17T14:34:20.021546Z",
          "shell.execute_reply": "2024-10-17T14:34:20.035382Z"
        },
        "trusted": true,
        "id": "tpohQgoxqzcX",
        "colab": {
          "base_uri": "https://localhost:8080/"
        },
        "outputId": "95b11ed9-7fc6-4445-e9c0-0273a46f7e78"
      },
      "outputs": [
        {
          "output_type": "execute_result",
          "data": {
            "text/plain": [
              "np.float64(0.876734741885021)"
            ]
          },
          "metadata": {},
          "execution_count": 26
        }
      ],
      "execution_count": 26
    },
    {
      "cell_type": "code",
      "source": [
        "df['dst_host_srv_rerror_rate'].corr(df['rerror_rate'])"
      ],
      "metadata": {
        "execution": {
          "iopub.status.busy": "2024-10-17T14:34:20.037518Z",
          "iopub.execute_input": "2024-10-17T14:34:20.037878Z",
          "iopub.status.idle": "2024-10-17T14:34:20.0531Z",
          "shell.execute_reply.started": "2024-10-17T14:34:20.03784Z",
          "shell.execute_reply": "2024-10-17T14:34:20.052069Z"
        },
        "trusted": true,
        "id": "eyC3yED9qzcY",
        "colab": {
          "base_uri": "https://localhost:8080/"
        },
        "outputId": "d531350c-d6b5-4b91-f5c7-bda5894d59d2"
      },
      "outputs": [
        {
          "output_type": "execute_result",
          "data": {
            "text/plain": [
              "np.float64(0.8974878282199072)"
            ]
          },
          "metadata": {},
          "execution_count": 27
        }
      ],
      "execution_count": 27
    },
    {
      "cell_type": "code",
      "source": [
        "df['dst_host_srv_rerror_rate'].corr(df['srv_rerror_rate'])"
      ],
      "metadata": {
        "execution": {
          "iopub.status.busy": "2024-10-17T14:34:20.054442Z",
          "iopub.execute_input": "2024-10-17T14:34:20.05481Z",
          "iopub.status.idle": "2024-10-17T14:34:20.069731Z",
          "shell.execute_reply.started": "2024-10-17T14:34:20.054774Z",
          "shell.execute_reply": "2024-10-17T14:34:20.068159Z"
        },
        "trusted": true,
        "id": "2wuveIXdqzcY",
        "colab": {
          "base_uri": "https://localhost:8080/"
        },
        "outputId": "0b353385-c85f-4382-d607-6d92698ecdf9"
      },
      "outputs": [
        {
          "output_type": "execute_result",
          "data": {
            "text/plain": [
              "np.float64(0.9229049186748796)"
            ]
          },
          "metadata": {},
          "execution_count": 28
        }
      ],
      "execution_count": 28
    },
    {
      "source": [
        "#This variable is highly correlated with num_compromised and should be ignored for analysis.\n",
        "#(Correlation = 0.9938277978738366)\n",
        "# Check if the column exists before attempting to drop\n",
        "if 'num_root' in df.columns:\n",
        "    df.drop('num_root',axis = 1,inplace = True)\n",
        "\n",
        "#This variable is highly correlated with serror_rate and should be ignored for analysis.\n",
        "#(Correlation = 0.9983615072725952)\n",
        "# Check if the column exists before attempting to drop\n",
        "if 'srv_serror_rate' in df.columns:\n",
        "    df.drop('srv_serror_rate',axis = 1,inplace = True)\n",
        "\n",
        "#This variable is highly correlated with rerror_rate and should be ignored for analysis.\n",
        "#(Correlation = 0.9947309539817937)\n",
        "# Check if the column exists before attempting to drop\n",
        "if 'srv_rerror_rate' in df.columns:\n",
        "    df.drop('srv_rerror_rate',axis = 1, inplace=True)\n",
        "\n",
        "#This variable is highly correlated with srv_serror_rate and should be ignored for analysis.\n",
        "#(Correlation = 0.9993041091850098)\n",
        "# Check if the column exists before attempting to drop\n",
        "if 'dst_host_srv_serror_rate' in df.columns:\n",
        "    df.drop('dst_host_srv_serror_rate',axis = 1, inplace=True)\n",
        "\n",
        "#This variable is highly correlated with rerror_rate and should be ignored for analysis.\n",
        "#(Correlation = 0.9869947924956001)\n",
        "# Check if the column exists before attempting to drop\n",
        "if 'dst_host_serror_rate' in df.columns:\n",
        "    df.drop('dst_host_serror_rate',axis = 1, inplace=True)\n",
        "\n",
        "#This variable is highly correlated with srv_rerror_rate and should be ignored for analysis.\n",
        "#(Correlation = 0.9821663427308375)\n",
        "# Check if the column exists before attempting to drop\n",
        "if 'dst_host_rerror_rate' in df.columns:\n",
        "    df.drop('dst_host_rerror_rate',axis = 1, inplace=True)\n",
        "\n",
        "#This variable is highly correlated with rerror_rate and should be ignored for analysis.\n",
        "#(Correlation = 0.9851995540751249)\n",
        "# Check if the column exists before attempting to drop\n",
        "if 'dst_host_srv_rerror_rate' in df.columns:\n",
        "    df.drop('dst_host_srv_rerror_rate',axis = 1, inplace=True)\n",
        "\n",
        "#This variable is highly correlated with dst_host_srv_count and should be ignored for analysis.\n",
        "#(Correlation = 0.9736854572953938)\n",
        "# Check if the column exists before attempting to drop\n",
        "if 'dst_host_same_srv_rate' in df.columns:\n",
        "    df.drop('dst_host_same_srv_rate',axis = 1, inplace=True)"
      ],
      "cell_type": "code",
      "metadata": {
        "id": "tfmXJMJVpXoI"
      },
      "execution_count": 37,
      "outputs": []
    },
    {
      "cell_type": "code",
      "source": [
        "X.columns"
      ],
      "metadata": {
        "execution": {
          "iopub.status.busy": "2024-10-17T14:34:20.38756Z",
          "iopub.execute_input": "2024-10-17T14:34:20.387962Z",
          "iopub.status.idle": "2024-10-17T14:34:20.395351Z",
          "shell.execute_reply.started": "2024-10-17T14:34:20.387913Z",
          "shell.execute_reply": "2024-10-17T14:34:20.394272Z"
        },
        "trusted": true,
        "id": "1W8J7tjaqzcY",
        "colab": {
          "base_uri": "https://localhost:8080/"
        },
        "outputId": "649f5cbe-2490-49ac-f5d3-5bc2a9eb52e9"
      },
      "outputs": [
        {
          "output_type": "execute_result",
          "data": {
            "text/plain": [
              "Index(['duration', 'protocol_type', 'service', 'flag', 'src_bytes',\n",
              "       'dst_bytes', 'land', 'wrong_fragment', 'urgent', 'hot',\n",
              "       'num_failed_logins', 'logged_in', 'num_compromised', 'root_shell',\n",
              "       'su_attempted', 'num_root', 'num_file_creations', 'num_shells',\n",
              "       'num_access_files', 'num_outbound_cmds', 'is_host_login',\n",
              "       'is_guest_login', 'count', 'srv_count', 'serror_rate',\n",
              "       'srv_serror_rate', 'rerror_rate', 'srv_rerror_rate', 'same_srv_rate',\n",
              "       'diff_srv_rate', 'srv_diff_host_rate', 'dst_host_count',\n",
              "       'dst_host_srv_count', 'dst_host_same_srv_rate',\n",
              "       'dst_host_diff_srv_rate', 'dst_host_same_src_port_rate',\n",
              "       'dst_host_srv_diff_host_rate', 'dst_host_serror_rate',\n",
              "       'dst_host_srv_serror_rate', 'dst_host_rerror_rate',\n",
              "       'dst_host_srv_rerror_rate'],\n",
              "      dtype='object')"
            ]
          },
          "metadata": {},
          "execution_count": 38
        }
      ],
      "execution_count": 38
    },
    {
      "cell_type": "code",
      "source": [
        "X.shape"
      ],
      "metadata": {
        "execution": {
          "iopub.status.busy": "2024-10-17T14:34:20.396895Z",
          "iopub.execute_input": "2024-10-17T14:34:20.397244Z",
          "iopub.status.idle": "2024-10-17T14:34:20.407929Z",
          "shell.execute_reply.started": "2024-10-17T14:34:20.397208Z",
          "shell.execute_reply": "2024-10-17T14:34:20.406762Z"
        },
        "trusted": true,
        "id": "ADIzAulDqzcZ",
        "colab": {
          "base_uri": "https://localhost:8080/"
        },
        "outputId": "852b29bd-6717-413e-9df5-1a0bdf90040e"
      },
      "outputs": [
        {
          "output_type": "execute_result",
          "data": {
            "text/plain": [
              "(303644, 41)"
            ]
          },
          "metadata": {},
          "execution_count": 44
        }
      ],
      "execution_count": null
    },
    {
      "cell_type": "code",
      "source": [
        "X.dtypes"
      ],
      "metadata": {
        "execution": {
          "iopub.status.busy": "2024-10-17T14:34:20.4096Z",
          "iopub.execute_input": "2024-10-17T14:34:20.41012Z",
          "iopub.status.idle": "2024-10-17T14:34:20.424068Z",
          "shell.execute_reply.started": "2024-10-17T14:34:20.410051Z",
          "shell.execute_reply": "2024-10-17T14:34:20.422791Z"
        },
        "trusted": true,
        "id": "55OZgRseqzcZ",
        "colab": {
          "base_uri": "https://localhost:8080/",
          "height": 1000
        },
        "outputId": "e20ed413-65ab-4288-8d2c-8208f25c173e"
      },
      "outputs": [
        {
          "output_type": "execute_result",
          "data": {
            "text/plain": [
              "duration                         int64\n",
              "protocol_type                    int64\n",
              "service                          int64\n",
              "flag                             int64\n",
              "src_bytes                        int64\n",
              "dst_bytes                        int64\n",
              "land                             int64\n",
              "wrong_fragment                   int64\n",
              "urgent                           int64\n",
              "hot                              int64\n",
              "num_failed_logins                int64\n",
              "logged_in                        int64\n",
              "num_compromised                  int64\n",
              "root_shell                       int64\n",
              "su_attempted                     int64\n",
              "num_root                         int64\n",
              "num_file_creations               int64\n",
              "num_shells                       int64\n",
              "num_access_files                 int64\n",
              "num_outbound_cmds                int64\n",
              "is_host_login                    int64\n",
              "is_guest_login                   int64\n",
              "count                            int64\n",
              "srv_count                        int64\n",
              "serror_rate                    float64\n",
              "srv_serror_rate                float64\n",
              "rerror_rate                    float64\n",
              "srv_rerror_rate                float64\n",
              "same_srv_rate                  float64\n",
              "diff_srv_rate                  float64\n",
              "srv_diff_host_rate             float64\n",
              "dst_host_count                 float64\n",
              "dst_host_srv_count             float64\n",
              "dst_host_same_srv_rate         float64\n",
              "dst_host_diff_srv_rate         float64\n",
              "dst_host_same_src_port_rate    float64\n",
              "dst_host_srv_diff_host_rate    float64\n",
              "dst_host_serror_rate           float64\n",
              "dst_host_srv_serror_rate       float64\n",
              "dst_host_rerror_rate           float64\n",
              "dst_host_srv_rerror_rate       float64\n",
              "dtype: object"
            ],
            "text/html": [
              "<div>\n",
              "<style scoped>\n",
              "    .dataframe tbody tr th:only-of-type {\n",
              "        vertical-align: middle;\n",
              "    }\n",
              "\n",
              "    .dataframe tbody tr th {\n",
              "        vertical-align: top;\n",
              "    }\n",
              "\n",
              "    .dataframe thead th {\n",
              "        text-align: right;\n",
              "    }\n",
              "</style>\n",
              "<table border=\"1\" class=\"dataframe\">\n",
              "  <thead>\n",
              "    <tr style=\"text-align: right;\">\n",
              "      <th></th>\n",
              "      <th>0</th>\n",
              "    </tr>\n",
              "  </thead>\n",
              "  <tbody>\n",
              "    <tr>\n",
              "      <th>duration</th>\n",
              "      <td>int64</td>\n",
              "    </tr>\n",
              "    <tr>\n",
              "      <th>protocol_type</th>\n",
              "      <td>int64</td>\n",
              "    </tr>\n",
              "    <tr>\n",
              "      <th>service</th>\n",
              "      <td>int64</td>\n",
              "    </tr>\n",
              "    <tr>\n",
              "      <th>flag</th>\n",
              "      <td>int64</td>\n",
              "    </tr>\n",
              "    <tr>\n",
              "      <th>src_bytes</th>\n",
              "      <td>int64</td>\n",
              "    </tr>\n",
              "    <tr>\n",
              "      <th>dst_bytes</th>\n",
              "      <td>int64</td>\n",
              "    </tr>\n",
              "    <tr>\n",
              "      <th>land</th>\n",
              "      <td>int64</td>\n",
              "    </tr>\n",
              "    <tr>\n",
              "      <th>wrong_fragment</th>\n",
              "      <td>int64</td>\n",
              "    </tr>\n",
              "    <tr>\n",
              "      <th>urgent</th>\n",
              "      <td>int64</td>\n",
              "    </tr>\n",
              "    <tr>\n",
              "      <th>hot</th>\n",
              "      <td>int64</td>\n",
              "    </tr>\n",
              "    <tr>\n",
              "      <th>num_failed_logins</th>\n",
              "      <td>int64</td>\n",
              "    </tr>\n",
              "    <tr>\n",
              "      <th>logged_in</th>\n",
              "      <td>int64</td>\n",
              "    </tr>\n",
              "    <tr>\n",
              "      <th>num_compromised</th>\n",
              "      <td>int64</td>\n",
              "    </tr>\n",
              "    <tr>\n",
              "      <th>root_shell</th>\n",
              "      <td>int64</td>\n",
              "    </tr>\n",
              "    <tr>\n",
              "      <th>su_attempted</th>\n",
              "      <td>int64</td>\n",
              "    </tr>\n",
              "    <tr>\n",
              "      <th>num_root</th>\n",
              "      <td>int64</td>\n",
              "    </tr>\n",
              "    <tr>\n",
              "      <th>num_file_creations</th>\n",
              "      <td>int64</td>\n",
              "    </tr>\n",
              "    <tr>\n",
              "      <th>num_shells</th>\n",
              "      <td>int64</td>\n",
              "    </tr>\n",
              "    <tr>\n",
              "      <th>num_access_files</th>\n",
              "      <td>int64</td>\n",
              "    </tr>\n",
              "    <tr>\n",
              "      <th>num_outbound_cmds</th>\n",
              "      <td>int64</td>\n",
              "    </tr>\n",
              "    <tr>\n",
              "      <th>is_host_login</th>\n",
              "      <td>int64</td>\n",
              "    </tr>\n",
              "    <tr>\n",
              "      <th>is_guest_login</th>\n",
              "      <td>int64</td>\n",
              "    </tr>\n",
              "    <tr>\n",
              "      <th>count</th>\n",
              "      <td>int64</td>\n",
              "    </tr>\n",
              "    <tr>\n",
              "      <th>srv_count</th>\n",
              "      <td>int64</td>\n",
              "    </tr>\n",
              "    <tr>\n",
              "      <th>serror_rate</th>\n",
              "      <td>float64</td>\n",
              "    </tr>\n",
              "    <tr>\n",
              "      <th>srv_serror_rate</th>\n",
              "      <td>float64</td>\n",
              "    </tr>\n",
              "    <tr>\n",
              "      <th>rerror_rate</th>\n",
              "      <td>float64</td>\n",
              "    </tr>\n",
              "    <tr>\n",
              "      <th>srv_rerror_rate</th>\n",
              "      <td>float64</td>\n",
              "    </tr>\n",
              "    <tr>\n",
              "      <th>same_srv_rate</th>\n",
              "      <td>float64</td>\n",
              "    </tr>\n",
              "    <tr>\n",
              "      <th>diff_srv_rate</th>\n",
              "      <td>float64</td>\n",
              "    </tr>\n",
              "    <tr>\n",
              "      <th>srv_diff_host_rate</th>\n",
              "      <td>float64</td>\n",
              "    </tr>\n",
              "    <tr>\n",
              "      <th>dst_host_count</th>\n",
              "      <td>float64</td>\n",
              "    </tr>\n",
              "    <tr>\n",
              "      <th>dst_host_srv_count</th>\n",
              "      <td>float64</td>\n",
              "    </tr>\n",
              "    <tr>\n",
              "      <th>dst_host_same_srv_rate</th>\n",
              "      <td>float64</td>\n",
              "    </tr>\n",
              "    <tr>\n",
              "      <th>dst_host_diff_srv_rate</th>\n",
              "      <td>float64</td>\n",
              "    </tr>\n",
              "    <tr>\n",
              "      <th>dst_host_same_src_port_rate</th>\n",
              "      <td>float64</td>\n",
              "    </tr>\n",
              "    <tr>\n",
              "      <th>dst_host_srv_diff_host_rate</th>\n",
              "      <td>float64</td>\n",
              "    </tr>\n",
              "    <tr>\n",
              "      <th>dst_host_serror_rate</th>\n",
              "      <td>float64</td>\n",
              "    </tr>\n",
              "    <tr>\n",
              "      <th>dst_host_srv_serror_rate</th>\n",
              "      <td>float64</td>\n",
              "    </tr>\n",
              "    <tr>\n",
              "      <th>dst_host_rerror_rate</th>\n",
              "      <td>float64</td>\n",
              "    </tr>\n",
              "    <tr>\n",
              "      <th>dst_host_srv_rerror_rate</th>\n",
              "      <td>float64</td>\n",
              "    </tr>\n",
              "  </tbody>\n",
              "</table>\n",
              "</div><br><label><b>dtype:</b> object</label>"
            ]
          },
          "metadata": {},
          "execution_count": 45
        }
      ],
      "execution_count": null
    },
    {
      "cell_type": "code",
      "source": [
        "X.shape"
      ],
      "metadata": {
        "execution": {
          "iopub.status.busy": "2024-10-17T14:34:20.425518Z",
          "iopub.execute_input": "2024-10-17T14:34:20.42593Z",
          "iopub.status.idle": "2024-10-17T14:34:20.437444Z",
          "shell.execute_reply.started": "2024-10-17T14:34:20.42589Z",
          "shell.execute_reply": "2024-10-17T14:34:20.436145Z"
        },
        "trusted": true,
        "id": "eOxqDKA0qzcZ",
        "colab": {
          "base_uri": "https://localhost:8080/"
        },
        "outputId": "89c5ced3-445a-4d59-afb6-5fe3b22ca3aa"
      },
      "outputs": [
        {
          "output_type": "execute_result",
          "data": {
            "text/plain": [
              "(303644, 41)"
            ]
          },
          "metadata": {},
          "execution_count": 46
        }
      ],
      "execution_count": null
    },
    {
      "cell_type": "code",
      "source": [
        "from sklearn.model_selection import train_test_split\n",
        "\n",
        "# Split data into 80% train and 20% test\n",
        "X_train, X_test, y_train, y_test = train_test_split(X, y_binary,train_size=1000, random_state=42, stratify=y_binary)\n",
        "\n",
        "print(f\"Training set size: {X_train.shape}\")\n",
        "print(f\"Test set size: {X_test.shape}\")"
      ],
      "metadata": {
        "execution": {
          "iopub.status.busy": "2024-10-17T14:34:20.439262Z",
          "iopub.execute_input": "2024-10-17T14:34:20.439846Z",
          "iopub.status.idle": "2024-10-17T14:34:20.558929Z",
          "shell.execute_reply.started": "2024-10-17T14:34:20.439791Z",
          "shell.execute_reply": "2024-10-17T14:34:20.557755Z"
        },
        "trusted": true,
        "id": "Kdf25oBiqzcZ",
        "colab": {
          "base_uri": "https://localhost:8080/"
        },
        "outputId": "fd2eb90c-6e23-4c5c-cc68-d702ed7325e6"
      },
      "outputs": [
        {
          "output_type": "stream",
          "name": "stdout",
          "text": [
            "Training set size: (1000, 41)\n",
            "Test set size: (74488, 41)\n"
          ]
        }
      ],
      "execution_count": 39
    },
    {
      "cell_type": "code",
      "source": [
        "# Filter only normal samples for GAN training ( '0' is normal)\n",
        "X_train_normal = X_train[y_train == 0]\n",
        "X_train.shape"
      ],
      "metadata": {
        "execution": {
          "iopub.status.busy": "2024-10-17T14:34:20.560234Z",
          "iopub.execute_input": "2024-10-17T14:34:20.56057Z",
          "iopub.status.idle": "2024-10-17T14:34:20.569816Z",
          "shell.execute_reply.started": "2024-10-17T14:34:20.560535Z",
          "shell.execute_reply": "2024-10-17T14:34:20.56867Z"
        },
        "trusted": true,
        "id": "cgNC02UkqzcZ",
        "colab": {
          "base_uri": "https://localhost:8080/"
        },
        "outputId": "193ea3d2-3d08-4467-925e-52118309e5f6"
      },
      "outputs": [
        {
          "output_type": "execute_result",
          "data": {
            "text/plain": [
              "(1000, 41)"
            ]
          },
          "metadata": {},
          "execution_count": 40
        }
      ],
      "execution_count": 40
    },
    {
      "cell_type": "code",
      "source": [
        "y_train.shape"
      ],
      "metadata": {
        "execution": {
          "iopub.status.busy": "2024-10-17T14:34:20.571198Z",
          "iopub.execute_input": "2024-10-17T14:34:20.57161Z",
          "iopub.status.idle": "2024-10-17T14:34:20.583027Z",
          "shell.execute_reply.started": "2024-10-17T14:34:20.57157Z",
          "shell.execute_reply": "2024-10-17T14:34:20.581851Z"
        },
        "trusted": true,
        "id": "DQ9zI0URqzca",
        "colab": {
          "base_uri": "https://localhost:8080/"
        },
        "outputId": "4f9bc760-f1ef-4177-d6bb-723fdf025467"
      },
      "outputs": [
        {
          "output_type": "execute_result",
          "data": {
            "text/plain": [
              "(1000,)"
            ]
          },
          "metadata": {},
          "execution_count": 49
        }
      ],
      "execution_count": null
    },
    {
      "cell_type": "markdown",
      "source": [
        "**Data Normalisation**"
      ],
      "metadata": {
        "id": "ux5OGxiSqzca"
      }
    },
    {
      "cell_type": "markdown",
      "source": [
        "Normalization is important when building a GAN, as it helps improve the training stability and performance of both the generator and discriminator. GANs, especially with architectures that use activation functions like tanh in the generator and sigmoid in the discriminator, benefit from normalized data."
      ],
      "metadata": {
        "id": "AR0Vjm39qzca"
      }
    },
    {
      "cell_type": "code",
      "source": [
        "from sklearn.preprocessing import MinMaxScaler\n",
        "\n",
        "scaler = MinMaxScaler(feature_range=(-1, 1))\n",
        "df_normalized = scaler.fit_transform(X_train)  # Normalize all features\n",
        "\n",
        "# Convert to a TensorFlow tensor\n",
        "import tensorflow as tf\n",
        "\n",
        "df_normalized_tensor = tf.convert_to_tensor(df_normalized, dtype=tf.float32)"
      ],
      "metadata": {
        "execution": {
          "iopub.status.busy": "2024-10-17T14:34:20.584397Z",
          "iopub.execute_input": "2024-10-17T14:34:20.584799Z",
          "iopub.status.idle": "2024-10-17T14:34:20.600956Z",
          "shell.execute_reply.started": "2024-10-17T14:34:20.584747Z",
          "shell.execute_reply": "2024-10-17T14:34:20.59976Z"
        },
        "trusted": true,
        "id": "VVRXnVZzqzca"
      },
      "outputs": [],
      "execution_count": 41
    },
    {
      "cell_type": "code",
      "source": [
        "def create_tf_dataset(data, batch_size):\n",
        "    dataset = tf.data.Dataset.from_tensor_slices(data)\n",
        "    dataset = dataset.shuffle(buffer_size=len(data))  # Shuffle the dataset\n",
        "    dataset = dataset.batch(batch_size)  # Create batches\n",
        "    return dataset\n",
        "\n",
        "BATCH_SIZE = 64 # try 64 now\n",
        "tf_dataset = create_tf_dataset(df_normalized_tensor, BATCH_SIZE)"
      ],
      "metadata": {
        "execution": {
          "iopub.status.busy": "2024-10-17T14:34:20.604755Z",
          "iopub.execute_input": "2024-10-17T14:34:20.605912Z",
          "iopub.status.idle": "2024-10-17T14:34:20.618836Z",
          "shell.execute_reply.started": "2024-10-17T14:34:20.605865Z",
          "shell.execute_reply": "2024-10-17T14:34:20.617718Z"
        },
        "trusted": true,
        "id": "IWtenFvNqzcb"
      },
      "outputs": [],
      "execution_count": 42
    },
    {
      "cell_type": "markdown",
      "source": [
        "**Build GAN components**"
      ],
      "metadata": {
        "id": "1O8bT2wGqzcb"
      }
    },
    {
      "cell_type": "code",
      "source": [
        "def build_generator(noise_dim):\n",
        "    model = tf.keras.Sequential([\n",
        "        tf.keras.layers.Dense(256, activation='relu', input_shape=(100,)),  # Input shape for noise\n",
        "        tf.keras.layers.Dense(512, activation='relu'),\n",
        "        tf.keras.layers.Dense(1024, activation='relu'),\n",
        "        tf.keras.layers.BatchNormalization(),\n",
        "        tf.keras.layers.Dense(41, activation='tanh')  # Output layer for 41 features\n",
        "    ])\n",
        "    return model\n",
        "\n",
        "noise_dim = 100  # Dimension of the noise vector\n",
        "generator = build_generator(noise_dim)\n",
        "\n",
        "# Test the generator\n",
        "# Generate a random noise vector\n",
        "test_noise = tf.random.normal([1, noise_dim])\n",
        "generated_data = generator(test_noise)\n",
        "print(generated_data.shape)"
      ],
      "metadata": {
        "execution": {
          "iopub.status.busy": "2024-10-17T14:34:20.620202Z",
          "iopub.execute_input": "2024-10-17T14:34:20.620535Z",
          "iopub.status.idle": "2024-10-17T14:34:20.682864Z",
          "shell.execute_reply.started": "2024-10-17T14:34:20.6205Z",
          "shell.execute_reply": "2024-10-17T14:34:20.681756Z"
        },
        "trusted": true,
        "id": "DmjDzCzbqzcb",
        "colab": {
          "base_uri": "https://localhost:8080/"
        },
        "outputId": "eca5fc26-6169-424c-e727-c73ab33b7adb"
      },
      "outputs": [
        {
          "output_type": "stream",
          "name": "stdout",
          "text": [
            "(1, 41)\n"
          ]
        },
        {
          "output_type": "stream",
          "name": "stderr",
          "text": [
            "/usr/local/lib/python3.11/dist-packages/keras/src/layers/core/dense.py:87: UserWarning: Do not pass an `input_shape`/`input_dim` argument to a layer. When using Sequential models, prefer using an `Input(shape)` object as the first layer in the model instead.\n",
            "  super().__init__(activity_regularizer=activity_regularizer, **kwargs)\n"
          ]
        }
      ],
      "execution_count": 43
    },
    {
      "cell_type": "code",
      "source": [
        "def build_discriminator():\n",
        "    model = tf.keras.Sequential([\n",
        "        tf.keras.layers.Dense(512, activation='relu', input_shape=(41,)),  # Adjust input shape if needed\n",
        "        tf.keras.layers.BatchNormalization(),\n",
        "        tf.keras.layers.Dense(256, activation='relu'),\n",
        "        tf.keras.layers.BatchNormalization(),\n",
        "        tf.keras.layers.Dense(1)\n",
        "    ])\n",
        "    return model\n",
        "\n",
        "discriminator = build_discriminator()"
      ],
      "metadata": {
        "execution": {
          "iopub.status.busy": "2024-10-17T14:34:20.684137Z",
          "iopub.execute_input": "2024-10-17T14:34:20.684474Z",
          "iopub.status.idle": "2024-10-17T14:34:20.736675Z",
          "shell.execute_reply.started": "2024-10-17T14:34:20.684438Z",
          "shell.execute_reply": "2024-10-17T14:34:20.735454Z"
        },
        "trusted": true,
        "id": "dUaCCOzuqzcb"
      },
      "outputs": [],
      "execution_count": 44
    },
    {
      "cell_type": "code",
      "source": [
        "from tensorflow.keras.losses import BinaryCrossentropy\n",
        "cross_entropy = BinaryCrossentropy(from_logits=True)\n",
        "\n",
        "\n",
        "\n",
        "def generator_loss(fake_output):\n",
        "    return -tf.reduce_mean(fake_output) # Wasserstein loss\n",
        "\n",
        "def discriminator_loss(real_output, fake_output):\n",
        "    return tf.reduce_mean(fake_output) - tf.reduce_mean(real_output)\n",
        "\n",
        "# Optimizers\n",
        "generator_optimizer = tf.keras.optimizers.Adam(1e-5) #Adjusted learning rate to improve the model\n",
        "discriminator_optimizer = tf.keras.optimizers.Adam(1e-5)"
      ],
      "metadata": {
        "execution": {
          "iopub.status.busy": "2024-10-17T14:34:20.73806Z",
          "iopub.execute_input": "2024-10-17T14:34:20.73841Z",
          "iopub.status.idle": "2024-10-17T14:34:20.7509Z",
          "shell.execute_reply.started": "2024-10-17T14:34:20.738372Z",
          "shell.execute_reply": "2024-10-17T14:34:20.749501Z"
        },
        "trusted": true,
        "id": "dzNP7Xm8qzcb"
      },
      "outputs": [],
      "execution_count": 45
    },
    {
      "cell_type": "code",
      "source": [
        "@tf.function\n",
        "def train_step(real_images):\n",
        "    noise = tf.random.normal([BATCH_SIZE, noise_dim])  # Create noise\n",
        "\n",
        "    with tf.GradientTape() as gen_tape, tf.GradientTape() as disc_tape:\n",
        "        generated_images = generator(noise, training=True)\n",
        "\n",
        "        real_output = discriminator(real_images, training=True)\n",
        "        fake_output = discriminator(generated_images, training=True)\n",
        "\n",
        "        gen_loss = generator_loss(fake_output)\n",
        "        disc_loss = discriminator_loss(real_output, fake_output)\n",
        "\n",
        "    gradients_of_generator = gen_tape.gradient(gen_loss, generator.trainable_variables)\n",
        "    gradients_of_discriminator = disc_tape.gradient(disc_loss, discriminator.trainable_variables)\n",
        "\n",
        "    generator_optimizer.apply_gradients(zip(gradients_of_generator, generator.trainable_variables))\n",
        "    discriminator_optimizer.apply_gradients(zip(gradients_of_discriminator, discriminator.trainable_variables))\n",
        "\n",
        "    return gen_loss, disc_loss"
      ],
      "metadata": {
        "execution": {
          "iopub.status.busy": "2024-10-17T14:34:20.752501Z",
          "iopub.execute_input": "2024-10-17T14:34:20.753459Z",
          "iopub.status.idle": "2024-10-17T14:34:20.790961Z",
          "shell.execute_reply.started": "2024-10-17T14:34:20.75341Z",
          "shell.execute_reply": "2024-10-17T14:34:20.789747Z"
        },
        "trusted": true,
        "id": "87fP2H6qqzcc"
      },
      "outputs": [],
      "execution_count": 46
    },
    {
      "cell_type": "markdown",
      "source": [
        "**Train the Model**"
      ],
      "metadata": {
        "id": "eiY5x0N8qzcc"
      }
    },
    {
      "cell_type": "code",
      "source": [
        "history = {'gen': [], 'dis': []}\n",
        "\n",
        "def train(dataset, epochs):\n",
        "    for epoch in range(epochs):\n",
        "        start = time.time()\n",
        "\n",
        "        for batch in dataset:\n",
        "            gen_loss, dis_loss = train_step(batch)\n",
        "\n",
        "        history['gen'].append(gen_loss)\n",
        "        history['dis'].append(dis_loss)\n",
        "        print('Time for epoch {} is {} sec '.format(epoch + 1, time.time() - start))"
      ],
      "metadata": {
        "execution": {
          "iopub.status.busy": "2024-10-17T14:34:20.795584Z",
          "iopub.execute_input": "2024-10-17T14:34:20.79604Z",
          "iopub.status.idle": "2024-10-17T14:34:20.806108Z",
          "shell.execute_reply.started": "2024-10-17T14:34:20.795999Z",
          "shell.execute_reply": "2024-10-17T14:34:20.804806Z"
        },
        "trusted": true,
        "id": "oseMR5gaqzcc"
      },
      "outputs": [],
      "execution_count": 48
    },
    {
      "cell_type": "code",
      "source": [
        "EPOCHS = 1000  # Set the number of epochs\n",
        "train(tf_dataset, EPOCHS)"
      ],
      "metadata": {
        "execution": {
          "iopub.status.busy": "2024-10-17T14:34:20.807824Z",
          "iopub.execute_input": "2024-10-17T14:34:20.808223Z",
          "iopub.status.idle": "2024-10-17T14:37:48.107322Z",
          "shell.execute_reply.started": "2024-10-17T14:34:20.808176Z",
          "shell.execute_reply": "2024-10-17T14:37:48.105384Z"
        },
        "trusted": true,
        "id": "sL8ArNXGqzcd",
        "outputId": "b35ac7fb-2b18-4d0a-f4f0-ba6e20ef6078",
        "colab": {
          "base_uri": "https://localhost:8080/"
        }
      },
      "outputs": [
        {
          "output_type": "stream",
          "name": "stdout",
          "text": [
            "Time for epoch 1 is 6.4242775440216064 sec \n",
            "Time for epoch 2 is 0.40853452682495117 sec \n",
            "Time for epoch 3 is 0.3761763572692871 sec \n",
            "Time for epoch 4 is 0.38759374618530273 sec \n",
            "Time for epoch 5 is 0.4086453914642334 sec \n",
            "Time for epoch 6 is 0.6910772323608398 sec \n",
            "Time for epoch 7 is 0.41940832138061523 sec \n",
            "Time for epoch 8 is 0.6790792942047119 sec \n",
            "Time for epoch 9 is 0.5879561901092529 sec \n",
            "Time for epoch 10 is 0.5935928821563721 sec \n",
            "Time for epoch 11 is 0.5675749778747559 sec \n",
            "Time for epoch 12 is 0.594271183013916 sec \n",
            "Time for epoch 13 is 0.5822157859802246 sec \n",
            "Time for epoch 14 is 0.42639636993408203 sec \n",
            "Time for epoch 15 is 0.3750877380371094 sec \n",
            "Time for epoch 16 is 0.36852049827575684 sec \n",
            "Time for epoch 17 is 0.38814425468444824 sec \n",
            "Time for epoch 18 is 0.39026856422424316 sec \n",
            "Time for epoch 19 is 0.38478779792785645 sec \n",
            "Time for epoch 20 is 0.4131300449371338 sec \n",
            "Time for epoch 21 is 0.37724947929382324 sec \n",
            "Time for epoch 22 is 0.39539027214050293 sec \n",
            "Time for epoch 23 is 0.3784193992614746 sec \n",
            "Time for epoch 24 is 0.3843038082122803 sec \n",
            "Time for epoch 25 is 0.3977069854736328 sec \n",
            "Time for epoch 26 is 0.37177443504333496 sec \n",
            "Time for epoch 27 is 0.37735486030578613 sec \n",
            "Time for epoch 28 is 0.40340089797973633 sec \n",
            "Time for epoch 29 is 0.37709641456604004 sec \n",
            "Time for epoch 30 is 0.3670992851257324 sec \n",
            "Time for epoch 31 is 0.39610934257507324 sec \n",
            "Time for epoch 32 is 0.37874412536621094 sec \n",
            "Time for epoch 33 is 0.396960973739624 sec \n",
            "Time for epoch 34 is 0.37055015563964844 sec \n",
            "Time for epoch 35 is 0.38242506980895996 sec \n",
            "Time for epoch 36 is 0.3822023868560791 sec \n",
            "Time for epoch 37 is 0.40538477897644043 sec \n",
            "Time for epoch 38 is 0.37694716453552246 sec \n",
            "Time for epoch 39 is 0.3933570384979248 sec \n",
            "Time for epoch 40 is 0.5918149948120117 sec \n",
            "Time for epoch 41 is 0.5823471546173096 sec \n",
            "Time for epoch 42 is 0.5611755847930908 sec \n",
            "Time for epoch 43 is 0.6022207736968994 sec \n",
            "Time for epoch 44 is 0.6130280494689941 sec \n",
            "Time for epoch 45 is 0.39474034309387207 sec \n",
            "Time for epoch 46 is 0.37338709831237793 sec \n",
            "Time for epoch 47 is 0.3881044387817383 sec \n",
            "Time for epoch 48 is 0.3745536804199219 sec \n",
            "Time for epoch 49 is 0.3749661445617676 sec \n",
            "Time for epoch 50 is 0.3867795467376709 sec \n",
            "Time for epoch 51 is 0.375765323638916 sec \n",
            "Time for epoch 52 is 0.36559104919433594 sec \n",
            "Time for epoch 53 is 0.40073657035827637 sec \n",
            "Time for epoch 54 is 0.37477970123291016 sec \n",
            "Time for epoch 55 is 0.36450910568237305 sec \n",
            "Time for epoch 56 is 0.3903775215148926 sec \n",
            "Time for epoch 57 is 0.3759143352508545 sec \n",
            "Time for epoch 58 is 0.3993570804595947 sec \n",
            "Time for epoch 59 is 0.3795745372772217 sec \n",
            "Time for epoch 60 is 0.36541748046875 sec \n",
            "Time for epoch 61 is 0.3973512649536133 sec \n",
            "Time for epoch 62 is 0.37618184089660645 sec \n",
            "Time for epoch 63 is 0.3775520324707031 sec \n",
            "Time for epoch 64 is 0.3999142646789551 sec \n",
            "Time for epoch 65 is 0.3693118095397949 sec \n",
            "Time for epoch 66 is 0.3742804527282715 sec \n",
            "Time for epoch 67 is 0.4012455940246582 sec \n",
            "Time for epoch 68 is 0.37537050247192383 sec \n",
            "Time for epoch 69 is 0.40403270721435547 sec \n",
            "Time for epoch 70 is 0.37908387184143066 sec \n",
            "Time for epoch 71 is 0.5100810527801514 sec \n",
            "Time for epoch 72 is 0.5687434673309326 sec \n",
            "Time for epoch 73 is 0.5678281784057617 sec \n",
            "Time for epoch 74 is 0.6007773876190186 sec \n",
            "Time for epoch 75 is 0.6016528606414795 sec \n",
            "Time for epoch 76 is 0.47589683532714844 sec \n",
            "Time for epoch 77 is 0.3805084228515625 sec \n",
            "Time for epoch 78 is 0.3898003101348877 sec \n",
            "Time for epoch 79 is 0.37415289878845215 sec \n",
            "Time for epoch 80 is 0.37830400466918945 sec \n",
            "Time for epoch 81 is 0.408353328704834 sec \n",
            "Time for epoch 82 is 0.37642478942871094 sec \n",
            "Time for epoch 83 is 0.3892486095428467 sec \n",
            "Time for epoch 84 is 0.379565954208374 sec \n",
            "Time for epoch 85 is 0.37625932693481445 sec \n",
            "Time for epoch 86 is 0.3883249759674072 sec \n",
            "Time for epoch 87 is 0.38231658935546875 sec \n",
            "Time for epoch 88 is 0.3786919116973877 sec \n",
            "Time for epoch 89 is 0.3980693817138672 sec \n",
            "Time for epoch 90 is 0.3841400146484375 sec \n",
            "Time for epoch 91 is 0.4011812210083008 sec \n",
            "Time for epoch 92 is 0.37984704971313477 sec \n",
            "Time for epoch 93 is 0.3797917366027832 sec \n",
            "Time for epoch 94 is 0.38494277000427246 sec \n",
            "Time for epoch 95 is 0.3767576217651367 sec \n",
            "Time for epoch 96 is 0.3695676326751709 sec \n",
            "Time for epoch 97 is 0.39411306381225586 sec \n",
            "Time for epoch 98 is 0.38037967681884766 sec \n",
            "Time for epoch 99 is 0.36623525619506836 sec \n",
            "Time for epoch 100 is 0.38707494735717773 sec \n",
            "Time for epoch 101 is 0.3770413398742676 sec \n",
            "Time for epoch 102 is 0.47478389739990234 sec \n",
            "Time for epoch 103 is 0.5787441730499268 sec \n",
            "Time for epoch 104 is 0.5523931980133057 sec \n",
            "Time for epoch 105 is 0.5596199035644531 sec \n",
            "Time for epoch 106 is 0.5884380340576172 sec \n",
            "Time for epoch 107 is 0.5439398288726807 sec \n",
            "Time for epoch 108 is 0.3788466453552246 sec \n",
            "Time for epoch 109 is 0.3718841075897217 sec \n",
            "Time for epoch 110 is 0.36345386505126953 sec \n",
            "Time for epoch 111 is 0.40303826332092285 sec \n",
            "Time for epoch 112 is 0.35827016830444336 sec \n",
            "Time for epoch 113 is 0.3693962097167969 sec \n",
            "Time for epoch 114 is 0.4014425277709961 sec \n",
            "Time for epoch 115 is 0.37307238578796387 sec \n",
            "Time for epoch 116 is 0.36547160148620605 sec \n",
            "Time for epoch 117 is 0.39751291275024414 sec \n",
            "Time for epoch 118 is 0.36092042922973633 sec \n",
            "Time for epoch 119 is 0.3966705799102783 sec \n",
            "Time for epoch 120 is 0.3622159957885742 sec \n",
            "Time for epoch 121 is 0.37067198753356934 sec \n",
            "Time for epoch 122 is 0.3986670970916748 sec \n",
            "Time for epoch 123 is 0.37381672859191895 sec \n",
            "Time for epoch 124 is 0.383441686630249 sec \n",
            "Time for epoch 125 is 0.403109073638916 sec \n",
            "Time for epoch 126 is 0.3681795597076416 sec \n",
            "Time for epoch 127 is 0.3727085590362549 sec \n",
            "Time for epoch 128 is 0.3818378448486328 sec \n",
            "Time for epoch 129 is 0.36965179443359375 sec \n",
            "Time for epoch 130 is 0.40883564949035645 sec \n",
            "Time for epoch 131 is 0.371762752532959 sec \n",
            "Time for epoch 132 is 0.3836174011230469 sec \n",
            "Time for epoch 133 is 0.3864412307739258 sec \n",
            "Time for epoch 134 is 0.5427358150482178 sec \n",
            "Time for epoch 135 is 0.5721592903137207 sec \n",
            "Time for epoch 136 is 0.5545759201049805 sec \n",
            "Time for epoch 137 is 0.591712236404419 sec \n",
            "Time for epoch 138 is 0.6004319190979004 sec \n",
            "Time for epoch 139 is 0.45385193824768066 sec \n",
            "Time for epoch 140 is 0.37606143951416016 sec \n",
            "Time for epoch 141 is 0.374056339263916 sec \n",
            "Time for epoch 142 is 0.3825187683105469 sec \n",
            "Time for epoch 143 is 0.37404680252075195 sec \n",
            "Time for epoch 144 is 0.39331555366516113 sec \n",
            "Time for epoch 145 is 0.36997151374816895 sec \n",
            "Time for epoch 146 is 0.358762264251709 sec \n",
            "Time for epoch 147 is 0.3940129280090332 sec \n",
            "Time for epoch 148 is 0.39844369888305664 sec \n",
            "Time for epoch 149 is 0.37840771675109863 sec \n",
            "Time for epoch 150 is 0.39830517768859863 sec \n",
            "Time for epoch 151 is 0.38888120651245117 sec \n",
            "Time for epoch 152 is 0.3701455593109131 sec \n",
            "Time for epoch 153 is 0.3962397575378418 sec \n",
            "Time for epoch 154 is 0.3739640712738037 sec \n",
            "Time for epoch 155 is 0.38440418243408203 sec \n",
            "Time for epoch 156 is 0.38191795349121094 sec \n",
            "Time for epoch 157 is 0.37142109870910645 sec \n",
            "Time for epoch 158 is 0.39068078994750977 sec \n",
            "Time for epoch 159 is 0.3746023178100586 sec \n",
            "Time for epoch 160 is 0.37230730056762695 sec \n",
            "Time for epoch 161 is 0.40991806983947754 sec \n",
            "Time for epoch 162 is 0.36780667304992676 sec \n",
            "Time for epoch 163 is 0.3609273433685303 sec \n",
            "Time for epoch 164 is 0.39701008796691895 sec \n",
            "Time for epoch 165 is 0.46391868591308594 sec \n",
            "Time for epoch 166 is 0.5718443393707275 sec \n",
            "Time for epoch 167 is 0.5517821311950684 sec \n",
            "Time for epoch 168 is 0.5825464725494385 sec \n",
            "Time for epoch 169 is 0.592980146408081 sec \n",
            "Time for epoch 170 is 0.5185010433197021 sec \n",
            "Time for epoch 171 is 0.37598705291748047 sec \n",
            "Time for epoch 172 is 0.38885998725891113 sec \n",
            "Time for epoch 173 is 0.37374281883239746 sec \n",
            "Time for epoch 174 is 0.3809938430786133 sec \n",
            "Time for epoch 175 is 0.3865017890930176 sec \n",
            "Time for epoch 176 is 0.376417875289917 sec \n",
            "Time for epoch 177 is 0.37816905975341797 sec \n",
            "Time for epoch 178 is 0.38850831985473633 sec \n",
            "Time for epoch 179 is 0.3707618713378906 sec \n",
            "Time for epoch 180 is 0.36853504180908203 sec \n",
            "Time for epoch 181 is 0.41731905937194824 sec \n",
            "Time for epoch 182 is 0.3813967704772949 sec \n",
            "Time for epoch 183 is 0.3831806182861328 sec \n",
            "Time for epoch 184 is 0.38431859016418457 sec \n",
            "Time for epoch 185 is 0.403766393661499 sec \n",
            "Time for epoch 186 is 0.39196252822875977 sec \n",
            "Time for epoch 187 is 0.3755357265472412 sec \n",
            "Time for epoch 188 is 0.37882447242736816 sec \n",
            "Time for epoch 189 is 0.3812563419342041 sec \n",
            "Time for epoch 190 is 0.3850972652435303 sec \n",
            "Time for epoch 191 is 0.3681674003601074 sec \n",
            "Time for epoch 192 is 0.38738036155700684 sec \n",
            "Time for epoch 193 is 0.3716471195220947 sec \n",
            "Time for epoch 194 is 0.38497090339660645 sec \n",
            "Time for epoch 195 is 0.37968945503234863 sec \n",
            "Time for epoch 196 is 0.4144570827484131 sec \n",
            "Time for epoch 197 is 0.5904135704040527 sec \n",
            "Time for epoch 198 is 0.5547380447387695 sec \n",
            "Time for epoch 199 is 0.5733299255371094 sec \n",
            "Time for epoch 200 is 0.5868291854858398 sec \n",
            "Time for epoch 201 is 0.596651554107666 sec \n",
            "Time for epoch 202 is 0.3754580020904541 sec \n",
            "Time for epoch 203 is 0.4059302806854248 sec \n",
            "Time for epoch 204 is 0.3751096725463867 sec \n",
            "Time for epoch 205 is 0.37295103073120117 sec \n",
            "Time for epoch 206 is 0.3958570957183838 sec \n",
            "Time for epoch 207 is 0.36780285835266113 sec \n",
            "Time for epoch 208 is 0.38992977142333984 sec \n",
            "Time for epoch 209 is 0.3723125457763672 sec \n",
            "Time for epoch 210 is 0.36992311477661133 sec \n",
            "Time for epoch 211 is 0.40754151344299316 sec \n",
            "Time for epoch 212 is 0.37435054779052734 sec \n",
            "Time for epoch 213 is 0.36754441261291504 sec \n",
            "Time for epoch 214 is 0.40396738052368164 sec \n",
            "Time for epoch 215 is 0.36912083625793457 sec \n",
            "Time for epoch 216 is 0.38390588760375977 sec \n",
            "Time for epoch 217 is 0.38518762588500977 sec \n",
            "Time for epoch 218 is 0.3667261600494385 sec \n",
            "Time for epoch 219 is 0.4008913040161133 sec \n",
            "Time for epoch 220 is 0.3663456439971924 sec \n",
            "Time for epoch 221 is 0.39209794998168945 sec \n",
            "Time for epoch 222 is 0.3987271785736084 sec \n",
            "Time for epoch 223 is 0.37095069885253906 sec \n",
            "Time for epoch 224 is 0.3849518299102783 sec \n",
            "Time for epoch 225 is 0.38780784606933594 sec \n",
            "Time for epoch 226 is 0.37157702445983887 sec \n",
            "Time for epoch 227 is 0.3829467296600342 sec \n",
            "Time for epoch 228 is 0.5746650695800781 sec \n",
            "Time for epoch 229 is 0.5811324119567871 sec \n",
            "Time for epoch 230 is 0.5598647594451904 sec \n",
            "Time for epoch 231 is 0.5762784481048584 sec \n",
            "Time for epoch 232 is 0.6134653091430664 sec \n",
            "Time for epoch 233 is 0.4529581069946289 sec \n",
            "Time for epoch 234 is 0.391559362411499 sec \n",
            "Time for epoch 235 is 0.37497806549072266 sec \n",
            "Time for epoch 236 is 0.39713168144226074 sec \n",
            "Time for epoch 237 is 0.3767573833465576 sec \n",
            "Time for epoch 238 is 0.37156224250793457 sec \n",
            "Time for epoch 239 is 0.39340782165527344 sec \n",
            "Time for epoch 240 is 0.38169312477111816 sec \n",
            "Time for epoch 241 is 0.3838376998901367 sec \n",
            "Time for epoch 242 is 0.40300440788269043 sec \n",
            "Time for epoch 243 is 0.37407875061035156 sec \n",
            "Time for epoch 244 is 0.3878204822540283 sec \n",
            "Time for epoch 245 is 0.3712751865386963 sec \n",
            "Time for epoch 246 is 0.365830659866333 sec \n",
            "Time for epoch 247 is 0.3914809226989746 sec \n",
            "Time for epoch 248 is 0.3794741630554199 sec \n",
            "Time for epoch 249 is 0.3679656982421875 sec \n",
            "Time for epoch 250 is 0.403872013092041 sec \n",
            "Time for epoch 251 is 0.36873698234558105 sec \n",
            "Time for epoch 252 is 0.38721251487731934 sec \n",
            "Time for epoch 253 is 0.39797329902648926 sec \n",
            "Time for epoch 254 is 0.405489444732666 sec \n",
            "Time for epoch 255 is 0.40398740768432617 sec \n",
            "Time for epoch 256 is 0.37751269340515137 sec \n",
            "Time for epoch 257 is 0.3702385425567627 sec \n",
            "Time for epoch 258 is 0.4053075313568115 sec \n",
            "Time for epoch 259 is 0.5551261901855469 sec \n",
            "Time for epoch 260 is 0.5869996547698975 sec \n",
            "Time for epoch 261 is 0.5639395713806152 sec \n",
            "Time for epoch 262 is 0.57320237159729 sec \n",
            "Time for epoch 263 is 0.5964870452880859 sec \n",
            "Time for epoch 264 is 0.45586252212524414 sec \n",
            "Time for epoch 265 is 0.3684091567993164 sec \n",
            "Time for epoch 266 is 0.4004538059234619 sec \n",
            "Time for epoch 267 is 0.3891003131866455 sec \n",
            "Time for epoch 268 is 0.3929483890533447 sec \n",
            "Time for epoch 269 is 0.3961069583892822 sec \n",
            "Time for epoch 270 is 0.37546491622924805 sec \n",
            "Time for epoch 271 is 0.3742544651031494 sec \n",
            "Time for epoch 272 is 0.39281225204467773 sec \n",
            "Time for epoch 273 is 0.39685630798339844 sec \n",
            "Time for epoch 274 is 0.380598783493042 sec \n",
            "Time for epoch 275 is 0.4028661251068115 sec \n",
            "Time for epoch 276 is 0.3950531482696533 sec \n",
            "Time for epoch 277 is 0.40329694747924805 sec \n",
            "Time for epoch 278 is 0.36774277687072754 sec \n",
            "Time for epoch 279 is 0.3805232048034668 sec \n",
            "Time for epoch 280 is 0.4007899761199951 sec \n",
            "Time for epoch 281 is 0.3816797733306885 sec \n",
            "Time for epoch 282 is 0.36408543586730957 sec \n",
            "Time for epoch 283 is 0.40131068229675293 sec \n",
            "Time for epoch 284 is 0.38582634925842285 sec \n",
            "Time for epoch 285 is 0.40131354331970215 sec \n",
            "Time for epoch 286 is 0.3835132122039795 sec \n",
            "Time for epoch 287 is 0.3838512897491455 sec \n",
            "Time for epoch 288 is 0.38849520683288574 sec \n",
            "Time for epoch 289 is 0.3732621669769287 sec \n",
            "Time for epoch 290 is 0.5360414981842041 sec \n",
            "Time for epoch 291 is 0.5759832859039307 sec \n",
            "Time for epoch 292 is 0.5724794864654541 sec \n",
            "Time for epoch 293 is 0.5703048706054688 sec \n",
            "Time for epoch 294 is 0.6113812923431396 sec \n",
            "Time for epoch 295 is 0.4503350257873535 sec \n",
            "Time for epoch 296 is 0.37093043327331543 sec \n",
            "Time for epoch 297 is 0.4148750305175781 sec \n",
            "Time for epoch 298 is 0.3619387149810791 sec \n",
            "Time for epoch 299 is 0.39261412620544434 sec \n",
            "Time for epoch 300 is 0.38472580909729004 sec \n",
            "Time for epoch 301 is 0.36531662940979004 sec \n",
            "Time for epoch 302 is 0.39389681816101074 sec \n",
            "Time for epoch 303 is 0.3746471405029297 sec \n",
            "Time for epoch 304 is 0.38795900344848633 sec \n",
            "Time for epoch 305 is 0.397993803024292 sec \n",
            "Time for epoch 306 is 0.37445640563964844 sec \n",
            "Time for epoch 307 is 0.3847823143005371 sec \n",
            "Time for epoch 308 is 0.3921363353729248 sec \n",
            "Time for epoch 309 is 0.37587976455688477 sec \n",
            "Time for epoch 310 is 0.40943050384521484 sec \n",
            "Time for epoch 311 is 0.3859140872955322 sec \n",
            "Time for epoch 312 is 0.386110782623291 sec \n",
            "Time for epoch 313 is 0.4064910411834717 sec \n",
            "Time for epoch 314 is 0.40038013458251953 sec \n",
            "Time for epoch 315 is 0.3981804847717285 sec \n",
            "Time for epoch 316 is 0.42063355445861816 sec \n",
            "Time for epoch 317 is 0.4104323387145996 sec \n",
            "Time for epoch 318 is 0.40244483947753906 sec \n",
            "Time for epoch 319 is 0.37563419342041016 sec \n",
            "Time for epoch 320 is 0.38904428482055664 sec \n",
            "Time for epoch 321 is 0.58408522605896 sec \n",
            "Time for epoch 322 is 0.5718934535980225 sec \n",
            "Time for epoch 323 is 0.5720813274383545 sec \n",
            "Time for epoch 324 is 0.6226449012756348 sec \n",
            "Time for epoch 325 is 0.6207079887390137 sec \n",
            "Time for epoch 326 is 0.46237778663635254 sec \n",
            "Time for epoch 327 is 0.3925144672393799 sec \n",
            "Time for epoch 328 is 0.38875460624694824 sec \n",
            "Time for epoch 329 is 0.3991363048553467 sec \n",
            "Time for epoch 330 is 0.38590168952941895 sec \n",
            "Time for epoch 331 is 0.3897247314453125 sec \n",
            "Time for epoch 332 is 0.3994138240814209 sec \n",
            "Time for epoch 333 is 0.3774137496948242 sec \n",
            "Time for epoch 334 is 0.39735865592956543 sec \n",
            "Time for epoch 335 is 0.38663649559020996 sec \n",
            "Time for epoch 336 is 0.38063645362854004 sec \n",
            "Time for epoch 337 is 0.39737510681152344 sec \n",
            "Time for epoch 338 is 0.3878672122955322 sec \n",
            "Time for epoch 339 is 0.390331506729126 sec \n",
            "Time for epoch 340 is 0.4008522033691406 sec \n",
            "Time for epoch 341 is 0.3836832046508789 sec \n",
            "Time for epoch 342 is 0.3944973945617676 sec \n",
            "Time for epoch 343 is 0.3723180294036865 sec \n",
            "Time for epoch 344 is 0.37789154052734375 sec \n",
            "Time for epoch 345 is 0.3970980644226074 sec \n",
            "Time for epoch 346 is 0.3833134174346924 sec \n",
            "Time for epoch 347 is 0.3847639560699463 sec \n",
            "Time for epoch 348 is 0.40765976905822754 sec \n",
            "Time for epoch 349 is 0.3723738193511963 sec \n",
            "Time for epoch 350 is 0.38603949546813965 sec \n",
            "Time for epoch 351 is 0.42719054222106934 sec \n",
            "Time for epoch 352 is 0.5773248672485352 sec \n",
            "Time for epoch 353 is 0.5940203666687012 sec \n",
            "Time for epoch 354 is 0.5592799186706543 sec \n",
            "Time for epoch 355 is 0.5930297374725342 sec \n",
            "Time for epoch 356 is 0.5994749069213867 sec \n",
            "Time for epoch 357 is 0.3742046356201172 sec \n",
            "Time for epoch 358 is 0.3734004497528076 sec \n",
            "Time for epoch 359 is 0.40346622467041016 sec \n",
            "Time for epoch 360 is 0.3870062828063965 sec \n",
            "Time for epoch 361 is 0.37978315353393555 sec \n",
            "Time for epoch 362 is 0.40167951583862305 sec \n",
            "Time for epoch 363 is 0.41426587104797363 sec \n",
            "Time for epoch 364 is 0.4133296012878418 sec \n",
            "Time for epoch 365 is 0.3842589855194092 sec \n",
            "Time for epoch 366 is 0.37165355682373047 sec \n",
            "Time for epoch 367 is 0.38933491706848145 sec \n",
            "Time for epoch 368 is 0.38203907012939453 sec \n",
            "Time for epoch 369 is 0.38364529609680176 sec \n",
            "Time for epoch 370 is 0.3943612575531006 sec \n",
            "Time for epoch 371 is 0.3788924217224121 sec \n",
            "Time for epoch 372 is 0.3786437511444092 sec \n",
            "Time for epoch 373 is 0.3929886817932129 sec \n",
            "Time for epoch 374 is 0.38136887550354004 sec \n",
            "Time for epoch 375 is 0.3992013931274414 sec \n",
            "Time for epoch 376 is 0.3806335926055908 sec \n",
            "Time for epoch 377 is 0.3815593719482422 sec \n",
            "Time for epoch 378 is 0.4113349914550781 sec \n",
            "Time for epoch 379 is 0.3894975185394287 sec \n",
            "Time for epoch 380 is 0.3724181652069092 sec \n",
            "Time for epoch 381 is 0.4035990238189697 sec \n",
            "Time for epoch 382 is 0.45349812507629395 sec \n",
            "Time for epoch 383 is 0.6021556854248047 sec \n",
            "Time for epoch 384 is 0.5757968425750732 sec \n",
            "Time for epoch 385 is 0.6093149185180664 sec \n",
            "Time for epoch 386 is 0.5810272693634033 sec \n",
            "Time for epoch 387 is 0.5468778610229492 sec \n",
            "Time for epoch 388 is 0.371110200881958 sec \n",
            "Time for epoch 389 is 0.39276552200317383 sec \n",
            "Time for epoch 390 is 0.37447285652160645 sec \n",
            "Time for epoch 391 is 0.36809444427490234 sec \n",
            "Time for epoch 392 is 0.40090060234069824 sec \n",
            "Time for epoch 393 is 0.3736889362335205 sec \n",
            "Time for epoch 394 is 0.383190393447876 sec \n",
            "Time for epoch 395 is 0.4018111228942871 sec \n",
            "Time for epoch 396 is 0.40854644775390625 sec \n",
            "Time for epoch 397 is 0.39708375930786133 sec \n",
            "Time for epoch 398 is 0.3818972110748291 sec \n",
            "Time for epoch 399 is 0.38194823265075684 sec \n",
            "Time for epoch 400 is 0.3946259021759033 sec \n",
            "Time for epoch 401 is 0.37781643867492676 sec \n",
            "Time for epoch 402 is 0.37654709815979004 sec \n",
            "Time for epoch 403 is 0.3950977325439453 sec \n",
            "Time for epoch 404 is 0.3926997184753418 sec \n",
            "Time for epoch 405 is 0.3968183994293213 sec \n",
            "Time for epoch 406 is 0.37266111373901367 sec \n",
            "Time for epoch 407 is 0.38495349884033203 sec \n",
            "Time for epoch 408 is 0.39525508880615234 sec \n",
            "Time for epoch 409 is 0.3755919933319092 sec \n",
            "Time for epoch 410 is 0.385148286819458 sec \n",
            "Time for epoch 411 is 0.39171838760375977 sec \n",
            "Time for epoch 412 is 0.386183500289917 sec \n",
            "Time for epoch 413 is 0.49767208099365234 sec \n",
            "Time for epoch 414 is 0.5619285106658936 sec \n",
            "Time for epoch 415 is 0.5740096569061279 sec \n",
            "Time for epoch 416 is 0.5853731632232666 sec \n",
            "Time for epoch 417 is 0.6177504062652588 sec \n",
            "Time for epoch 418 is 0.5084953308105469 sec \n",
            "Time for epoch 419 is 0.3839423656463623 sec \n",
            "Time for epoch 420 is 0.3705170154571533 sec \n",
            "Time for epoch 421 is 0.38405466079711914 sec \n",
            "Time for epoch 422 is 0.4068276882171631 sec \n",
            "Time for epoch 423 is 0.39835596084594727 sec \n",
            "Time for epoch 424 is 0.37836575508117676 sec \n",
            "Time for epoch 425 is 0.4018585681915283 sec \n",
            "Time for epoch 426 is 0.3810868263244629 sec \n",
            "Time for epoch 427 is 0.3743455410003662 sec \n",
            "Time for epoch 428 is 0.40062689781188965 sec \n",
            "Time for epoch 429 is 0.37902379035949707 sec \n",
            "Time for epoch 430 is 0.39554262161254883 sec \n",
            "Time for epoch 431 is 0.3830716609954834 sec \n",
            "Time for epoch 432 is 0.39771151542663574 sec \n",
            "Time for epoch 433 is 0.398357629776001 sec \n",
            "Time for epoch 434 is 0.3951752185821533 sec \n",
            "Time for epoch 435 is 0.40385890007019043 sec \n",
            "Time for epoch 436 is 0.3980748653411865 sec \n",
            "Time for epoch 437 is 0.38346385955810547 sec \n",
            "Time for epoch 438 is 0.4017448425292969 sec \n",
            "Time for epoch 439 is 0.3724696636199951 sec \n",
            "Time for epoch 440 is 0.3852806091308594 sec \n",
            "Time for epoch 441 is 0.39922642707824707 sec \n",
            "Time for epoch 442 is 0.39292335510253906 sec \n",
            "Time for epoch 443 is 0.8199145793914795 sec \n",
            "Time for epoch 444 is 0.9428725242614746 sec \n",
            "Time for epoch 445 is 1.1720738410949707 sec \n",
            "Time for epoch 446 is 0.9917387962341309 sec \n",
            "Time for epoch 447 is 0.7615799903869629 sec \n",
            "Time for epoch 448 is 0.7904789447784424 sec \n",
            "Time for epoch 449 is 0.8153798580169678 sec \n",
            "Time for epoch 450 is 0.7342739105224609 sec \n",
            "Time for epoch 451 is 0.607313871383667 sec \n",
            "Time for epoch 452 is 0.782468318939209 sec \n",
            "Time for epoch 453 is 0.811903715133667 sec \n",
            "Time for epoch 454 is 0.646812915802002 sec \n",
            "Time for epoch 455 is 0.7419028282165527 sec \n",
            "Time for epoch 456 is 0.8226897716522217 sec \n",
            "Time for epoch 457 is 0.62636399269104 sec \n",
            "Time for epoch 458 is 0.6780765056610107 sec \n",
            "Time for epoch 459 is 0.43834424018859863 sec \n",
            "Time for epoch 460 is 0.4024932384490967 sec \n",
            "Time for epoch 461 is 0.47632789611816406 sec \n",
            "Time for epoch 462 is 0.5749514102935791 sec \n",
            "Time for epoch 463 is 0.5778727531433105 sec \n",
            "Time for epoch 464 is 0.5870721340179443 sec \n",
            "Time for epoch 465 is 0.6011867523193359 sec \n",
            "Time for epoch 466 is 0.5048885345458984 sec \n",
            "Time for epoch 467 is 0.36920166015625 sec \n",
            "Time for epoch 468 is 0.3912196159362793 sec \n",
            "Time for epoch 469 is 0.3768582344055176 sec \n",
            "Time for epoch 470 is 0.3634819984436035 sec \n",
            "Time for epoch 471 is 0.395855188369751 sec \n",
            "Time for epoch 472 is 0.3693668842315674 sec \n",
            "Time for epoch 473 is 0.36841630935668945 sec \n",
            "Time for epoch 474 is 0.39775919914245605 sec \n",
            "Time for epoch 475 is 0.3720419406890869 sec \n",
            "Time for epoch 476 is 0.37120985984802246 sec \n",
            "Time for epoch 477 is 0.3968796730041504 sec \n",
            "Time for epoch 478 is 0.3675210475921631 sec \n",
            "Time for epoch 479 is 0.39728450775146484 sec \n",
            "Time for epoch 480 is 0.3665945529937744 sec \n",
            "Time for epoch 481 is 0.36478257179260254 sec \n",
            "Time for epoch 482 is 0.393787145614624 sec \n",
            "Time for epoch 483 is 0.3772866725921631 sec \n",
            "Time for epoch 484 is 0.3791639804840088 sec \n",
            "Time for epoch 485 is 0.404634952545166 sec \n",
            "Time for epoch 486 is 0.3721809387207031 sec \n",
            "Time for epoch 487 is 0.3823871612548828 sec \n",
            "Time for epoch 488 is 0.4038505554199219 sec \n",
            "Time for epoch 489 is 0.375948429107666 sec \n",
            "Time for epoch 490 is 0.4253230094909668 sec \n",
            "Time for epoch 491 is 0.37032437324523926 sec \n",
            "Time for epoch 492 is 0.47470545768737793 sec \n",
            "Time for epoch 493 is 0.6017851829528809 sec \n",
            "Time for epoch 494 is 0.5709774494171143 sec \n",
            "Time for epoch 495 is 0.5772221088409424 sec \n",
            "Time for epoch 496 is 0.6109328269958496 sec \n",
            "Time for epoch 497 is 0.5336761474609375 sec \n",
            "Time for epoch 498 is 0.3805112838745117 sec \n",
            "Time for epoch 499 is 0.4011728763580322 sec \n",
            "Time for epoch 500 is 0.3733408451080322 sec \n",
            "Time for epoch 501 is 0.375657320022583 sec \n",
            "Time for epoch 502 is 0.3941946029663086 sec \n",
            "Time for epoch 503 is 0.3833463191986084 sec \n",
            "Time for epoch 504 is 0.4001281261444092 sec \n",
            "Time for epoch 505 is 0.38440895080566406 sec \n",
            "Time for epoch 506 is 0.3862340450286865 sec \n",
            "Time for epoch 507 is 0.39963507652282715 sec \n",
            "Time for epoch 508 is 0.3914520740509033 sec \n",
            "Time for epoch 509 is 0.38599705696105957 sec \n",
            "Time for epoch 510 is 0.40297746658325195 sec \n",
            "Time for epoch 511 is 0.3791029453277588 sec \n",
            "Time for epoch 512 is 0.3939228057861328 sec \n",
            "Time for epoch 513 is 0.3951122760772705 sec \n",
            "Time for epoch 514 is 0.3796112537384033 sec \n",
            "Time for epoch 515 is 0.40012407302856445 sec \n",
            "Time for epoch 516 is 0.39566946029663086 sec \n",
            "Time for epoch 517 is 0.3983931541442871 sec \n",
            "Time for epoch 518 is 0.3984389305114746 sec \n",
            "Time for epoch 519 is 0.3756527900695801 sec \n",
            "Time for epoch 520 is 0.39623045921325684 sec \n",
            "Time for epoch 521 is 0.38503599166870117 sec \n",
            "Time for epoch 522 is 0.3888680934906006 sec \n",
            "Time for epoch 523 is 0.5269005298614502 sec \n",
            "Time for epoch 524 is 0.5696477890014648 sec \n",
            "Time for epoch 525 is 0.5818347930908203 sec \n",
            "Time for epoch 526 is 0.6070253849029541 sec \n",
            "Time for epoch 527 is 0.6367025375366211 sec \n",
            "Time for epoch 528 is 0.4978153705596924 sec \n",
            "Time for epoch 529 is 0.4013497829437256 sec \n",
            "Time for epoch 530 is 0.3965878486633301 sec \n",
            "Time for epoch 531 is 0.4205605983734131 sec \n",
            "Time for epoch 532 is 0.3807387351989746 sec \n",
            "Time for epoch 533 is 0.379986047744751 sec \n",
            "Time for epoch 534 is 0.404461145401001 sec \n",
            "Time for epoch 535 is 0.3896665573120117 sec \n",
            "Time for epoch 536 is 0.41567206382751465 sec \n",
            "Time for epoch 537 is 0.39885783195495605 sec \n",
            "Time for epoch 538 is 0.42628002166748047 sec \n",
            "Time for epoch 539 is 0.4308323860168457 sec \n",
            "Time for epoch 540 is 0.4012942314147949 sec \n",
            "Time for epoch 541 is 0.4137096405029297 sec \n",
            "Time for epoch 542 is 0.378387451171875 sec \n",
            "Time for epoch 543 is 0.38994836807250977 sec \n",
            "Time for epoch 544 is 0.3975958824157715 sec \n",
            "Time for epoch 545 is 0.3842134475708008 sec \n",
            "Time for epoch 546 is 0.38866209983825684 sec \n",
            "Time for epoch 547 is 0.39641690254211426 sec \n",
            "Time for epoch 548 is 0.3691375255584717 sec \n",
            "Time for epoch 549 is 0.37221646308898926 sec \n",
            "Time for epoch 550 is 0.4024620056152344 sec \n",
            "Time for epoch 551 is 0.3933393955230713 sec \n",
            "Time for epoch 552 is 0.41181445121765137 sec \n",
            "Time for epoch 553 is 0.48565196990966797 sec \n",
            "Time for epoch 554 is 0.6162862777709961 sec \n",
            "Time for epoch 555 is 0.577317476272583 sec \n",
            "Time for epoch 556 is 0.581981897354126 sec \n",
            "Time for epoch 557 is 0.5886890888214111 sec \n",
            "Time for epoch 558 is 0.5384995937347412 sec \n",
            "Time for epoch 559 is 0.3803844451904297 sec \n",
            "Time for epoch 560 is 0.389789342880249 sec \n",
            "Time for epoch 561 is 0.41550374031066895 sec \n",
            "Time for epoch 562 is 0.3895885944366455 sec \n",
            "Time for epoch 563 is 0.4085667133331299 sec \n",
            "Time for epoch 564 is 0.3940560817718506 sec \n",
            "Time for epoch 565 is 0.39361143112182617 sec \n",
            "Time for epoch 566 is 0.40761756896972656 sec \n",
            "Time for epoch 567 is 0.38511013984680176 sec \n",
            "Time for epoch 568 is 0.39234423637390137 sec \n",
            "Time for epoch 569 is 0.4159374237060547 sec \n",
            "Time for epoch 570 is 0.5703256130218506 sec \n",
            "Time for epoch 571 is 0.6213376522064209 sec \n",
            "Time for epoch 572 is 0.6557459831237793 sec \n",
            "Time for epoch 573 is 0.7225661277770996 sec \n",
            "Time for epoch 574 is 0.7403068542480469 sec \n",
            "Time for epoch 575 is 0.6705472469329834 sec \n",
            "Time for epoch 576 is 0.7012307643890381 sec \n",
            "Time for epoch 577 is 0.708381175994873 sec \n",
            "Time for epoch 578 is 0.7839405536651611 sec \n",
            "Time for epoch 579 is 0.9309444427490234 sec \n",
            "Time for epoch 580 is 0.8056228160858154 sec \n",
            "Time for epoch 581 is 0.5992352962493896 sec \n",
            "Time for epoch 582 is 0.46297430992126465 sec \n",
            "Time for epoch 583 is 0.38887548446655273 sec \n",
            "Time for epoch 584 is 0.385664701461792 sec \n",
            "Time for epoch 585 is 0.3862950801849365 sec \n",
            "Time for epoch 586 is 0.3962259292602539 sec \n",
            "Time for epoch 587 is 0.3889131546020508 sec \n",
            "Time for epoch 588 is 0.42900633811950684 sec \n",
            "Time for epoch 589 is 0.4001739025115967 sec \n",
            "Time for epoch 590 is 0.40702104568481445 sec \n",
            "Time for epoch 591 is 0.39148712158203125 sec \n",
            "Time for epoch 592 is 0.38177037239074707 sec \n",
            "Time for epoch 593 is 0.37127041816711426 sec \n",
            "Time for epoch 594 is 0.40822839736938477 sec \n",
            "Time for epoch 595 is 0.3902280330657959 sec \n",
            "Time for epoch 596 is 0.36925625801086426 sec \n",
            "Time for epoch 597 is 0.38864779472351074 sec \n",
            "Time for epoch 598 is 0.38208985328674316 sec \n",
            "Time for epoch 599 is 0.392061710357666 sec \n",
            "Time for epoch 600 is 0.37462306022644043 sec \n",
            "Time for epoch 601 is 0.3821108341217041 sec \n",
            "Time for epoch 602 is 0.3985903263092041 sec \n",
            "Time for epoch 603 is 0.3797116279602051 sec \n",
            "Time for epoch 604 is 0.38117170333862305 sec \n",
            "Time for epoch 605 is 0.40875935554504395 sec \n",
            "Time for epoch 606 is 0.37059569358825684 sec \n",
            "Time for epoch 607 is 0.39339184761047363 sec \n",
            "Time for epoch 608 is 0.561443567276001 sec \n",
            "Time for epoch 609 is 0.5826132297515869 sec \n",
            "Time for epoch 610 is 0.5579349994659424 sec \n",
            "Time for epoch 611 is 0.587864875793457 sec \n",
            "Time for epoch 612 is 0.614464282989502 sec \n",
            "Time for epoch 613 is 0.4113025665283203 sec \n",
            "Time for epoch 614 is 0.3841831684112549 sec \n",
            "Time for epoch 615 is 0.37713027000427246 sec \n",
            "Time for epoch 616 is 0.4020655155181885 sec \n",
            "Time for epoch 617 is 0.36928701400756836 sec \n",
            "Time for epoch 618 is 0.3831326961517334 sec \n",
            "Time for epoch 619 is 0.3866274356842041 sec \n",
            "Time for epoch 620 is 0.3865678310394287 sec \n",
            "Time for epoch 621 is 0.38034796714782715 sec \n",
            "Time for epoch 622 is 0.3906698226928711 sec \n",
            "Time for epoch 623 is 0.38637280464172363 sec \n",
            "Time for epoch 624 is 0.3993830680847168 sec \n",
            "Time for epoch 625 is 0.3918890953063965 sec \n",
            "Time for epoch 626 is 0.3861114978790283 sec \n",
            "Time for epoch 627 is 0.4020395278930664 sec \n",
            "Time for epoch 628 is 0.38077473640441895 sec \n",
            "Time for epoch 629 is 0.3716402053833008 sec \n",
            "Time for epoch 630 is 0.39655256271362305 sec \n",
            "Time for epoch 631 is 0.3925023078918457 sec \n",
            "Time for epoch 632 is 0.3874533176422119 sec \n",
            "Time for epoch 633 is 0.3812704086303711 sec \n",
            "Time for epoch 634 is 0.37918758392333984 sec \n",
            "Time for epoch 635 is 0.3954324722290039 sec \n",
            "Time for epoch 636 is 0.38777971267700195 sec \n",
            "Time for epoch 637 is 0.37101316452026367 sec \n",
            "Time for epoch 638 is 0.43430495262145996 sec \n",
            "Time for epoch 639 is 0.5685997009277344 sec \n",
            "Time for epoch 640 is 0.6244125366210938 sec \n",
            "Time for epoch 641 is 0.5458424091339111 sec \n",
            "Time for epoch 642 is 0.6050457954406738 sec \n",
            "Time for epoch 643 is 0.5846855640411377 sec \n",
            "Time for epoch 644 is 0.37993502616882324 sec \n",
            "Time for epoch 645 is 0.37963175773620605 sec \n",
            "Time for epoch 646 is 0.4012410640716553 sec \n",
            "Time for epoch 647 is 0.38445067405700684 sec \n",
            "Time for epoch 648 is 0.38112330436706543 sec \n",
            "Time for epoch 649 is 0.3962869644165039 sec \n",
            "Time for epoch 650 is 0.38019728660583496 sec \n",
            "Time for epoch 651 is 0.37597179412841797 sec \n",
            "Time for epoch 652 is 0.4032278060913086 sec \n",
            "Time for epoch 653 is 0.3670339584350586 sec \n",
            "Time for epoch 654 is 0.3906230926513672 sec \n",
            "Time for epoch 655 is 0.38283681869506836 sec \n",
            "Time for epoch 656 is 0.3768184185028076 sec \n",
            "Time for epoch 657 is 0.3826441764831543 sec \n",
            "Time for epoch 658 is 0.37485599517822266 sec \n",
            "Time for epoch 659 is 0.38291168212890625 sec \n",
            "Time for epoch 660 is 0.4311501979827881 sec \n",
            "Time for epoch 661 is 0.38278794288635254 sec \n",
            "Time for epoch 662 is 0.3858308792114258 sec \n",
            "Time for epoch 663 is 0.38652873039245605 sec \n",
            "Time for epoch 664 is 0.38346290588378906 sec \n",
            "Time for epoch 665 is 0.39693474769592285 sec \n",
            "Time for epoch 666 is 0.37297773361206055 sec \n",
            "Time for epoch 667 is 0.37897753715515137 sec \n",
            "Time for epoch 668 is 0.38635802268981934 sec \n",
            "Time for epoch 669 is 0.43795013427734375 sec \n",
            "Time for epoch 670 is 0.5932013988494873 sec \n",
            "Time for epoch 671 is 0.5596776008605957 sec \n",
            "Time for epoch 672 is 0.5787229537963867 sec \n",
            "Time for epoch 673 is 0.5761609077453613 sec \n",
            "Time for epoch 674 is 0.5670979022979736 sec \n",
            "Time for epoch 675 is 0.3729236125946045 sec \n",
            "Time for epoch 676 is 0.4009711742401123 sec \n",
            "Time for epoch 677 is 0.3907134532928467 sec \n",
            "Time for epoch 678 is 0.38057708740234375 sec \n",
            "Time for epoch 679 is 0.4136512279510498 sec \n",
            "Time for epoch 680 is 0.38210391998291016 sec \n",
            "Time for epoch 681 is 0.3762638568878174 sec \n",
            "Time for epoch 682 is 0.3872532844543457 sec \n",
            "Time for epoch 683 is 0.37038636207580566 sec \n",
            "Time for epoch 684 is 0.36757922172546387 sec \n",
            "Time for epoch 685 is 0.3935842514038086 sec \n",
            "Time for epoch 686 is 0.38601231575012207 sec \n",
            "Time for epoch 687 is 0.3926815986633301 sec \n",
            "Time for epoch 688 is 0.3769960403442383 sec \n",
            "Time for epoch 689 is 0.383364200592041 sec \n",
            "Time for epoch 690 is 0.3853597640991211 sec \n",
            "Time for epoch 691 is 0.3724794387817383 sec \n",
            "Time for epoch 692 is 0.3777787685394287 sec \n",
            "Time for epoch 693 is 0.38079357147216797 sec \n",
            "Time for epoch 694 is 0.3785371780395508 sec \n",
            "Time for epoch 695 is 0.4012460708618164 sec \n",
            "Time for epoch 696 is 0.3949575424194336 sec \n",
            "Time for epoch 697 is 0.3928334712982178 sec \n",
            "Time for epoch 698 is 0.4148366451263428 sec \n",
            "Time for epoch 699 is 0.3915858268737793 sec \n",
            "Time for epoch 700 is 0.45824217796325684 sec \n",
            "Time for epoch 701 is 0.5885367393493652 sec \n",
            "Time for epoch 702 is 0.5867490768432617 sec \n",
            "Time for epoch 703 is 0.5627357959747314 sec \n",
            "Time for epoch 704 is 0.5968570709228516 sec \n",
            "Time for epoch 705 is 0.5271260738372803 sec \n",
            "Time for epoch 706 is 0.36401867866516113 sec \n",
            "Time for epoch 707 is 0.39870738983154297 sec \n",
            "Time for epoch 708 is 0.39061999320983887 sec \n",
            "Time for epoch 709 is 0.3686857223510742 sec \n",
            "Time for epoch 710 is 0.3970358371734619 sec \n",
            "Time for epoch 711 is 0.3753542900085449 sec \n",
            "Time for epoch 712 is 0.39231133460998535 sec \n",
            "Time for epoch 713 is 0.3795814514160156 sec \n",
            "Time for epoch 714 is 0.37439918518066406 sec \n",
            "Time for epoch 715 is 0.39966511726379395 sec \n",
            "Time for epoch 716 is 0.3699967861175537 sec \n",
            "Time for epoch 717 is 0.3753340244293213 sec \n",
            "Time for epoch 718 is 0.3954274654388428 sec \n",
            "Time for epoch 719 is 0.3770933151245117 sec \n",
            "Time for epoch 720 is 0.39733409881591797 sec \n",
            "Time for epoch 721 is 0.3851139545440674 sec \n",
            "Time for epoch 722 is 0.3852660655975342 sec \n",
            "Time for epoch 723 is 0.4009413719177246 sec \n",
            "Time for epoch 724 is 0.3809053897857666 sec \n",
            "Time for epoch 725 is 0.37738466262817383 sec \n",
            "Time for epoch 726 is 0.40837836265563965 sec \n",
            "Time for epoch 727 is 0.38228750228881836 sec \n",
            "Time for epoch 728 is 0.3921477794647217 sec \n",
            "Time for epoch 729 is 0.3680763244628906 sec \n",
            "Time for epoch 730 is 0.3725006580352783 sec \n",
            "Time for epoch 731 is 0.44814109802246094 sec \n",
            "Time for epoch 732 is 0.578880786895752 sec \n",
            "Time for epoch 733 is 0.6328768730163574 sec \n",
            "Time for epoch 734 is 0.5643460750579834 sec \n",
            "Time for epoch 735 is 0.6037113666534424 sec \n",
            "Time for epoch 736 is 0.5393779277801514 sec \n",
            "Time for epoch 737 is 0.39145541191101074 sec \n",
            "Time for epoch 738 is 0.36797022819519043 sec \n",
            "Time for epoch 739 is 0.37878918647766113 sec \n",
            "Time for epoch 740 is 0.39448022842407227 sec \n",
            "Time for epoch 741 is 0.3719182014465332 sec \n",
            "Time for epoch 742 is 0.3661839962005615 sec \n",
            "Time for epoch 743 is 0.39800429344177246 sec \n",
            "Time for epoch 744 is 0.3817141056060791 sec \n",
            "Time for epoch 745 is 0.39286255836486816 sec \n",
            "Time for epoch 746 is 0.37258172035217285 sec \n",
            "Time for epoch 747 is 0.3790302276611328 sec \n",
            "Time for epoch 748 is 0.3877382278442383 sec \n",
            "Time for epoch 749 is 0.3785691261291504 sec \n",
            "Time for epoch 750 is 0.381014347076416 sec \n",
            "Time for epoch 751 is 0.38792920112609863 sec \n",
            "Time for epoch 752 is 0.37712693214416504 sec \n",
            "Time for epoch 753 is 0.3796250820159912 sec \n",
            "Time for epoch 754 is 0.3853034973144531 sec \n",
            "Time for epoch 755 is 0.3759040832519531 sec \n",
            "Time for epoch 756 is 0.38384461402893066 sec \n",
            "Time for epoch 757 is 0.368621826171875 sec \n",
            "Time for epoch 758 is 0.37053966522216797 sec \n",
            "Time for epoch 759 is 0.39600539207458496 sec \n",
            "Time for epoch 760 is 0.3823208808898926 sec \n",
            "Time for epoch 761 is 0.37770748138427734 sec \n",
            "Time for epoch 762 is 0.40471863746643066 sec \n",
            "Time for epoch 763 is 0.5987839698791504 sec \n",
            "Time for epoch 764 is 0.5754451751708984 sec \n",
            "Time for epoch 765 is 0.551306962966919 sec \n",
            "Time for epoch 766 is 0.5945384502410889 sec \n",
            "Time for epoch 767 is 0.5783083438873291 sec \n",
            "Time for epoch 768 is 0.3949158191680908 sec \n",
            "Time for epoch 769 is 0.38423871994018555 sec \n",
            "Time for epoch 770 is 0.3959369659423828 sec \n",
            "Time for epoch 771 is 0.37867212295532227 sec \n",
            "Time for epoch 772 is 0.36966800689697266 sec \n",
            "Time for epoch 773 is 0.3992617130279541 sec \n",
            "Time for epoch 774 is 0.3834958076477051 sec \n",
            "Time for epoch 775 is 0.3695943355560303 sec \n",
            "Time for epoch 776 is 0.4056408405303955 sec \n",
            "Time for epoch 777 is 0.3847951889038086 sec \n",
            "Time for epoch 778 is 0.3863527774810791 sec \n",
            "Time for epoch 779 is 0.38116955757141113 sec \n",
            "Time for epoch 780 is 0.37775635719299316 sec \n",
            "Time for epoch 781 is 0.39924073219299316 sec \n",
            "Time for epoch 782 is 0.3751034736633301 sec \n",
            "Time for epoch 783 is 0.37605905532836914 sec \n",
            "Time for epoch 784 is 0.4007234573364258 sec \n",
            "Time for epoch 785 is 0.371232271194458 sec \n",
            "Time for epoch 786 is 0.3853943347930908 sec \n",
            "Time for epoch 787 is 0.3936018943786621 sec \n",
            "Time for epoch 788 is 0.3803226947784424 sec \n",
            "Time for epoch 789 is 0.3909931182861328 sec \n",
            "Time for epoch 790 is 0.37209272384643555 sec \n",
            "Time for epoch 791 is 0.37689781188964844 sec \n",
            "Time for epoch 792 is 0.3854641914367676 sec \n",
            "Time for epoch 793 is 0.38700175285339355 sec \n",
            "Time for epoch 794 is 0.5856735706329346 sec \n",
            "Time for epoch 795 is 0.5688152313232422 sec \n",
            "Time for epoch 796 is 0.5826916694641113 sec \n",
            "Time for epoch 797 is 0.5858402252197266 sec \n",
            "Time for epoch 798 is 0.5932819843292236 sec \n",
            "Time for epoch 799 is 0.3781008720397949 sec \n",
            "Time for epoch 800 is 0.3699829578399658 sec \n",
            "Time for epoch 801 is 0.3810615539550781 sec \n",
            "Time for epoch 802 is 0.3714268207550049 sec \n",
            "Time for epoch 803 is 0.36960673332214355 sec \n",
            "Time for epoch 804 is 0.42975473403930664 sec \n",
            "Time for epoch 805 is 0.3844914436340332 sec \n",
            "Time for epoch 806 is 0.3859233856201172 sec \n",
            "Time for epoch 807 is 0.3925962448120117 sec \n",
            "Time for epoch 808 is 0.369157075881958 sec \n",
            "Time for epoch 809 is 0.3922131061553955 sec \n",
            "Time for epoch 810 is 0.38338589668273926 sec \n",
            "Time for epoch 811 is 0.37000370025634766 sec \n",
            "Time for epoch 812 is 0.3974487781524658 sec \n",
            "Time for epoch 813 is 0.37594032287597656 sec \n",
            "Time for epoch 814 is 0.7629978656768799 sec \n",
            "Time for epoch 815 is 0.5156822204589844 sec \n",
            "Time for epoch 816 is 0.40360331535339355 sec \n",
            "Time for epoch 817 is 0.38049840927124023 sec \n",
            "Time for epoch 818 is 0.3715522289276123 sec \n",
            "Time for epoch 819 is 0.3956108093261719 sec \n",
            "Time for epoch 820 is 0.373366117477417 sec \n",
            "Time for epoch 821 is 0.40495729446411133 sec \n",
            "Time for epoch 822 is 0.3740823268890381 sec \n",
            "Time for epoch 823 is 0.45067501068115234 sec \n",
            "Time for epoch 824 is 0.5753159523010254 sec \n",
            "Time for epoch 825 is 0.5589666366577148 sec \n",
            "Time for epoch 826 is 0.5776376724243164 sec \n",
            "Time for epoch 827 is 0.5785553455352783 sec \n",
            "Time for epoch 828 is 0.538301944732666 sec \n",
            "Time for epoch 829 is 0.38303136825561523 sec \n",
            "Time for epoch 830 is 0.4057903289794922 sec \n",
            "Time for epoch 831 is 0.3784325122833252 sec \n",
            "Time for epoch 832 is 0.3888232707977295 sec \n",
            "Time for epoch 833 is 0.3893747329711914 sec \n",
            "Time for epoch 834 is 0.3761115074157715 sec \n",
            "Time for epoch 835 is 0.3798651695251465 sec \n",
            "Time for epoch 836 is 0.3695528507232666 sec \n",
            "Time for epoch 837 is 0.380115270614624 sec \n",
            "Time for epoch 838 is 0.3856985569000244 sec \n",
            "Time for epoch 839 is 0.3845250606536865 sec \n",
            "Time for epoch 840 is 0.39716267585754395 sec \n",
            "Time for epoch 841 is 0.399644136428833 sec \n",
            "Time for epoch 842 is 0.3868112564086914 sec \n",
            "Time for epoch 843 is 0.37990331649780273 sec \n",
            "Time for epoch 844 is 0.3940389156341553 sec \n",
            "Time for epoch 845 is 0.3883533477783203 sec \n",
            "Time for epoch 846 is 0.3866105079650879 sec \n",
            "Time for epoch 847 is 0.3862025737762451 sec \n",
            "Time for epoch 848 is 0.38541316986083984 sec \n",
            "Time for epoch 849 is 0.387225866317749 sec \n",
            "Time for epoch 850 is 0.37087583541870117 sec \n",
            "Time for epoch 851 is 0.37237548828125 sec \n",
            "Time for epoch 852 is 0.4001960754394531 sec \n",
            "Time for epoch 853 is 0.3816192150115967 sec \n",
            "Time for epoch 854 is 0.4796626567840576 sec \n",
            "Time for epoch 855 is 0.5698156356811523 sec \n",
            "Time for epoch 856 is 0.5766468048095703 sec \n",
            "Time for epoch 857 is 0.5693778991699219 sec \n",
            "Time for epoch 858 is 0.6027266979217529 sec \n",
            "Time for epoch 859 is 0.5276093482971191 sec \n",
            "Time for epoch 860 is 0.4056715965270996 sec \n",
            "Time for epoch 861 is 0.37312817573547363 sec \n",
            "Time for epoch 862 is 0.3697383403778076 sec \n",
            "Time for epoch 863 is 0.4070475101470947 sec \n",
            "Time for epoch 864 is 0.36855649948120117 sec \n",
            "Time for epoch 865 is 0.3776845932006836 sec \n",
            "Time for epoch 866 is 0.3923194408416748 sec \n",
            "Time for epoch 867 is 0.3752315044403076 sec \n",
            "Time for epoch 868 is 0.3738827705383301 sec \n",
            "Time for epoch 869 is 0.4040670394897461 sec \n",
            "Time for epoch 870 is 0.36029839515686035 sec \n",
            "Time for epoch 871 is 0.3924105167388916 sec \n",
            "Time for epoch 872 is 0.36519527435302734 sec \n",
            "Time for epoch 873 is 0.39093780517578125 sec \n",
            "Time for epoch 874 is 0.3964216709136963 sec \n",
            "Time for epoch 875 is 0.3904874324798584 sec \n",
            "Time for epoch 876 is 0.42424726486206055 sec \n",
            "Time for epoch 877 is 0.39849853515625 sec \n",
            "Time for epoch 878 is 0.38668203353881836 sec \n",
            "Time for epoch 879 is 0.4050779342651367 sec \n",
            "Time for epoch 880 is 0.3676481246948242 sec \n",
            "Time for epoch 881 is 0.3881499767303467 sec \n",
            "Time for epoch 882 is 0.38434886932373047 sec \n",
            "Time for epoch 883 is 0.36635375022888184 sec \n",
            "Time for epoch 884 is 0.3737001419067383 sec \n",
            "Time for epoch 885 is 0.5034303665161133 sec \n",
            "Time for epoch 886 is 0.5759072303771973 sec \n",
            "Time for epoch 887 is 0.5719327926635742 sec \n",
            "Time for epoch 888 is 0.5821413993835449 sec \n",
            "Time for epoch 889 is 0.6022202968597412 sec \n",
            "Time for epoch 890 is 0.4937129020690918 sec \n",
            "Time for epoch 891 is 0.4017519950866699 sec \n",
            "Time for epoch 892 is 0.6188385486602783 sec \n",
            "Time for epoch 893 is 0.6373856067657471 sec \n",
            "Time for epoch 894 is 0.5303995609283447 sec \n",
            "Time for epoch 895 is 0.7049858570098877 sec \n",
            "Time for epoch 896 is 0.3913905620574951 sec \n",
            "Time for epoch 897 is 0.38006043434143066 sec \n",
            "Time for epoch 898 is 0.38031697273254395 sec \n",
            "Time for epoch 899 is 0.40224742889404297 sec \n",
            "Time for epoch 900 is 0.3802452087402344 sec \n",
            "Time for epoch 901 is 0.3695669174194336 sec \n",
            "Time for epoch 902 is 0.398287296295166 sec \n",
            "Time for epoch 903 is 0.3688936233520508 sec \n",
            "Time for epoch 904 is 0.38265156745910645 sec \n",
            "Time for epoch 905 is 0.39456796646118164 sec \n",
            "Time for epoch 906 is 0.3721659183502197 sec \n",
            "Time for epoch 907 is 0.4119727611541748 sec \n",
            "Time for epoch 908 is 0.3841979503631592 sec \n",
            "Time for epoch 909 is 0.39507508277893066 sec \n",
            "Time for epoch 910 is 0.42043328285217285 sec \n",
            "Time for epoch 911 is 0.3814535140991211 sec \n",
            "Time for epoch 912 is 0.3838493824005127 sec \n",
            "Time for epoch 913 is 0.4413309097290039 sec \n",
            "Time for epoch 914 is 0.5828278064727783 sec \n",
            "Time for epoch 915 is 0.5869240760803223 sec \n",
            "Time for epoch 916 is 0.5708820819854736 sec \n",
            "Time for epoch 917 is 0.6031413078308105 sec \n",
            "Time for epoch 918 is 0.5563571453094482 sec \n",
            "Time for epoch 919 is 0.37906312942504883 sec \n",
            "Time for epoch 920 is 0.3860433101654053 sec \n",
            "Time for epoch 921 is 0.3995027542114258 sec \n",
            "Time for epoch 922 is 0.3849458694458008 sec \n",
            "Time for epoch 923 is 0.3903324604034424 sec \n",
            "Time for epoch 924 is 0.39014244079589844 sec \n",
            "Time for epoch 925 is 0.38413119316101074 sec \n",
            "Time for epoch 926 is 0.388446569442749 sec \n",
            "Time for epoch 927 is 0.3748002052307129 sec \n",
            "Time for epoch 928 is 0.3758058547973633 sec \n",
            "Time for epoch 929 is 0.39902329444885254 sec \n",
            "Time for epoch 930 is 0.3776683807373047 sec \n",
            "Time for epoch 931 is 0.38339877128601074 sec \n",
            "Time for epoch 932 is 0.3911247253417969 sec \n",
            "Time for epoch 933 is 0.37926387786865234 sec \n",
            "Time for epoch 934 is 0.37571167945861816 sec \n",
            "Time for epoch 935 is 0.39227843284606934 sec \n",
            "Time for epoch 936 is 0.3775944709777832 sec \n",
            "Time for epoch 937 is 0.38806962966918945 sec \n",
            "Time for epoch 938 is 0.3717203140258789 sec \n",
            "Time for epoch 939 is 0.3740253448486328 sec \n",
            "Time for epoch 940 is 0.3901216983795166 sec \n",
            "Time for epoch 941 is 0.36766982078552246 sec \n",
            "Time for epoch 942 is 0.3672339916229248 sec \n",
            "Time for epoch 943 is 0.3918917179107666 sec \n",
            "Time for epoch 944 is 0.41338062286376953 sec \n",
            "Time for epoch 945 is 0.5694620609283447 sec \n",
            "Time for epoch 946 is 0.6274755001068115 sec \n",
            "Time for epoch 947 is 0.5628960132598877 sec \n",
            "Time for epoch 948 is 0.6347887516021729 sec \n",
            "Time for epoch 949 is 0.5603466033935547 sec \n",
            "Time for epoch 950 is 0.3708932399749756 sec \n",
            "Time for epoch 951 is 0.3803272247314453 sec \n",
            "Time for epoch 952 is 0.39586400985717773 sec \n",
            "Time for epoch 953 is 0.3727147579193115 sec \n",
            "Time for epoch 954 is 0.39548301696777344 sec \n",
            "Time for epoch 955 is 0.3822817802429199 sec \n",
            "Time for epoch 956 is 0.3720583915710449 sec \n",
            "Time for epoch 957 is 0.39649367332458496 sec \n",
            "Time for epoch 958 is 0.3799445629119873 sec \n",
            "Time for epoch 959 is 0.37125420570373535 sec \n",
            "Time for epoch 960 is 0.39107584953308105 sec \n",
            "Time for epoch 961 is 0.39067816734313965 sec \n",
            "Time for epoch 962 is 0.37901949882507324 sec \n",
            "Time for epoch 963 is 0.39121413230895996 sec \n",
            "Time for epoch 964 is 0.3688240051269531 sec \n",
            "Time for epoch 965 is 0.38814282417297363 sec \n",
            "Time for epoch 966 is 0.36351561546325684 sec \n",
            "Time for epoch 967 is 0.37290382385253906 sec \n",
            "Time for epoch 968 is 0.37971067428588867 sec \n",
            "Time for epoch 969 is 0.3719789981842041 sec \n",
            "Time for epoch 970 is 0.38309764862060547 sec \n",
            "Time for epoch 971 is 0.38382863998413086 sec \n",
            "Time for epoch 972 is 0.3786280155181885 sec \n",
            "Time for epoch 973 is 0.3724985122680664 sec \n",
            "Time for epoch 974 is 0.38254284858703613 sec \n",
            "Time for epoch 975 is 0.37277960777282715 sec \n",
            "Time for epoch 976 is 0.5603742599487305 sec \n",
            "Time for epoch 977 is 0.573836088180542 sec \n",
            "Time for epoch 978 is 0.5721514225006104 sec \n",
            "Time for epoch 979 is 0.5757725238800049 sec \n",
            "Time for epoch 980 is 0.6097517013549805 sec \n",
            "Time for epoch 981 is 0.39984607696533203 sec \n",
            "Time for epoch 982 is 0.39426493644714355 sec \n",
            "Time for epoch 983 is 0.37537670135498047 sec \n",
            "Time for epoch 984 is 0.37690067291259766 sec \n",
            "Time for epoch 985 is 0.40663838386535645 sec \n",
            "Time for epoch 986 is 0.38411784172058105 sec \n",
            "Time for epoch 987 is 0.3714146614074707 sec \n",
            "Time for epoch 988 is 0.4013030529022217 sec \n",
            "Time for epoch 989 is 0.37554931640625 sec \n",
            "Time for epoch 990 is 0.37009382247924805 sec \n",
            "Time for epoch 991 is 0.39340782165527344 sec \n",
            "Time for epoch 992 is 0.3733067512512207 sec \n",
            "Time for epoch 993 is 0.3941624164581299 sec \n",
            "Time for epoch 994 is 0.3751530647277832 sec \n",
            "Time for epoch 995 is 0.3796820640563965 sec \n",
            "Time for epoch 996 is 0.389754056930542 sec \n",
            "Time for epoch 997 is 0.36345386505126953 sec \n",
            "Time for epoch 998 is 0.38790035247802734 sec \n",
            "Time for epoch 999 is 0.3927891254425049 sec \n",
            "Time for epoch 1000 is 0.3801586627960205 sec \n"
          ]
        }
      ],
      "execution_count": 49
    },
    {
      "cell_type": "markdown",
      "source": [
        "**Detecting Anomalies**"
      ],
      "metadata": {
        "id": "bocWWDM6qzcd"
      }
    },
    {
      "cell_type": "code",
      "source": [
        "sample_size = 0.2\n",
        "\n",
        "X_test_sampled = X_test.sample(frac=sample_size, random_state=42).reset_index(drop=True)\n",
        "y_test_sampled = y_test[:X_test_sampled.shape[0]]\n",
        "\n",
        "y_pred=discriminator.predict(X_test_sampled)"
      ],
      "metadata": {
        "execution": {
          "iopub.status.busy": "2024-10-17T14:46:19.599243Z",
          "iopub.execute_input": "2024-10-17T14:46:19.60086Z",
          "iopub.status.idle": "2024-10-17T14:46:20.802755Z",
          "shell.execute_reply.started": "2024-10-17T14:46:19.600806Z",
          "shell.execute_reply": "2024-10-17T14:46:20.801756Z"
        },
        "trusted": true,
        "id": "84XGqipMqzcd",
        "outputId": "aa526c78-8d11-4fc7-b9ba-1e4ad37b642f",
        "colab": {
          "base_uri": "https://localhost:8080/"
        }
      },
      "outputs": [
        {
          "output_type": "stream",
          "name": "stdout",
          "text": [
            "\u001b[1m466/466\u001b[0m \u001b[32m━━━━━━━━━━━━━━━━━━━━\u001b[0m\u001b[37m\u001b[0m \u001b[1m1s\u001b[0m 2ms/step\n"
          ]
        }
      ],
      "execution_count": 50
    },
    {
      "cell_type": "markdown",
      "source": [
        "**Model Evaluation**"
      ],
      "metadata": {
        "id": "yfB6S-e0qzce"
      }
    },
    {
      "cell_type": "code",
      "source": [
        "epochs = range(1, len(history['gen']) + 1)\n",
        "\n",
        "plt.figure(figsize=(12, 6))\n",
        "\n",
        "# Plot Generator Loss\n",
        "plt.subplot(1, 2, 1)\n",
        "plt.plot(epochs, history['gen'], label='Generator Loss', color='blue')\n",
        "plt.title('Generator Loss Over Epochs')\n",
        "plt.xlabel('Epochs')\n",
        "plt.ylabel('Loss')\n",
        "plt.legend()\n",
        "\n",
        "# Plot Discriminator Loss\n",
        "plt.subplot(1, 2, 2)\n",
        "plt.plot(epochs, history['dis'], label='Discriminator Loss', color='red')\n",
        "plt.title('Discriminator Loss Over Epochs')\n",
        "plt.xlabel('Epochs')\n",
        "plt.ylabel('Loss')\n",
        "plt.legend()\n",
        "\n",
        "plt.tight_layout()\n",
        "plt.show()"
      ],
      "metadata": {
        "execution": {
          "iopub.status.busy": "2024-10-17T14:46:22.277495Z",
          "iopub.execute_input": "2024-10-17T14:46:22.277947Z",
          "iopub.status.idle": "2024-10-17T14:46:22.91301Z",
          "shell.execute_reply.started": "2024-10-17T14:46:22.277905Z",
          "shell.execute_reply": "2024-10-17T14:46:22.911776Z"
        },
        "trusted": true,
        "id": "CtHYVpG5qzce",
        "outputId": "9385f0bc-2663-4f91-8ec4-878402bae807",
        "colab": {
          "base_uri": "https://localhost:8080/",
          "height": 607
        }
      },
      "outputs": [
        {
          "output_type": "display_data",
          "data": {
            "text/plain": [
              "<Figure size 1200x600 with 2 Axes>"
            ],
            "image/png": "[encoded data removed]"
          },
          "metadata": {}
        }
      ],
      "execution_count": 51
    },
    {
      "cell_type": "markdown",
      "source": [
        "**Find Optimal Threshold**"
      ],
      "metadata": {
        "id": "ptPGSZa1qzce"
      }
    },
    {
      "cell_type": "code",
      "source": [
        "from sklearn.metrics import average_precision_score, accuracy_score ,recall_score, f1_score\n",
        "prob=[0.2,0.4,0.6,0.8,1.0]\n",
        "for p in prob:\n",
        "    pred_value =[1 if i<p  else 0 for i in y_pred]\n",
        "    f1=f1_score(y_test_sampled,pred_value)\n",
        "    acc=accuracy_score(y_test_sampled,pred_value)\n",
        "    precision=average_precision_score(y_test_sampled,pred_value)\n",
        "    recall= recall_score(y_test_sampled,pred_value)\n",
        "    print(f'prob ={p} and f1 score ={f1} : accuracy={acc} : precision={precision} : recall={recall}')\n",
        "    print(pred_value.count(0),pred_value.count(1))"
      ],
      "metadata": {
        "execution": {
          "iopub.status.busy": "2024-10-17T14:47:47.203988Z",
          "iopub.execute_input": "2024-10-17T14:47:47.204429Z",
          "iopub.status.idle": "2024-10-17T14:47:47.595403Z",
          "shell.execute_reply.started": "2024-10-17T14:47:47.20439Z",
          "shell.execute_reply": "2024-10-17T14:47:47.594302Z"
        },
        "trusted": true,
        "id": "AYDyZ6ctqzce",
        "colab": {
          "base_uri": "https://localhost:8080/"
        },
        "outputId": "d1cfb6c6-e996-4662-cf6d-6e4728a8b581"
      },
      "outputs": [
        {
          "output_type": "stream",
          "name": "stdout",
          "text": [
            "prob =0.2 and f1 score =0.10662769269873547 : accuracy=0.056316284064975165 : precision=0.9998696095779928 : recall=0.0563200644425052\n",
            "14058 840\n",
            "prob =0.4 and f1 score =0.10698856416772554 : accuracy=0.05651765337629212 : precision=0.9998696228110425 : recall=0.05652144727126267\n",
            "14055 843\n",
            "prob =0.6 and f1 score =0.10698856416772554 : accuracy=0.05651765337629212 : precision=0.9998696228110425 : recall=0.05652144727126267\n",
            "14055 843\n",
            "prob =0.8 and f1 score =0.10698856416772554 : accuracy=0.05651765337629212 : precision=0.9998696228110425 : recall=0.05652144727126267\n",
            "14055 843\n",
            "prob =1.0 and f1 score =0.10710882408995616 : accuracy=0.056584776480064436 : precision=0.9998696272225084 : recall=0.056588574880848494\n",
            "14054 844\n"
          ]
        }
      ],
      "execution_count": 52
    },
    {
      "cell_type": "markdown",
      "source": [
        "**Key Observations**\n",
        "\n",
        "Probabilities: The probabilities being tested range from 0.2 to 1.0. As we increase the threshold, the F1 score slightly improves, but remains low across all thresholds (hovering around 0.119).\n",
        "\n",
        "F1 Score: The F1 scores are consistently low, indicating a poor balance between precision and recall. Despite slight increases, they are far from optimal values (which typically range from 0 to 1, with 1 being perfect).\n",
        "\n",
        "Accuracy: The accuracy remains around 0.238, suggesting that approximately 23.8% of predictions are correct. This indicates that the model might be biased toward predicting the negative class due to the low recall.\n",
        "\n",
        "Precision and Recall:\n",
        "\n",
        "Precision remains relatively high (around 0.802), suggesting that when the model predicts a positive class, it is correct about 80% of the time.\n",
        "\n",
        "Recall is extremely low (around 0.064), indicating that the model is failing to identify a significant number of actual positive instances.\n",
        "\n",
        "Confusion Matrix: Given the counts (e.g., 18522 1239 for probabilities of 0.2): This indicates a strong bias toward the negative class with very few true positives identified."
      ],
      "metadata": {
        "id": "i_O5Kkoyqzcf"
      }
    },
    {
      "cell_type": "markdown",
      "source": [
        "**Next Steps for Improvement**"
      ],
      "metadata": {
        "id": "XSCx2ZoIqzcf"
      }
    },
    {
      "cell_type": "markdown",
      "source": [
        "**Model Architecture Review:**\n",
        "\n",
        "Use a sigmoid activation for binary classification.\n",
        "\n",
        "\n",
        "**Class Imbalance Handling:**\n",
        "\n",
        "Implement oversampling of the minority class or undersampling of the majority class.\n",
        "\n",
        "Use SMOTE (Synthetic Minority Over-sampling Technique) to generate synthetic samples.\n",
        "\n",
        "**Threshold Optimization:**\n",
        "\n",
        "Evaluate different thresholds to maximize the F1 score or achieve a desired balance between precision and recall.\n",
        "\n",
        "**Hyperparameter Tuning:**\n",
        "\n",
        "Experiment with different hyperparameters (learning rate, batch size, etc.) using techniques like Grid Search or Random Search.\n",
        "\n",
        "**Regularization Techniques:**\n",
        "\n",
        "Apply regularization methods (like L1 or L2) to prevent overfitting and improve generalization.\n",
        "\n",
        "**Experiment with Different Models:**\n",
        "\n",
        "Consider testing various algorithms (like XGBoost, LightGBM, or neural networks) to find the best fit for data."
      ],
      "metadata": {
        "id": "3tPWvCf0qzcf"
      }
    }
  ]
}