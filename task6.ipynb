{
  "nbformat": 4,
  "nbformat_minor": 0,
  "metadata": {
    "colab": {
      "provenance": [],
      "authorship_tag": "ABX9TyNk/FJDBF9ys+6D7eiKXN9r",
      "include_colab_link": true
    },
    "kernelspec": {
      "name": "python3",
      "display_name": "Python 3"
    },
    "language_info": {
      "name": "python"
    }
  },
  "cells": [
    {
      "cell_type": "markdown",
      "metadata": {
        "id": "view-in-github",
        "colab_type": "text"
      },
      "source": [
        "<a href=\"https://colab.research.google.com/github/NINJAHATTORI004/csi/blob/main/task6.ipynb\" target=\"_parent\"><img src=\"https://colab.research.google.com/assets/colab-badge.svg\" alt=\"Open In Colab\"/></a>"
      ]
    },
    {
      "cell_type": "code",
      "source": [
        "from sklearn.model_selection import train_test_split, GridSearchCV, RandomizedSearchCV, KFold\n",
        "from sklearn.metrics import accuracy_score, precision_score, recall_score, f1_score\n",
        "from sklearn.ensemble import RandomForestClassifier\n",
        "from sklearn.svm import SVC\n",
        "import pandas as pd\n",
        "import numpy as np\n",
        "\n",
        "# Load dataset from provided CSV\n",
        "data = pd.read_csv('wine.csv')\n",
        "X = data.drop('Wine', axis=1)\n",
        "y = data['Wine']\n",
        "\n",
        "# Split data - using larger test size since dataset is small\n",
        "X_train, X_test, y_train, y_test = train_test_split(X, y, test_size=0.3, random_state=42)\n",
        "\n",
        "# Dynamic cross-validation based on sample size\n",
        "n_splits = min(5, len(X_train))  # Ensure folds don't exceed samples\n",
        "cv_strategy = KFold(n_splits=n_splits, shuffle=True, random_state=42)\n",
        "\n",
        "# Initialize models\n",
        "models = {\n",
        "    'Random Forest': RandomForestClassifier(random_state=42),\n",
        "    'SVM': SVC(random_state=42)\n",
        "}\n",
        "\n",
        "# Evaluate base models\n",
        "results = {}\n",
        "for name, model in models.items():\n",
        "    model.fit(X_train, y_train)\n",
        "    y_pred = model.predict(X_test)\n",
        "\n",
        "    results[name] = {\n",
        "        'Accuracy': accuracy_score(y_test, y_pred),\n",
        "        'Precision': precision_score(y_test, y_pred, average='weighted'),\n",
        "        'Recall': recall_score(y_test, y_pred, average='weighted'),\n",
        "        'F1': f1_score(y_test, y_pred, average='weighted')\n",
        "    }\n",
        "\n",
        "# Hyperparameter tuning with GridSearchCV (Random Forest)\n",
        "param_grid_rf = {\n",
        "    'n_estimators': [50, 100],\n",
        "    'max_depth': [None, 5, 10],\n",
        "    'min_samples_split': [2, 5]\n",
        "}\n",
        "\n",
        "grid_search = GridSearchCV(\n",
        "    estimator=RandomForestClassifier(random_state=42),\n",
        "    param_grid=param_grid_rf,\n",
        "    scoring='f1_weighted',\n",
        "    cv=cv_strategy,  # Use dynamic CV strategy\n",
        "    n_jobs=-1\n",
        ")\n",
        "grid_search.fit(X_train, y_train)\n",
        "best_rf = grid_search.best_estimator_\n",
        "\n",
        "# Hyperparameter tuning with RandomizedSearchCV (SVM)\n",
        "param_dist_svm = {\n",
        "    'C': np.logspace(-2, 2, 5),\n",
        "    'gamma': np.logspace(-2, 2, 5),\n",
        "    'kernel': ['linear', 'rbf']\n",
        "}\n",
        "\n",
        "random_search = RandomizedSearchCV(\n",
        "    estimator=SVC(random_state=42),\n",
        "    param_distributions=param_dist_svm,\n",
        "    n_iter=10,  # Reduced iterations for small dataset\n",
        "    scoring='f1_weighted',\n",
        "    cv=cv_strategy,  # Use dynamic CV strategy\n",
        "    n_jobs=-1,\n",
        "    random_state=42\n",
        ")\n",
        "random_search.fit(X_train, y_train)\n",
        "best_svm = random_search.best_estimator_\n",
        "\n",
        "# Evaluate tuned models\n",
        "tuned_models = {\n",
        "    'Tuned Random Forest': best_rf,\n",
        "    'Tuned SVM': best_svm\n",
        "}\n",
        "\n",
        "for name, model in tuned_models.items():\n",
        "    model.fit(X_train, y_train)\n",
        "    y_pred = model.predict(X_test)\n",
        "\n",
        "    results[name] = {\n",
        "        'Accuracy': accuracy_score(y_test, y_pred),\n",
        "        'Precision': precision_score(y_test, y_pred, average='weighted'),\n",
        "        'Recall': recall_score(y_test, y_pred, average='weighted'),\n",
        "        'F1': f1_score(y_test, y_pred, average='weighted')\n",
        "    }\n",
        "\n",
        "# Compare results\n",
        "results_df = pd.DataFrame(results).T\n",
        "print(results_df.sort_values(by='F1', ascending=False))\n",
        "\n",
        "# Select best model\n",
        "best_model_name = results_df['F1'].idxmax()\n",
        "best_model = tuned_models.get(best_model_name) or models.get(best_model_name)\n",
        "print(f\"\\nBest model: {best_model_name}\")\n",
        "print(f\"Best parameters: {best_model.get_params()}\")\n"
      ],
      "metadata": {
        "colab": {
          "base_uri": "https://localhost:8080/"
        },
        "id": "VNS3200qlNR8",
        "outputId": "bfc0d457-5e7e-4d68-ff5c-18d6f6630fbb"
      },
      "execution_count": 7,
      "outputs": [
        {
          "output_type": "stream",
          "name": "stdout",
          "text": [
            "                     Accuracy  Precision    Recall        F1\n",
            "Random Forest        1.000000   1.000000  1.000000  1.000000\n",
            "Tuned Random Forest  1.000000   1.000000  1.000000  1.000000\n",
            "Tuned SVM            1.000000   1.000000  1.000000  1.000000\n",
            "SVM                  0.759259   0.753704  0.759259  0.723484\n",
            "\n",
            "Best model: Random Forest\n",
            "Best parameters: {'bootstrap': True, 'ccp_alpha': 0.0, 'class_weight': None, 'criterion': 'gini', 'max_depth': None, 'max_features': 'sqrt', 'max_leaf_nodes': None, 'max_samples': None, 'min_impurity_decrease': 0.0, 'min_samples_leaf': 1, 'min_samples_split': 2, 'min_weight_fraction_leaf': 0.0, 'monotonic_cst': None, 'n_estimators': 100, 'n_jobs': None, 'oob_score': False, 'random_state': 42, 'verbose': 0, 'warm_start': False}\n"
          ]
        }
      ]
    }
  ]
}